{
  "nbformat": 4,
  "nbformat_minor": 0,
  "metadata": {
    "colab": {
      "provenance": [],
      "name": "[calibrateai]_hack_day_micro_conference.ipynb",
      "include_colab_link": true
    },
    "kernelspec": {
      "name": "python3",
      "display_name": "Python 3"
    },
    "language_info": {
      "name": "python"
    }
  },
  "cells": [
    {
      "cell_type": "markdown",
      "metadata": {
        "id": "view-in-github",
        "colab_type": "text"
      },
      "source": [
        "<a href=\"https://colab.research.google.com/github/saskinosie/CalibrateAI-5-12-25/blob/main/%5Bcalibrateai%5D_hack_day_micro_conference.ipynb\" target=\"_parent\"><img src=\"https://colab.research.google.com/assets/colab-badge.svg\" alt=\"Open In Colab\"/></a>"
      ]
    },
    {
      "cell_type": "markdown",
      "source": [
        "# Semantic Search with Weaviate's Query Agent, LlamaIndex and Comet\n",
        "\n",
        "##Pre-requisites\n",
        "For this workshop you will need:\n",
        "\n",
        "* A (free) Weaviate Cloud (WCD) account\n",
        "* A cluster set up in WCD\n",
        "* The REST endpoint for your cluster\n",
        "* Your cluster Admin API key\n",
        "* An OpenAI API key\n",
        "\n",
        "In this workshop we will create a Retrieval Augmented Generation system leveraging Weaviate's Query Agent, LlamaIndex and Comet.\n",
        "\n",
        "\n",
        "We’re utilizing LlamaIndex to transform full-text PDF research articles into manageable, structured text chunks. These chunks are enhanced with metadata and section detection logic, then uploaded into a Weaviate vector database to support semantic search over our collection of space medicine literature using natural languge with Weaviate's query agent. In the subsequent woerkshop, we will use Comet's end-to-end model evaluation platform to benchmark our RAG system.\n",
        "\n",
        "### Link to slide deck\n",
        "https://docs.google.com/presentation/d/1UbDpA0dhuHiiSu5vsiv_PPA9HzgzZKcRn7t4zuoFzzA/edit?usp=sharing\n",
        "\n",
        "### Link to repo and instructions for copllecting REST endpoint and API keys\n",
        "https://github.com/saskinosie/CalibrateAI-5-12-25\n",
        "\n",
        "### Link to G-Drive folder with research articles\n",
        " https://drive.google.com/drive/folders/18iu8lGJ0SEZcISkUqc20pecGrb61Mo7s?usp=drive_link"
      ],
      "metadata": {
        "id": "jveaX8o_L8xq"
      }
    },
    {
      "cell_type": "code",
      "execution_count": 37,
      "metadata": {
        "id": "KWxTOKVNAc4k",
        "outputId": "d71ce10a-872f-48e0-a103-6da4ae9878da",
        "colab": {
          "base_uri": "https://localhost:8080/"
        }
      },
      "outputs": [
        {
          "output_type": "stream",
          "name": "stdout",
          "text": [
            "Requirement already satisfied: llama-index in /usr/local/lib/python3.11/dist-packages (0.12.35)\n",
            "Requirement already satisfied: pymupdf in /usr/local/lib/python3.11/dist-packages (1.25.5)\n",
            "Requirement already satisfied: weaviate-client in /usr/local/lib/python3.11/dist-packages (4.14.3)\n",
            "Requirement already satisfied: weaviate-agents in /usr/local/lib/python3.11/dist-packages (0.6.0)\n",
            "Requirement already satisfied: llama-index-agent-openai<0.5,>=0.4.0 in /usr/local/lib/python3.11/dist-packages (from llama-index) (0.4.7)\n",
            "Requirement already satisfied: llama-index-cli<0.5,>=0.4.1 in /usr/local/lib/python3.11/dist-packages (from llama-index) (0.4.1)\n",
            "Requirement already satisfied: llama-index-core<0.13,>=0.12.35 in /usr/local/lib/python3.11/dist-packages (from llama-index) (0.12.35)\n",
            "Requirement already satisfied: llama-index-embeddings-openai<0.4,>=0.3.0 in /usr/local/lib/python3.11/dist-packages (from llama-index) (0.3.1)\n",
            "Requirement already satisfied: llama-index-indices-managed-llama-cloud>=0.4.0 in /usr/local/lib/python3.11/dist-packages (from llama-index) (0.6.11)\n",
            "Requirement already satisfied: llama-index-llms-openai<0.4,>=0.3.0 in /usr/local/lib/python3.11/dist-packages (from llama-index) (0.3.38)\n",
            "Requirement already satisfied: llama-index-multi-modal-llms-openai<0.5,>=0.4.0 in /usr/local/lib/python3.11/dist-packages (from llama-index) (0.4.3)\n",
            "Requirement already satisfied: llama-index-program-openai<0.4,>=0.3.0 in /usr/local/lib/python3.11/dist-packages (from llama-index) (0.3.1)\n",
            "Requirement already satisfied: llama-index-question-gen-openai<0.4,>=0.3.0 in /usr/local/lib/python3.11/dist-packages (from llama-index) (0.3.0)\n",
            "Requirement already satisfied: llama-index-readers-file<0.5,>=0.4.0 in /usr/local/lib/python3.11/dist-packages (from llama-index) (0.4.7)\n",
            "Requirement already satisfied: llama-index-readers-llama-parse>=0.4.0 in /usr/local/lib/python3.11/dist-packages (from llama-index) (0.4.0)\n",
            "Requirement already satisfied: nltk>3.8.1 in /usr/local/lib/python3.11/dist-packages (from llama-index) (3.9.1)\n",
            "Requirement already satisfied: httpx<0.29.0,>=0.26.0 in /usr/local/lib/python3.11/dist-packages (from weaviate-client) (0.28.1)\n",
            "Requirement already satisfied: validators==0.34.0 in /usr/local/lib/python3.11/dist-packages (from weaviate-client) (0.34.0)\n",
            "Requirement already satisfied: authlib<1.3.2,>=1.2.1 in /usr/local/lib/python3.11/dist-packages (from weaviate-client) (1.3.1)\n",
            "Requirement already satisfied: pydantic<3.0.0,>=2.8.0 in /usr/local/lib/python3.11/dist-packages (from weaviate-client) (2.11.4)\n",
            "Requirement already satisfied: grpcio<2.0.0,>=1.66.2 in /usr/local/lib/python3.11/dist-packages (from weaviate-client) (1.71.0)\n",
            "Requirement already satisfied: grpcio-tools<2.0.0,>=1.66.2 in /usr/local/lib/python3.11/dist-packages (from weaviate-client) (1.71.0)\n",
            "Requirement already satisfied: grpcio-health-checking<2.0.0,>=1.66.2 in /usr/local/lib/python3.11/dist-packages (from weaviate-client) (1.71.0)\n",
            "Requirement already satisfied: deprecation<3.0.0,>=2.1.0 in /usr/local/lib/python3.11/dist-packages (from weaviate-client) (2.1.0)\n",
            "Requirement already satisfied: rich>=13.9.4 in /usr/local/lib/python3.11/dist-packages (from weaviate-agents) (13.9.4)\n",
            "Requirement already satisfied: cryptography in /usr/local/lib/python3.11/dist-packages (from authlib<1.3.2,>=1.2.1->weaviate-client) (43.0.3)\n",
            "Requirement already satisfied: packaging in /usr/local/lib/python3.11/dist-packages (from deprecation<3.0.0,>=2.1.0->weaviate-client) (24.2)\n",
            "Requirement already satisfied: protobuf<6.0dev,>=5.26.1 in /usr/local/lib/python3.11/dist-packages (from grpcio-health-checking<2.0.0,>=1.66.2->weaviate-client) (5.29.4)\n",
            "Requirement already satisfied: setuptools in /usr/local/lib/python3.11/dist-packages (from grpcio-tools<2.0.0,>=1.66.2->weaviate-client) (75.2.0)\n",
            "Requirement already satisfied: anyio in /usr/local/lib/python3.11/dist-packages (from httpx<0.29.0,>=0.26.0->weaviate-client) (4.9.0)\n",
            "Requirement already satisfied: certifi in /usr/local/lib/python3.11/dist-packages (from httpx<0.29.0,>=0.26.0->weaviate-client) (2025.4.26)\n",
            "Requirement already satisfied: httpcore==1.* in /usr/local/lib/python3.11/dist-packages (from httpx<0.29.0,>=0.26.0->weaviate-client) (1.0.9)\n",
            "Requirement already satisfied: idna in /usr/local/lib/python3.11/dist-packages (from httpx<0.29.0,>=0.26.0->weaviate-client) (3.10)\n",
            "Requirement already satisfied: h11>=0.16 in /usr/local/lib/python3.11/dist-packages (from httpcore==1.*->httpx<0.29.0,>=0.26.0->weaviate-client) (0.16.0)\n",
            "Requirement already satisfied: openai>=1.14.0 in /usr/local/lib/python3.11/dist-packages (from llama-index-agent-openai<0.5,>=0.4.0->llama-index) (1.76.2)\n",
            "Requirement already satisfied: aiohttp<4,>=3.8.6 in /usr/local/lib/python3.11/dist-packages (from llama-index-core<0.13,>=0.12.35->llama-index) (3.11.15)\n",
            "Requirement already satisfied: aiosqlite in /usr/local/lib/python3.11/dist-packages (from llama-index-core<0.13,>=0.12.35->llama-index) (0.21.0)\n",
            "Requirement already satisfied: banks<3,>=2.0.0 in /usr/local/lib/python3.11/dist-packages (from llama-index-core<0.13,>=0.12.35->llama-index) (2.1.2)\n",
            "Requirement already satisfied: dataclasses-json in /usr/local/lib/python3.11/dist-packages (from llama-index-core<0.13,>=0.12.35->llama-index) (0.6.7)\n",
            "Requirement already satisfied: deprecated>=1.2.9.3 in /usr/local/lib/python3.11/dist-packages (from llama-index-core<0.13,>=0.12.35->llama-index) (1.2.18)\n",
            "Requirement already satisfied: dirtyjson<2,>=1.0.8 in /usr/local/lib/python3.11/dist-packages (from llama-index-core<0.13,>=0.12.35->llama-index) (1.0.8)\n",
            "Requirement already satisfied: filetype<2,>=1.2.0 in /usr/local/lib/python3.11/dist-packages (from llama-index-core<0.13,>=0.12.35->llama-index) (1.2.0)\n",
            "Requirement already satisfied: fsspec>=2023.5.0 in /usr/local/lib/python3.11/dist-packages (from llama-index-core<0.13,>=0.12.35->llama-index) (2025.3.2)\n",
            "Requirement already satisfied: nest-asyncio<2,>=1.5.8 in /usr/local/lib/python3.11/dist-packages (from llama-index-core<0.13,>=0.12.35->llama-index) (1.6.0)\n",
            "Requirement already satisfied: networkx>=3.0 in /usr/local/lib/python3.11/dist-packages (from llama-index-core<0.13,>=0.12.35->llama-index) (3.4.2)\n",
            "Requirement already satisfied: numpy in /usr/local/lib/python3.11/dist-packages (from llama-index-core<0.13,>=0.12.35->llama-index) (2.0.2)\n",
            "Requirement already satisfied: pillow>=9.0.0 in /usr/local/lib/python3.11/dist-packages (from llama-index-core<0.13,>=0.12.35->llama-index) (11.2.1)\n",
            "Requirement already satisfied: pyyaml>=6.0.1 in /usr/local/lib/python3.11/dist-packages (from llama-index-core<0.13,>=0.12.35->llama-index) (6.0.2)\n",
            "Requirement already satisfied: requests>=2.31.0 in /usr/local/lib/python3.11/dist-packages (from llama-index-core<0.13,>=0.12.35->llama-index) (2.32.3)\n",
            "Requirement already satisfied: sqlalchemy>=1.4.49 in /usr/local/lib/python3.11/dist-packages (from sqlalchemy[asyncio]>=1.4.49->llama-index-core<0.13,>=0.12.35->llama-index) (2.0.40)\n",
            "Requirement already satisfied: tenacity!=8.4.0,<10.0.0,>=8.2.0 in /usr/local/lib/python3.11/dist-packages (from llama-index-core<0.13,>=0.12.35->llama-index) (9.1.2)\n",
            "Requirement already satisfied: tiktoken>=0.7.0 in /usr/local/lib/python3.11/dist-packages (from llama-index-core<0.13,>=0.12.35->llama-index) (0.9.0)\n",
            "Requirement already satisfied: tqdm<5,>=4.66.1 in /usr/local/lib/python3.11/dist-packages (from llama-index-core<0.13,>=0.12.35->llama-index) (4.67.1)\n",
            "Requirement already satisfied: typing-extensions>=4.5.0 in /usr/local/lib/python3.11/dist-packages (from llama-index-core<0.13,>=0.12.35->llama-index) (4.13.2)\n",
            "Requirement already satisfied: typing-inspect>=0.8.0 in /usr/local/lib/python3.11/dist-packages (from llama-index-core<0.13,>=0.12.35->llama-index) (0.9.0)\n",
            "Requirement already satisfied: wrapt in /usr/local/lib/python3.11/dist-packages (from llama-index-core<0.13,>=0.12.35->llama-index) (1.17.2)\n",
            "Requirement already satisfied: llama-cloud<0.2.0,>=0.1.13 in /usr/local/lib/python3.11/dist-packages (from llama-index-indices-managed-llama-cloud>=0.4.0->llama-index) (0.1.19)\n",
            "Requirement already satisfied: beautifulsoup4<5.0.0,>=4.12.3 in /usr/local/lib/python3.11/dist-packages (from llama-index-readers-file<0.5,>=0.4.0->llama-index) (4.13.4)\n",
            "Requirement already satisfied: pandas in /usr/local/lib/python3.11/dist-packages (from llama-index-readers-file<0.5,>=0.4.0->llama-index) (2.2.2)\n",
            "Requirement already satisfied: pypdf<6.0.0,>=5.1.0 in /usr/local/lib/python3.11/dist-packages (from llama-index-readers-file<0.5,>=0.4.0->llama-index) (5.5.0)\n",
            "Requirement already satisfied: striprtf<0.0.27,>=0.0.26 in /usr/local/lib/python3.11/dist-packages (from llama-index-readers-file<0.5,>=0.4.0->llama-index) (0.0.26)\n",
            "Requirement already satisfied: llama-parse>=0.5.0 in /usr/local/lib/python3.11/dist-packages (from llama-index-readers-llama-parse>=0.4.0->llama-index) (0.6.22)\n",
            "Requirement already satisfied: click in /usr/local/lib/python3.11/dist-packages (from nltk>3.8.1->llama-index) (8.1.8)\n",
            "Requirement already satisfied: joblib in /usr/local/lib/python3.11/dist-packages (from nltk>3.8.1->llama-index) (1.4.2)\n",
            "Requirement already satisfied: regex>=2021.8.3 in /usr/local/lib/python3.11/dist-packages (from nltk>3.8.1->llama-index) (2024.11.6)\n",
            "Requirement already satisfied: annotated-types>=0.6.0 in /usr/local/lib/python3.11/dist-packages (from pydantic<3.0.0,>=2.8.0->weaviate-client) (0.7.0)\n",
            "Requirement already satisfied: pydantic-core==2.33.2 in /usr/local/lib/python3.11/dist-packages (from pydantic<3.0.0,>=2.8.0->weaviate-client) (2.33.2)\n",
            "Requirement already satisfied: typing-inspection>=0.4.0 in /usr/local/lib/python3.11/dist-packages (from pydantic<3.0.0,>=2.8.0->weaviate-client) (0.4.0)\n",
            "Requirement already satisfied: markdown-it-py>=2.2.0 in /usr/local/lib/python3.11/dist-packages (from rich>=13.9.4->weaviate-agents) (3.0.0)\n",
            "Requirement already satisfied: pygments<3.0.0,>=2.13.0 in /usr/local/lib/python3.11/dist-packages (from rich>=13.9.4->weaviate-agents) (2.19.1)\n",
            "Requirement already satisfied: aiohappyeyeballs>=2.3.0 in /usr/local/lib/python3.11/dist-packages (from aiohttp<4,>=3.8.6->llama-index-core<0.13,>=0.12.35->llama-index) (2.6.1)\n",
            "Requirement already satisfied: aiosignal>=1.1.2 in /usr/local/lib/python3.11/dist-packages (from aiohttp<4,>=3.8.6->llama-index-core<0.13,>=0.12.35->llama-index) (1.3.2)\n",
            "Requirement already satisfied: attrs>=17.3.0 in /usr/local/lib/python3.11/dist-packages (from aiohttp<4,>=3.8.6->llama-index-core<0.13,>=0.12.35->llama-index) (25.3.0)\n",
            "Requirement already satisfied: frozenlist>=1.1.1 in /usr/local/lib/python3.11/dist-packages (from aiohttp<4,>=3.8.6->llama-index-core<0.13,>=0.12.35->llama-index) (1.6.0)\n",
            "Requirement already satisfied: multidict<7.0,>=4.5 in /usr/local/lib/python3.11/dist-packages (from aiohttp<4,>=3.8.6->llama-index-core<0.13,>=0.12.35->llama-index) (6.4.3)\n",
            "Requirement already satisfied: propcache>=0.2.0 in /usr/local/lib/python3.11/dist-packages (from aiohttp<4,>=3.8.6->llama-index-core<0.13,>=0.12.35->llama-index) (0.3.1)\n",
            "Requirement already satisfied: yarl<2.0,>=1.17.0 in /usr/local/lib/python3.11/dist-packages (from aiohttp<4,>=3.8.6->llama-index-core<0.13,>=0.12.35->llama-index) (1.20.0)\n",
            "Requirement already satisfied: griffe in /usr/local/lib/python3.11/dist-packages (from banks<3,>=2.0.0->llama-index-core<0.13,>=0.12.35->llama-index) (1.7.3)\n",
            "Requirement already satisfied: jinja2 in /usr/local/lib/python3.11/dist-packages (from banks<3,>=2.0.0->llama-index-core<0.13,>=0.12.35->llama-index) (3.1.6)\n",
            "Requirement already satisfied: platformdirs in /usr/local/lib/python3.11/dist-packages (from banks<3,>=2.0.0->llama-index-core<0.13,>=0.12.35->llama-index) (4.3.7)\n",
            "Requirement already satisfied: soupsieve>1.2 in /usr/local/lib/python3.11/dist-packages (from beautifulsoup4<5.0.0,>=4.12.3->llama-index-readers-file<0.5,>=0.4.0->llama-index) (2.7)\n",
            "Requirement already satisfied: llama-cloud-services>=0.6.22 in /usr/local/lib/python3.11/dist-packages (from llama-parse>=0.5.0->llama-index-readers-llama-parse>=0.4.0->llama-index) (0.6.22)\n",
            "Requirement already satisfied: mdurl~=0.1 in /usr/local/lib/python3.11/dist-packages (from markdown-it-py>=2.2.0->rich>=13.9.4->weaviate-agents) (0.1.2)\n",
            "Requirement already satisfied: distro<2,>=1.7.0 in /usr/local/lib/python3.11/dist-packages (from openai>=1.14.0->llama-index-agent-openai<0.5,>=0.4.0->llama-index) (1.9.0)\n",
            "Requirement already satisfied: jiter<1,>=0.4.0 in /usr/local/lib/python3.11/dist-packages (from openai>=1.14.0->llama-index-agent-openai<0.5,>=0.4.0->llama-index) (0.9.0)\n",
            "Requirement already satisfied: sniffio in /usr/local/lib/python3.11/dist-packages (from openai>=1.14.0->llama-index-agent-openai<0.5,>=0.4.0->llama-index) (1.3.1)\n",
            "Requirement already satisfied: charset-normalizer<4,>=2 in /usr/local/lib/python3.11/dist-packages (from requests>=2.31.0->llama-index-core<0.13,>=0.12.35->llama-index) (3.4.1)\n",
            "Requirement already satisfied: urllib3<3,>=1.21.1 in /usr/local/lib/python3.11/dist-packages (from requests>=2.31.0->llama-index-core<0.13,>=0.12.35->llama-index) (2.4.0)\n",
            "Requirement already satisfied: greenlet>=1 in /usr/local/lib/python3.11/dist-packages (from sqlalchemy>=1.4.49->sqlalchemy[asyncio]>=1.4.49->llama-index-core<0.13,>=0.12.35->llama-index) (3.2.1)\n",
            "Requirement already satisfied: mypy-extensions>=0.3.0 in /usr/local/lib/python3.11/dist-packages (from typing-inspect>=0.8.0->llama-index-core<0.13,>=0.12.35->llama-index) (1.1.0)\n",
            "Requirement already satisfied: cffi>=1.12 in /usr/local/lib/python3.11/dist-packages (from cryptography->authlib<1.3.2,>=1.2.1->weaviate-client) (1.17.1)\n",
            "Requirement already satisfied: marshmallow<4.0.0,>=3.18.0 in /usr/local/lib/python3.11/dist-packages (from dataclasses-json->llama-index-core<0.13,>=0.12.35->llama-index) (3.26.1)\n",
            "Requirement already satisfied: python-dateutil>=2.8.2 in /usr/local/lib/python3.11/dist-packages (from pandas->llama-index-readers-file<0.5,>=0.4.0->llama-index) (2.9.0.post0)\n",
            "Requirement already satisfied: pytz>=2020.1 in /usr/local/lib/python3.11/dist-packages (from pandas->llama-index-readers-file<0.5,>=0.4.0->llama-index) (2025.2)\n",
            "Requirement already satisfied: tzdata>=2022.7 in /usr/local/lib/python3.11/dist-packages (from pandas->llama-index-readers-file<0.5,>=0.4.0->llama-index) (2025.2)\n",
            "Requirement already satisfied: pycparser in /usr/local/lib/python3.11/dist-packages (from cffi>=1.12->cryptography->authlib<1.3.2,>=1.2.1->weaviate-client) (2.22)\n",
            "Requirement already satisfied: python-dotenv<2.0.0,>=1.0.1 in /usr/local/lib/python3.11/dist-packages (from llama-cloud-services>=0.6.22->llama-parse>=0.5.0->llama-index-readers-llama-parse>=0.4.0->llama-index) (1.1.0)\n",
            "Requirement already satisfied: six>=1.5 in /usr/local/lib/python3.11/dist-packages (from python-dateutil>=2.8.2->pandas->llama-index-readers-file<0.5,>=0.4.0->llama-index) (1.17.0)\n",
            "Requirement already satisfied: colorama>=0.4 in /usr/local/lib/python3.11/dist-packages (from griffe->banks<3,>=2.0.0->llama-index-core<0.13,>=0.12.35->llama-index) (0.4.6)\n",
            "Requirement already satisfied: MarkupSafe>=2.0 in /usr/local/lib/python3.11/dist-packages (from jinja2->banks<3,>=2.0.0->llama-index-core<0.13,>=0.12.35->llama-index) (3.0.2)\n"
          ]
        }
      ],
      "source": [
        "!pip install llama-index pymupdf weaviate-client weaviate-agents\n"
      ]
    },
    {
      "cell_type": "code",
      "source": [
        "import fitz  # PyMuPDF\n",
        "import json\n",
        "import re\n",
        "import requests\n",
        "from llama_index.core import Document\n",
        "from llama_index.core.node_parser import HierarchicalNodeParser\n",
        "import weaviate"
      ],
      "metadata": {
        "id": "mxgSh8ZkFTcG"
      },
      "execution_count": 38,
      "outputs": []
    },
    {
      "cell_type": "code",
      "source": [
        "from google.colab import userdata\n",
        "\n",
        "WEAVIATE_URL = userdata.get(\"WEAVIATE_URL\")\n",
        "WEAVIATE_API_KEY = userdata.get(\"WEAVIATE_API_KEY\")\n",
        "OPENAI_API_KEY = userdata.get(\"OPENAI_API_KEY\")\n",
        "\n",
        "print(\"Weaviate URL:\", WEAVIATE_URL)\n",
        "print(\"Weaviate API Key:\", WEAVIATE_API_KEY)\n"
      ],
      "metadata": {
        "id": "MomG5MNPAh85",
        "outputId": "3aceaeba-fa8b-47d4-bfb8-dd8705ac9f78",
        "colab": {
          "base_uri": "https://localhost:8080/"
        }
      },
      "execution_count": 39,
      "outputs": [
        {
          "output_type": "stream",
          "name": "stdout",
          "text": [
            "Weaviate URL: https://rwxzavyuspepzg2fkhjag.c0.us-west3.gcp.weaviate.cloud\n",
            "Weaviate API Key: IwgDlvGkKqzCylsFoLh6wAuPgYqY9bvyp7yR\n"
          ]
        }
      ]
    },
    {
      "cell_type": "code",
      "source": [
        "client = weaviate.connect_to_weaviate_cloud(\n",
        "    WEAVIATE_URL,\n",
        "    auth_credentials=weaviate.AuthApiKey(WEAVIATE_API_KEY),\n",
        "    headers={\n",
        "        \"X-OpenAI-Api-Key\": OPENAI_API_KEY\n",
        "    }\n",
        ")"
      ],
      "metadata": {
        "id": "n0Mh5vLSFApA"
      },
      "execution_count": 40,
      "outputs": []
    },
    {
      "cell_type": "code",
      "source": [
        "assert client.is_ready(), \"Weaviate client is not ready. Check credentials and endpoint.\"\n"
      ],
      "metadata": {
        "id": "KhG_pHeeGw7U"
      },
      "execution_count": 41,
      "outputs": []
    },
    {
      "cell_type": "code",
      "source": [
        "client.is_ready()"
      ],
      "metadata": {
        "id": "IHgm4vnhG0F6",
        "outputId": "90d6b4d9-b086-4de7-97ef-deceeefa8161",
        "colab": {
          "base_uri": "https://localhost:8080/"
        }
      },
      "execution_count": 42,
      "outputs": [
        {
          "output_type": "execute_result",
          "data": {
            "text/plain": [
              "True"
            ]
          },
          "metadata": {},
          "execution_count": 42
        }
      ]
    },
    {
      "cell_type": "code",
      "source": [
        "from weaviate.classes.config import Configure\n",
        "\n",
        "if client.collections.exists(\"SpaceMedResearch\"):\n",
        "    client.collections.delete(\"SpaceMedResearch\")\n",
        "\n",
        "client.collections.create(\n",
        "    name = \"SpaceMedResearch\",\n",
        "    vectorizer_config= [\n",
        "            Configure.NamedVectors.text2vec_weaviate(\n",
        "                name=\"main_vector\",\n",
        "                model=\"Snowflake/snowflake-arctic-embed-l-v2.0\",\n",
        "                source_properties=[\"title\", \"content\"],\n",
        "            )\n",
        "        ],\n",
        "    )\n"
      ],
      "metadata": {
        "id": "iDUSO2_0Inr_",
        "outputId": "d1a46afd-c432-4896-fd40-0df23adea70d",
        "colab": {
          "base_uri": "https://localhost:8080/"
        }
      },
      "execution_count": 43,
      "outputs": [
        {
          "output_type": "execute_result",
          "data": {
            "text/plain": [
              "<weaviate.collections.collection.sync.Collection at 0x7873a21603d0>"
            ]
          },
          "metadata": {},
          "execution_count": 43
        }
      ]
    },
    {
      "cell_type": "code",
      "source": [
        "gdrive_links = [\n",
        "    \"https://drive.google.com/file/d/1bNX5nZTif8roMK1bFaJmHF6wxapi5YDg/view?usp=sharing\",\n",
        "    \"https://drive.google.com/file/d/1FZkvMOyTP_-kSIyx9VewaV9tP_XwpZXK/view?usp=drive_link\",\n",
        "    \"https://drive.google.com/file/d/1jfcCLHmAazvs7DnAhd3jS0LOb7qOctMc/view?usp=drive_link\",\n",
        "    \"https://drive.google.com/file/d/1K8D6VOe2aAX6tIfJWzF2-9zWbqH0C_wp/view?usp=drive_link\",\n",
        "    \"https://drive.google.com/file/d/12ee59tcUcxotC1NFfz0EaLNWAAqakKDk/view?usp=drive_link\",\n",
        "    \"https://drive.google.com/file/d/115LBMKIobYRdqKWqL2uR1VWoPS5zqoZq/view?usp=drive_link\",\n",
        "    \"https://drive.google.com/file/d/1CcjaMYUIQNJ2S4nFGHIh0hpkeG158-Ag/view?usp=drive_link\",\n",
        "    \"https://drive.google.com/file/d/1eR6rTQcYw_q4Lob2JFB2_cnND9U2VivA/view?usp=drive_link\",\n",
        "    \"https://drive.google.com/file/d/1Gw9UQGNIcDTLpCaamYm4WoeYqUVlKsAG/view?usp=drive_link\",\n",
        "    \"https://drive.google.com/file/d/1E961JtImN2eis_IxK5EZS3JaqhXkyhK8/view?usp=drive_link\",\n",
        "    \"https://drive.google.com/file/d/1G5xQ10Ijjhrnm_Uq_hl2OgXNaKERfB3G/view?usp=drive_link\",\n",
        "    \"https://drive.google.com/file/d/1u-nmLQIvBdcRomCo__yvoCCVNHV3AiKg/view?usp=drive_link\",\n",
        "    \"https://drive.google.com/file/d/1cfF_cRkvfaTw5BTpiMxalw0Bc-IdBBnO/view?usp=drive_link\",\n",
        "    \"https://drive.google.com/file/d/1WSMqabWY4pElGrQjVVkkaJ8NNEuP6T10/view?usp=drive_link\",\n",
        "    \"https://drive.google.com/file/d/11bCbFObW-51XE0lMS3sz5-VYvWsxctRm/view?usp=drive_link\",\n",
        "    \"https://drive.google.com/file/d/13AFfg8doORRytR3IXfTOmL1vpp6hsCuG/view?usp=drive_link\",\n",
        "    \"https://drive.google.com/file/d/1k8QYuAsyzkMTJA-KzPrOX2BToKmzSr3l/view?usp=drive_link\",\n",
        "    \"https://drive.google.com/file/d/1HQJ-WPOXE_CT4bVmuZ4LaZ5GKK8MIgXB/view?usp=sharing\",\n",
        "    \"https://drive.google.com/file/d/1sqeJmEmP-3eTTFgTbxTSmS69kiH-K46H/view?usp=sharing\"\n",
        "\n",
        "\n",
        "]"
      ],
      "metadata": {
        "id": "hn17StwIHzM4"
      },
      "execution_count": 48,
      "outputs": []
    },
    {
      "cell_type": "code",
      "source": [
        "# PDF wrangling function and chunk setup\n",
        "\n",
        "def download_google_drive_pdf(share_url, output_folder=\"downloads\"):\n",
        "    os.makedirs(output_folder, exist_ok=True)\n",
        "    file_id_match = re.search(r\"/d/([^/]+)\", share_url)\n",
        "    if not file_id_match:\n",
        "        raise ValueError(f\"Invalid Google Drive URL: {share_url}\")\n",
        "    file_id = file_id_match.group(1)\n",
        "    download_url = f\"https://drive.google.com/uc?export=download&id={file_id}\"\n",
        "    response = requests.get(download_url)\n",
        "    pdf_path = os.path.join(output_folder, f\"{file_id}.pdf\")\n",
        "    with open(pdf_path, \"wb\") as f:\n",
        "        f.write(response.content)\n",
        "    return pdf_path\n",
        "\n",
        "def extract_text(filepath):\n",
        "    doc = fitz.open(filepath)\n",
        "    return \"\\n\".join(page.get_text(\"text\") for page in doc)\n",
        "\n",
        "def extract_title(text):\n",
        "    candidate_block = text[:1000]\n",
        "    lines = [line.strip() for line in candidate_block.split(\"\\n\") if line.strip()]\n",
        "    for i, line in enumerate(lines):\n",
        "        if line.lower() != line and len(line.split()) > 5 and not line.endswith(\":\") and i < 5:\n",
        "            return line\n",
        "    return \"Unknown Title\"\n",
        "\n",
        "def slugify(text):\n",
        "    text = text.lower()\n",
        "    text = re.sub(r\"[^\\w\\s-]\", \"\", text)\n",
        "    text = re.sub(r\"\\s+\", \"-\", text)\n",
        "    return text.strip(\"-\")\n",
        "\n",
        "def detect_section(text_chunk, chunk_index=0):\n",
        "    lowered = text_chunk.lower()\n",
        "    if \"introduction\" in lowered[:150] or chunk_index == 0:\n",
        "        return \"Introduction\"\n",
        "    elif \"methods\" in lowered[:150] or \"materials and methods\" in lowered[:150]:\n",
        "        return \"Methods\"\n",
        "    elif \"results\" in lowered[:150]:\n",
        "        return \"Results\"\n",
        "    elif \"discussion\" in lowered[:150]:\n",
        "        return \"Discussion\"\n",
        "    elif \"conclusion\" in lowered[:150]:\n",
        "        return \"Conclusion\"\n",
        "    else:\n",
        "        return \"Unknown\"\n",
        "\n",
        "def chunk_for_weaviate(text, title=None):\n",
        "    from llama_index.core.node_parser import HierarchicalNodeParser\n",
        "    from llama_index.core.text_splitter import SentenceSplitter\n",
        "\n",
        "    if not title:\n",
        "        title = extract_title(text)\n",
        "    slug = slugify(title)\n",
        "    document = Document(text=text, metadata={\"title\": title, \"slug\": slug})\n",
        "\n",
        "    # Create hierarchical parser directly without parameters\n",
        "    # The latest version may not accept parameters in from_defaults()\n",
        "    parser = HierarchicalNodeParser.from_defaults()\n",
        "\n",
        "    # Configure it after creation if needed\n",
        "    # This approach is more compatible with different versions\n",
        "\n",
        "    nodes = parser.get_nodes_from_documents([document])\n",
        "\n",
        "    # Further chunk the nodes if they're too large using SentenceSplitter\n",
        "    text_splitter = SentenceSplitter(chunk_size=512, chunk_overlap=50)\n",
        "    smaller_nodes = []\n",
        "    for node in nodes:\n",
        "        split_texts = text_splitter.split_text(node.text)\n",
        "        for i, split_text in enumerate(split_texts):\n",
        "          smaller_nodes.append({\n",
        "              \"text\": split_text,\n",
        "              \"metadata\": {\n",
        "                  \"title\": title,\n",
        "                  \"slug\": slug,\n",
        "                  \"section\": detect_section(split_text, chunk_index=i)\n",
        "                  }\n",
        "              })\n",
        "\n",
        "\n",
        "    return smaller_nodes\n",
        "\n"
      ],
      "metadata": {
        "id": "VqdsmnlxOZ1n"
      },
      "execution_count": 49,
      "outputs": []
    },
    {
      "cell_type": "code",
      "source": [
        "# Chunking Function\n",
        "\n",
        "def process_gdrive_links(gdrive_links, output_path=\"demo_chunks.json\"):\n",
        "    all_chunks = []\n",
        "    for link in gdrive_links:\n",
        "        print(f\"Processing: {link}\")\n",
        "        try:\n",
        "            pdf_path = download_google_drive_pdf(link)\n",
        "            text = extract_text(pdf_path)\n",
        "            chunks = chunk_for_weaviate(text)\n",
        "            all_chunks.extend(chunks)\n",
        "        except Exception as e:\n",
        "            print(f\"❌ Failed to process {link}: {e}\")\n",
        "\n",
        "    with open(output_path, \"w\", encoding=\"utf-8\") as f:\n",
        "        json.dump(all_chunks, f, ensure_ascii=False, indent=2)\n",
        "    print(f\"\\n✅ Saved {len(all_chunks)} chunks to {output_path}\")"
      ],
      "metadata": {
        "id": "VWsmZt-dV4wb"
      },
      "execution_count": 50,
      "outputs": []
    },
    {
      "cell_type": "code",
      "source": [
        "# Chunk PDFs\n",
        "import os\n",
        "process_gdrive_links(gdrive_links, output_path=\"demo_chunks.json\")"
      ],
      "metadata": {
        "id": "z67X_4UnH4xG",
        "outputId": "c617b79a-95ab-4dbe-ec42-4750054475f2",
        "colab": {
          "base_uri": "https://localhost:8080/"
        }
      },
      "execution_count": 51,
      "outputs": [
        {
          "output_type": "stream",
          "name": "stdout",
          "text": [
            "Processing: https://drive.google.com/file/d/1bNX5nZTif8roMK1bFaJmHF6wxapi5YDg/view?usp=sharing\n",
            "Processing: https://drive.google.com/file/d/1FZkvMOyTP_-kSIyx9VewaV9tP_XwpZXK/view?usp=drive_link\n",
            "Processing: https://drive.google.com/file/d/1jfcCLHmAazvs7DnAhd3jS0LOb7qOctMc/view?usp=drive_link\n",
            "Processing: https://drive.google.com/file/d/1K8D6VOe2aAX6tIfJWzF2-9zWbqH0C_wp/view?usp=drive_link\n",
            "Processing: https://drive.google.com/file/d/12ee59tcUcxotC1NFfz0EaLNWAAqakKDk/view?usp=drive_link\n",
            "Processing: https://drive.google.com/file/d/115LBMKIobYRdqKWqL2uR1VWoPS5zqoZq/view?usp=drive_link\n",
            "Processing: https://drive.google.com/file/d/1CcjaMYUIQNJ2S4nFGHIh0hpkeG158-Ag/view?usp=drive_link\n",
            "Processing: https://drive.google.com/file/d/1eR6rTQcYw_q4Lob2JFB2_cnND9U2VivA/view?usp=drive_link\n",
            "Processing: https://drive.google.com/file/d/1Gw9UQGNIcDTLpCaamYm4WoeYqUVlKsAG/view?usp=drive_link\n",
            "Processing: https://drive.google.com/file/d/1E961JtImN2eis_IxK5EZS3JaqhXkyhK8/view?usp=drive_link\n",
            "Processing: https://drive.google.com/file/d/1G5xQ10Ijjhrnm_Uq_hl2OgXNaKERfB3G/view?usp=drive_link\n",
            "Processing: https://drive.google.com/file/d/1u-nmLQIvBdcRomCo__yvoCCVNHV3AiKg/view?usp=drive_link\n",
            "Processing: https://drive.google.com/file/d/1cfF_cRkvfaTw5BTpiMxalw0Bc-IdBBnO/view?usp=drive_link\n",
            "Processing: https://drive.google.com/file/d/1WSMqabWY4pElGrQjVVkkaJ8NNEuP6T10/view?usp=drive_link\n",
            "Processing: https://drive.google.com/file/d/11bCbFObW-51XE0lMS3sz5-VYvWsxctRm/view?usp=drive_link\n",
            "Processing: https://drive.google.com/file/d/13AFfg8doORRytR3IXfTOmL1vpp6hsCuG/view?usp=drive_link\n",
            "Processing: https://drive.google.com/file/d/1k8QYuAsyzkMTJA-KzPrOX2BToKmzSr3l/view?usp=drive_link\n",
            "Processing: https://drive.google.com/file/d/1HQJ-WPOXE_CT4bVmuZ4LaZ5GKK8MIgXB/view?usp=sharing\n",
            "Processing: https://drive.google.com/file/d/1sqeJmEmP-3eTTFgTbxTSmS69kiH-K46H/view?usp=sharing\n",
            "\n",
            "✅ Saved 5089 chunks to demo_chunks.json\n"
          ]
        }
      ]
    },
    {
      "cell_type": "code",
      "source": [
        "# Function to batch upload to Weaviate (including UUIDs)\n",
        "def bulk_upload_space_chunks_to_weaviate(json_file_path, collection_name=\"SpaceMedResearch\"):\n",
        "    import weaviate\n",
        "    from google.colab import userdata\n",
        "    from weaviate.util import generate_uuid5\n",
        "\n",
        "    # Client initialization\n",
        "    WEAVIATE_URL = userdata.get(\"WEAVIATE_URL\")\n",
        "    WEAVIATE_API_KEY = userdata.get(\"WEAVIATE_API_KEY\")\n",
        "    OPENAI_API_KEY = userdata.get(\"OPENAI_API_KEY\")\n",
        "\n",
        "    client = weaviate.connect_to_weaviate_cloud(\n",
        "        WEAVIATE_URL,\n",
        "        auth_credentials=weaviate.AuthApiKey(WEAVIATE_API_KEY),\n",
        "        headers={\n",
        "            \"X-OpenAI-Api-Key\": OPENAI_API_KEY\n",
        "        }\n",
        "    )\n",
        "\n",
        "    docs_collection = client.collections.get(collection_name)\n",
        "\n",
        "    with open(json_file_path, \"r\", encoding=\"utf-8\") as f:\n",
        "        chunks = json.load(f)\n",
        "\n",
        "    successful_uploads = 0\n",
        "\n",
        "    with docs_collection.batch.fixed_size(batch_size=100, concurrent_requests=2) as batch:\n",
        "        for i, chunk in enumerate(chunks):\n",
        "            text = chunk.get(\"text\", \"\")\n",
        "            metadata = chunk.get(\"metadata\", {})\n",
        "\n",
        "            # Create a unique ID by combining title with chunk index and first 20 chars of text\n",
        "            unique_id = f\"{metadata.get('title', 'unknown')}-chunk-{i}-{text[:20]}\"\n",
        "            uid = generate_uuid5(unique_id)\n",
        "\n",
        "            batch.add_object(\n",
        "                properties={\n",
        "                    \"content\": text,\n",
        "                    \"title\": metadata.get(\"title\", \"unknown\"),\n",
        "                    \"slug\": metadata.get(\"slug\", \"unknown\"),\n",
        "                    \"section\": metadata.get(\"section\", \"unknown\")\n",
        "                },\n",
        "                uuid=uid\n",
        "            )\n",
        "            successful_uploads += 1\n",
        "\n",
        "            # Progress indicator\n",
        "            if i % 500 == 0 and i > 0:\n",
        "                print(f\"Progress: {i}/{len(chunks)} chunks processed\")\n",
        "\n",
        "            if batch.number_errors > 10:\n",
        "                print(\"❌ Too many errors during batch import — stopping early.\")\n",
        "                break\n",
        "\n",
        "    # Verify the actual count in the collection\n",
        "    collection_count = docs_collection.aggregate.over_all().total_count\n",
        "    print(f\"✅ Uploaded {successful_uploads} chunks to Weaviate from {json_file_path}\")\n",
        "    print(f\"✅ Collection now contains {collection_count} objects\")"
      ],
      "metadata": {
        "id": "uqExyxKhVChx"
      },
      "execution_count": 52,
      "outputs": []
    },
    {
      "cell_type": "code",
      "source": [
        "# Batch upload\n",
        "bulk_upload_space_chunks_to_weaviate(\"/content/demo_chunks.json\")"
      ],
      "metadata": {
        "id": "NA0zn8wyQuqL",
        "outputId": "756966d3-6e29-4cd2-fe6e-00277c9b0030",
        "colab": {
          "base_uri": "https://localhost:8080/"
        }
      },
      "execution_count": 53,
      "outputs": [
        {
          "output_type": "stream",
          "name": "stdout",
          "text": [
            "Progress: 500/5089 chunks processed\n",
            "Progress: 1000/5089 chunks processed\n",
            "Progress: 1500/5089 chunks processed\n",
            "Progress: 2000/5089 chunks processed\n",
            "Progress: 2500/5089 chunks processed\n",
            "Progress: 3000/5089 chunks processed\n",
            "Progress: 3500/5089 chunks processed\n",
            "Progress: 4000/5089 chunks processed\n",
            "Progress: 4500/5089 chunks processed\n",
            "Progress: 5000/5089 chunks processed\n",
            "✅ Uploaded 5089 chunks to Weaviate from /content/demo_chunks.json\n",
            "✅ Collection now contains 5089 objects\n"
          ]
        }
      ]
    },
    {
      "cell_type": "code",
      "source": [
        "from weaviate.classes.init import Auth\n",
        "# Try importing from weaviate-agents\n",
        "from weaviate_agents.query import QueryAgent\n",
        "\n",
        "# Instantiate agent object, and specify the collections to query\n",
        "qa = QueryAgent(\n",
        "    client=client, collections=[\"SpaceMedResearch\"]\n",
        ")"
      ],
      "metadata": {
        "id": "_rF_MmEBKlJy"
      },
      "execution_count": 54,
      "outputs": []
    },
    {
      "cell_type": "code",
      "source": [
        "# Perform a query\n",
        "response = qa.run(\n",
        "    \"What are the greatest health concerns facing astronauts during their time in space and upon their return to earth?\"\n",
        ")\n",
        "# Print the response\n",
        "response.display()"
      ],
      "metadata": {
        "id": "rISsrg-6KpRH",
        "outputId": "d2a46900-1795-4dce-b2d9-9542ac13ab6e",
        "colab": {
          "base_uri": "https://localhost:8080/",
          "height": 1000
        }
      },
      "execution_count": 55,
      "outputs": [
        {
          "output_type": "display_data",
          "data": {
            "text/plain": [
              "╭─────────────────────────────────────────────── 🔍 Original Query ───────────────────────────────────────────────╮\n",
              "│                                                                                                                 │\n",
              "│ What are the greatest health concerns facing astronauts during their time in space and upon their return to     │\n",
              "│ earth?                                                                                                          │\n",
              "│                                                                                                                 │\n",
              "╰─────────────────────────────────────────────────────────────────────────────────────────────────────────────────╯\n"
            ],
            "text/html": [
              "<pre style=\"white-space:pre;overflow-x:auto;line-height:normal;font-family:Menlo,'DejaVu Sans Mono',consolas,'Courier New',monospace\">╭─────────────────────────────────────────────── 🔍 Original Query ───────────────────────────────────────────────╮\n",
              "│                                                                                                                 │\n",
              "│ What are the greatest health concerns facing astronauts during their time in space and upon their return to     │\n",
              "│ earth?                                                                                                          │\n",
              "│                                                                                                                 │\n",
              "╰─────────────────────────────────────────────────────────────────────────────────────────────────────────────────╯\n",
              "</pre>\n"
            ]
          },
          "metadata": {}
        },
        {
          "output_type": "display_data",
          "data": {
            "text/plain": [
              "\u001b[36m╭─\u001b[0m\u001b[36m───────────────────────────────────────────────\u001b[0m 📝 Final Answer \u001b[36m───────────────────────────────────────────────\u001b[0m\u001b[36m─╮\u001b[0m\n",
              "\u001b[36m│\u001b[0m\u001b[36m                                                                                                                 \u001b[0m\u001b[36m│\u001b[0m\n",
              "\u001b[36m│\u001b[0m\u001b[36m \u001b[0m\u001b[36mDuring their time in space, astronauts face several significant health concerns primarily related to the unique\u001b[0m\u001b[36m \u001b[0m\u001b[36m│\u001b[0m\n",
              "\u001b[36m│\u001b[0m\u001b[36m \u001b[0m\u001b[36menvironment of space. Key issues include genetic, immune system, and metabolic function alterations due to \u001b[0m\u001b[36m    \u001b[0m\u001b[36m \u001b[0m\u001b[36m│\u001b[0m\n",
              "\u001b[36m│\u001b[0m\u001b[36m \u001b[0m\u001b[36mexposure to space radiation, restricted diet, reduced physical activity, disrupted circadian rhythms, and \u001b[0m\u001b[36m     \u001b[0m\u001b[36m \u001b[0m\u001b[36m│\u001b[0m\n",
              "\u001b[36m│\u001b[0m\u001b[36m \u001b[0m\u001b[36mweightlessness. These factors can lead to mitochondrial dysfunction, immunological stress, vascular changes and\u001b[0m\u001b[36m \u001b[0m\u001b[36m│\u001b[0m\n",
              "\u001b[36m│\u001b[0m\u001b[36m \u001b[0m\u001b[36mfluid shifts, and cognitive performance decline. Molecular changes such as alterations in telomere length, gene\u001b[0m\u001b[36m \u001b[0m\u001b[36m│\u001b[0m\n",
              "\u001b[36m│\u001b[0m\u001b[36m \u001b[0m\u001b[36mregulation, and genome integrity have also been observed, which may increase long-term health risks. \u001b[0m\u001b[36m          \u001b[0m\u001b[36m \u001b[0m\u001b[36m│\u001b[0m\n",
              "\u001b[36m│\u001b[0m\u001b[36m \u001b[0m\u001b[36mAdditionally, space missions cause fluid to shift toward the head, which affects vascular pressure and \u001b[0m\u001b[36m        \u001b[0m\u001b[36m \u001b[0m\u001b[36m│\u001b[0m\n",
              "\u001b[36m│\u001b[0m\u001b[36m \u001b[0m\u001b[36mcontributes to ocular problems.\u001b[0m\u001b[36m                                                                                \u001b[0m\u001b[36m \u001b[0m\u001b[36m│\u001b[0m\n",
              "\u001b[36m│\u001b[0m\u001b[36m \u001b[0m\u001b[36m                                                                                                               \u001b[0m\u001b[36m \u001b[0m\u001b[36m│\u001b[0m\n",
              "\u001b[36m│\u001b[0m\u001b[36m \u001b[0m\u001b[36mUpon return to Earth, astronauts face one of the greatest physiological challenges: re-adapting to gravity and \u001b[0m\u001b[36m \u001b[0m\u001b[36m│\u001b[0m\n",
              "\u001b[36m│\u001b[0m\u001b[36m \u001b[0m\u001b[36mEarth conditions. This period is marked by exaggerated or impaired cardiovascular and musculoskeletal responses\u001b[0m\u001b[36m \u001b[0m\u001b[36m│\u001b[0m\n",
              "\u001b[36m│\u001b[0m\u001b[36m \u001b[0m\u001b[36mas well as heightened stress and inflammatory reactions. Astronauts commonly experience spaceflight-associated \u001b[0m\u001b[36m \u001b[0m\u001b[36m│\u001b[0m\n",
              "\u001b[36m│\u001b[0m\u001b[36m \u001b[0m\u001b[36mneuro-ocular syndrome (SANS), which includes symptoms like optic disc edema, hyperopic shifts, retina-related \u001b[0m\u001b[36m \u001b[0m\u001b[36m \u001b[0m\u001b[36m│\u001b[0m\n",
              "\u001b[36m│\u001b[0m\u001b[36m \u001b[0m\u001b[36missues, and other ocular symptoms linked to the headward fluid shifts sustained during spaceflight. Telomere \u001b[0m\u001b[36m  \u001b[0m\u001b[36m \u001b[0m\u001b[36m│\u001b[0m\n",
              "\u001b[36m│\u001b[0m\u001b[36m \u001b[0m\u001b[36mlength tends to shorten after flight, linking to risks akin to aging-related diseases such as cardiovascular \u001b[0m\u001b[36m  \u001b[0m\u001b[36m \u001b[0m\u001b[36m│\u001b[0m\n",
              "\u001b[36m│\u001b[0m\u001b[36m \u001b[0m\u001b[36mdisease and cancer. The recovery period also involves concerns about long-term consequences for cardiovascular,\u001b[0m\u001b[36m \u001b[0m\u001b[36m│\u001b[0m\n",
              "\u001b[36m│\u001b[0m\u001b[36m \u001b[0m\u001b[36mocular, and cognitive health, with ongoing research highlighting the need for personalized health monitoring \u001b[0m\u001b[36m  \u001b[0m\u001b[36m \u001b[0m\u001b[36m│\u001b[0m\n",
              "\u001b[36m│\u001b[0m\u001b[36m \u001b[0m\u001b[36mand potential countermeasures to mitigate these risks for longer and more distant future missions.\u001b[0m\u001b[36m             \u001b[0m\u001b[36m \u001b[0m\u001b[36m│\u001b[0m\n",
              "\u001b[36m│\u001b[0m\u001b[36m                                                                                                                 \u001b[0m\u001b[36m│\u001b[0m\n",
              "\u001b[36m╰─────────────────────────────────────────────────────────────────────────────────────────────────────────────────╯\u001b[0m\n"
            ],
            "text/html": [
              "<pre style=\"white-space:pre;overflow-x:auto;line-height:normal;font-family:Menlo,'DejaVu Sans Mono',consolas,'Courier New',monospace\"><span style=\"color: #008080; text-decoration-color: #008080\">╭────────────────────────────────────────────────</span> 📝 Final Answer <span style=\"color: #008080; text-decoration-color: #008080\">────────────────────────────────────────────────╮</span>\n",
              "<span style=\"color: #008080; text-decoration-color: #008080\">│                                                                                                                 │</span>\n",
              "<span style=\"color: #008080; text-decoration-color: #008080\">│ During their time in space, astronauts face several significant health concerns primarily related to the unique │</span>\n",
              "<span style=\"color: #008080; text-decoration-color: #008080\">│ environment of space. Key issues include genetic, immune system, and metabolic function alterations due to      │</span>\n",
              "<span style=\"color: #008080; text-decoration-color: #008080\">│ exposure to space radiation, restricted diet, reduced physical activity, disrupted circadian rhythms, and       │</span>\n",
              "<span style=\"color: #008080; text-decoration-color: #008080\">│ weightlessness. These factors can lead to mitochondrial dysfunction, immunological stress, vascular changes and │</span>\n",
              "<span style=\"color: #008080; text-decoration-color: #008080\">│ fluid shifts, and cognitive performance decline. Molecular changes such as alterations in telomere length, gene │</span>\n",
              "<span style=\"color: #008080; text-decoration-color: #008080\">│ regulation, and genome integrity have also been observed, which may increase long-term health risks.            │</span>\n",
              "<span style=\"color: #008080; text-decoration-color: #008080\">│ Additionally, space missions cause fluid to shift toward the head, which affects vascular pressure and          │</span>\n",
              "<span style=\"color: #008080; text-decoration-color: #008080\">│ contributes to ocular problems.                                                                                 │</span>\n",
              "<span style=\"color: #008080; text-decoration-color: #008080\">│                                                                                                                 │</span>\n",
              "<span style=\"color: #008080; text-decoration-color: #008080\">│ Upon return to Earth, astronauts face one of the greatest physiological challenges: re-adapting to gravity and  │</span>\n",
              "<span style=\"color: #008080; text-decoration-color: #008080\">│ Earth conditions. This period is marked by exaggerated or impaired cardiovascular and musculoskeletal responses │</span>\n",
              "<span style=\"color: #008080; text-decoration-color: #008080\">│ as well as heightened stress and inflammatory reactions. Astronauts commonly experience spaceflight-associated  │</span>\n",
              "<span style=\"color: #008080; text-decoration-color: #008080\">│ neuro-ocular syndrome (SANS), which includes symptoms like optic disc edema, hyperopic shifts, retina-related   │</span>\n",
              "<span style=\"color: #008080; text-decoration-color: #008080\">│ issues, and other ocular symptoms linked to the headward fluid shifts sustained during spaceflight. Telomere    │</span>\n",
              "<span style=\"color: #008080; text-decoration-color: #008080\">│ length tends to shorten after flight, linking to risks akin to aging-related diseases such as cardiovascular    │</span>\n",
              "<span style=\"color: #008080; text-decoration-color: #008080\">│ disease and cancer. The recovery period also involves concerns about long-term consequences for cardiovascular, │</span>\n",
              "<span style=\"color: #008080; text-decoration-color: #008080\">│ ocular, and cognitive health, with ongoing research highlighting the need for personalized health monitoring    │</span>\n",
              "<span style=\"color: #008080; text-decoration-color: #008080\">│ and potential countermeasures to mitigate these risks for longer and more distant future missions.              │</span>\n",
              "<span style=\"color: #008080; text-decoration-color: #008080\">│                                                                                                                 │</span>\n",
              "<span style=\"color: #008080; text-decoration-color: #008080\">╰─────────────────────────────────────────────────────────────────────────────────────────────────────────────────╯</span>\n",
              "</pre>\n"
            ]
          },
          "metadata": {}
        },
        {
          "output_type": "display_data",
          "data": {
            "text/plain": [
              "\u001b[37m╭─\u001b[0m\u001b[37m──────────────────────────────────────────\u001b[0m 🔭 Searches Executed 1/2 \u001b[37m───────────────────────────────────────────\u001b[0m\u001b[37m─╮\u001b[0m\n",
              "\u001b[37m│\u001b[0m\u001b[37m                                                                                                                 \u001b[0m\u001b[37m│\u001b[0m\n",
              "\u001b[37m│\u001b[0m\u001b[37m \u001b[0m\u001b[1;35mQueryResultWithCollection\u001b[0m\u001b[1;37m(\u001b[0m\u001b[37m                                                                                     \u001b[0m\u001b[37m \u001b[0m\u001b[37m│\u001b[0m\n",
              "\u001b[37m│\u001b[0m\u001b[37m \u001b[0m\u001b[37m    \u001b[0m\u001b[33mqueries\u001b[0m\u001b[37m=\u001b[0m\u001b[1;37m[\u001b[0m\u001b[32m'health concerns facing astronauts during space missions'\u001b[0m\u001b[1;37m]\u001b[0m\u001b[37m,\u001b[0m\u001b[37m                                       \u001b[0m\u001b[37m \u001b[0m\u001b[37m│\u001b[0m\n",
              "\u001b[37m│\u001b[0m\u001b[37m \u001b[0m\u001b[37m    \u001b[0m\u001b[33mfilters\u001b[0m\u001b[37m=\u001b[0m\u001b[1;37m[\u001b[0m\u001b[1;37m[\u001b[0m\u001b[1;37m]\u001b[0m\u001b[1;37m]\u001b[0m\u001b[37m,\u001b[0m\u001b[37m                                                                                              \u001b[0m\u001b[37m \u001b[0m\u001b[37m│\u001b[0m\n",
              "\u001b[37m│\u001b[0m\u001b[37m \u001b[0m\u001b[37m    \u001b[0m\u001b[33mfilter_operators\u001b[0m\u001b[37m=\u001b[0m\u001b[32m'AND'\u001b[0m\u001b[37m,\u001b[0m\u001b[37m                                                                                    \u001b[0m\u001b[37m \u001b[0m\u001b[37m│\u001b[0m\n",
              "\u001b[37m│\u001b[0m\u001b[37m \u001b[0m\u001b[37m    \u001b[0m\u001b[33mcollection\u001b[0m\u001b[37m=\u001b[0m\u001b[32m'SpaceMedResearch'\u001b[0m\u001b[37m                                                                              \u001b[0m\u001b[37m \u001b[0m\u001b[37m│\u001b[0m\n",
              "\u001b[37m│\u001b[0m\u001b[37m \u001b[0m\u001b[1;37m)\u001b[0m\u001b[37m                                                                                                              \u001b[0m\u001b[37m \u001b[0m\u001b[37m│\u001b[0m\n",
              "\u001b[37m│\u001b[0m\u001b[37m                                                                                                                 \u001b[0m\u001b[37m│\u001b[0m\n",
              "\u001b[37m╰─────────────────────────────────────────────────────────────────────────────────────────────────────────────────╯\u001b[0m\n"
            ],
            "text/html": [
              "<pre style=\"white-space:pre;overflow-x:auto;line-height:normal;font-family:Menlo,'DejaVu Sans Mono',consolas,'Courier New',monospace\"><span style=\"color: #c0c0c0; text-decoration-color: #c0c0c0\">╭───────────────────────────────────────────</span> 🔭 Searches Executed 1/2 <span style=\"color: #c0c0c0; text-decoration-color: #c0c0c0\">────────────────────────────────────────────╮</span>\n",
              "<span style=\"color: #c0c0c0; text-decoration-color: #c0c0c0\">│                                                                                                                 │</span>\n",
              "<span style=\"color: #c0c0c0; text-decoration-color: #c0c0c0\">│ </span><span style=\"color: #800080; text-decoration-color: #800080; font-weight: bold\">QueryResultWithCollection</span><span style=\"color: #c0c0c0; text-decoration-color: #c0c0c0; font-weight: bold\">(</span><span style=\"color: #c0c0c0; text-decoration-color: #c0c0c0\">                                                                                      │</span>\n",
              "<span style=\"color: #c0c0c0; text-decoration-color: #c0c0c0\">│     </span><span style=\"color: #808000; text-decoration-color: #808000\">queries</span><span style=\"color: #c0c0c0; text-decoration-color: #c0c0c0\">=</span><span style=\"color: #c0c0c0; text-decoration-color: #c0c0c0; font-weight: bold\">[</span><span style=\"color: #008000; text-decoration-color: #008000\">'health concerns facing astronauts during space missions'</span><span style=\"color: #c0c0c0; text-decoration-color: #c0c0c0; font-weight: bold\">]</span><span style=\"color: #c0c0c0; text-decoration-color: #c0c0c0\">,                                        │</span>\n",
              "<span style=\"color: #c0c0c0; text-decoration-color: #c0c0c0\">│     </span><span style=\"color: #808000; text-decoration-color: #808000\">filters</span><span style=\"color: #c0c0c0; text-decoration-color: #c0c0c0\">=</span><span style=\"color: #c0c0c0; text-decoration-color: #c0c0c0; font-weight: bold\">[[]]</span><span style=\"color: #c0c0c0; text-decoration-color: #c0c0c0\">,                                                                                               │</span>\n",
              "<span style=\"color: #c0c0c0; text-decoration-color: #c0c0c0\">│     </span><span style=\"color: #808000; text-decoration-color: #808000\">filter_operators</span><span style=\"color: #c0c0c0; text-decoration-color: #c0c0c0\">=</span><span style=\"color: #008000; text-decoration-color: #008000\">'AND'</span><span style=\"color: #c0c0c0; text-decoration-color: #c0c0c0\">,                                                                                     │</span>\n",
              "<span style=\"color: #c0c0c0; text-decoration-color: #c0c0c0\">│     </span><span style=\"color: #808000; text-decoration-color: #808000\">collection</span><span style=\"color: #c0c0c0; text-decoration-color: #c0c0c0\">=</span><span style=\"color: #008000; text-decoration-color: #008000\">'SpaceMedResearch'</span><span style=\"color: #c0c0c0; text-decoration-color: #c0c0c0\">                                                                               │</span>\n",
              "<span style=\"color: #c0c0c0; text-decoration-color: #c0c0c0\">│ </span><span style=\"color: #c0c0c0; text-decoration-color: #c0c0c0; font-weight: bold\">)</span><span style=\"color: #c0c0c0; text-decoration-color: #c0c0c0\">                                                                                                               │</span>\n",
              "<span style=\"color: #c0c0c0; text-decoration-color: #c0c0c0\">│                                                                                                                 │</span>\n",
              "<span style=\"color: #c0c0c0; text-decoration-color: #c0c0c0\">╰─────────────────────────────────────────────────────────────────────────────────────────────────────────────────╯</span>\n",
              "</pre>\n"
            ]
          },
          "metadata": {}
        },
        {
          "output_type": "display_data",
          "data": {
            "text/plain": [
              "\u001b[37m╭─\u001b[0m\u001b[37m──────────────────────────────────────────\u001b[0m 🔭 Searches Executed 2/2 \u001b[37m───────────────────────────────────────────\u001b[0m\u001b[37m─╮\u001b[0m\n",
              "\u001b[37m│\u001b[0m\u001b[37m                                                                                                                 \u001b[0m\u001b[37m│\u001b[0m\n",
              "\u001b[37m│\u001b[0m\u001b[37m \u001b[0m\u001b[1;35mQueryResultWithCollection\u001b[0m\u001b[1;37m(\u001b[0m\u001b[37m                                                                                     \u001b[0m\u001b[37m \u001b[0m\u001b[37m│\u001b[0m\n",
              "\u001b[37m│\u001b[0m\u001b[37m \u001b[0m\u001b[37m    \u001b[0m\u001b[33mqueries\u001b[0m\u001b[37m=\u001b[0m\u001b[1;37m[\u001b[0m\u001b[32m'health issues astronauts face upon return to Earth'\u001b[0m\u001b[1;37m]\u001b[0m\u001b[37m,\u001b[0m\u001b[37m                                            \u001b[0m\u001b[37m \u001b[0m\u001b[37m│\u001b[0m\n",
              "\u001b[37m│\u001b[0m\u001b[37m \u001b[0m\u001b[37m    \u001b[0m\u001b[33mfilters\u001b[0m\u001b[37m=\u001b[0m\u001b[1;37m[\u001b[0m\u001b[1;37m[\u001b[0m\u001b[1;37m]\u001b[0m\u001b[1;37m]\u001b[0m\u001b[37m,\u001b[0m\u001b[37m                                                                                              \u001b[0m\u001b[37m \u001b[0m\u001b[37m│\u001b[0m\n",
              "\u001b[37m│\u001b[0m\u001b[37m \u001b[0m\u001b[37m    \u001b[0m\u001b[33mfilter_operators\u001b[0m\u001b[37m=\u001b[0m\u001b[32m'AND'\u001b[0m\u001b[37m,\u001b[0m\u001b[37m                                                                                    \u001b[0m\u001b[37m \u001b[0m\u001b[37m│\u001b[0m\n",
              "\u001b[37m│\u001b[0m\u001b[37m \u001b[0m\u001b[37m    \u001b[0m\u001b[33mcollection\u001b[0m\u001b[37m=\u001b[0m\u001b[32m'SpaceMedResearch'\u001b[0m\u001b[37m                                                                              \u001b[0m\u001b[37m \u001b[0m\u001b[37m│\u001b[0m\n",
              "\u001b[37m│\u001b[0m\u001b[37m \u001b[0m\u001b[1;37m)\u001b[0m\u001b[37m                                                                                                              \u001b[0m\u001b[37m \u001b[0m\u001b[37m│\u001b[0m\n",
              "\u001b[37m│\u001b[0m\u001b[37m                                                                                                                 \u001b[0m\u001b[37m│\u001b[0m\n",
              "\u001b[37m╰─────────────────────────────────────────────────────────────────────────────────────────────────────────────────╯\u001b[0m\n"
            ],
            "text/html": [
              "<pre style=\"white-space:pre;overflow-x:auto;line-height:normal;font-family:Menlo,'DejaVu Sans Mono',consolas,'Courier New',monospace\"><span style=\"color: #c0c0c0; text-decoration-color: #c0c0c0\">╭───────────────────────────────────────────</span> 🔭 Searches Executed 2/2 <span style=\"color: #c0c0c0; text-decoration-color: #c0c0c0\">────────────────────────────────────────────╮</span>\n",
              "<span style=\"color: #c0c0c0; text-decoration-color: #c0c0c0\">│                                                                                                                 │</span>\n",
              "<span style=\"color: #c0c0c0; text-decoration-color: #c0c0c0\">│ </span><span style=\"color: #800080; text-decoration-color: #800080; font-weight: bold\">QueryResultWithCollection</span><span style=\"color: #c0c0c0; text-decoration-color: #c0c0c0; font-weight: bold\">(</span><span style=\"color: #c0c0c0; text-decoration-color: #c0c0c0\">                                                                                      │</span>\n",
              "<span style=\"color: #c0c0c0; text-decoration-color: #c0c0c0\">│     </span><span style=\"color: #808000; text-decoration-color: #808000\">queries</span><span style=\"color: #c0c0c0; text-decoration-color: #c0c0c0\">=</span><span style=\"color: #c0c0c0; text-decoration-color: #c0c0c0; font-weight: bold\">[</span><span style=\"color: #008000; text-decoration-color: #008000\">'health issues astronauts face upon return to Earth'</span><span style=\"color: #c0c0c0; text-decoration-color: #c0c0c0; font-weight: bold\">]</span><span style=\"color: #c0c0c0; text-decoration-color: #c0c0c0\">,                                             │</span>\n",
              "<span style=\"color: #c0c0c0; text-decoration-color: #c0c0c0\">│     </span><span style=\"color: #808000; text-decoration-color: #808000\">filters</span><span style=\"color: #c0c0c0; text-decoration-color: #c0c0c0\">=</span><span style=\"color: #c0c0c0; text-decoration-color: #c0c0c0; font-weight: bold\">[[]]</span><span style=\"color: #c0c0c0; text-decoration-color: #c0c0c0\">,                                                                                               │</span>\n",
              "<span style=\"color: #c0c0c0; text-decoration-color: #c0c0c0\">│     </span><span style=\"color: #808000; text-decoration-color: #808000\">filter_operators</span><span style=\"color: #c0c0c0; text-decoration-color: #c0c0c0\">=</span><span style=\"color: #008000; text-decoration-color: #008000\">'AND'</span><span style=\"color: #c0c0c0; text-decoration-color: #c0c0c0\">,                                                                                     │</span>\n",
              "<span style=\"color: #c0c0c0; text-decoration-color: #c0c0c0\">│     </span><span style=\"color: #808000; text-decoration-color: #808000\">collection</span><span style=\"color: #c0c0c0; text-decoration-color: #c0c0c0\">=</span><span style=\"color: #008000; text-decoration-color: #008000\">'SpaceMedResearch'</span><span style=\"color: #c0c0c0; text-decoration-color: #c0c0c0\">                                                                               │</span>\n",
              "<span style=\"color: #c0c0c0; text-decoration-color: #c0c0c0\">│ </span><span style=\"color: #c0c0c0; text-decoration-color: #c0c0c0; font-weight: bold\">)</span><span style=\"color: #c0c0c0; text-decoration-color: #c0c0c0\">                                                                                                               │</span>\n",
              "<span style=\"color: #c0c0c0; text-decoration-color: #c0c0c0\">│                                                                                                                 │</span>\n",
              "<span style=\"color: #c0c0c0; text-decoration-color: #c0c0c0\">╰─────────────────────────────────────────────────────────────────────────────────────────────────────────────────╯</span>\n",
              "</pre>\n"
            ]
          },
          "metadata": {}
        },
        {
          "output_type": "display_data",
          "data": {
            "text/plain": [
              "\u001b[38;5;167m╭─────────────────────────────────────────────────────────────────────────────────────────────────────────────────╮\u001b[0m\n",
              "\u001b[38;5;167m│\u001b[0m\u001b[38;5;167m                                                                                                                 \u001b[0m\u001b[38;5;167m│\u001b[0m\n",
              "\u001b[38;5;167m│\u001b[0m\u001b[38;5;167m \u001b[0m\u001b[38;5;167m📊 No Aggregations Run\u001b[0m\u001b[38;5;167m                                                                                         \u001b[0m\u001b[38;5;167m \u001b[0m\u001b[38;5;167m│\u001b[0m\n",
              "\u001b[38;5;167m│\u001b[0m\u001b[38;5;167m                                                                                                                 \u001b[0m\u001b[38;5;167m│\u001b[0m\n",
              "\u001b[38;5;167m╰─────────────────────────────────────────────────────────────────────────────────────────────────────────────────╯\u001b[0m\n"
            ],
            "text/html": [
              "<pre style=\"white-space:pre;overflow-x:auto;line-height:normal;font-family:Menlo,'DejaVu Sans Mono',consolas,'Courier New',monospace\"><span style=\"color: #d75f5f; text-decoration-color: #d75f5f\">╭─────────────────────────────────────────────────────────────────────────────────────────────────────────────────╮</span>\n",
              "<span style=\"color: #d75f5f; text-decoration-color: #d75f5f\">│                                                                                                                 │</span>\n",
              "<span style=\"color: #d75f5f; text-decoration-color: #d75f5f\">│ 📊 No Aggregations Run                                                                                          │</span>\n",
              "<span style=\"color: #d75f5f; text-decoration-color: #d75f5f\">│                                                                                                                 │</span>\n",
              "<span style=\"color: #d75f5f; text-decoration-color: #d75f5f\">╰─────────────────────────────────────────────────────────────────────────────────────────────────────────────────╯</span>\n",
              "</pre>\n"
            ]
          },
          "metadata": {}
        },
        {
          "output_type": "display_data",
          "data": {
            "text/plain": [
              "\u001b[37m╭─\u001b[0m\u001b[37m─────────────────────────────────────────────────\u001b[0m 📚 Sources \u001b[37m──────────────────────────────────────────────────\u001b[0m\u001b[37m─╮\u001b[0m\n",
              "\u001b[37m│\u001b[0m\u001b[37m                                                                                                                 \u001b[0m\u001b[37m│\u001b[0m\n",
              "\u001b[37m│\u001b[0m\u001b[37m \u001b[0m\u001b[37m - object_id='8e224630-fbeb-57fc-93de-74155cf4275a' collection='SpaceMedResearch'\u001b[0m\u001b[37m                              \u001b[0m\u001b[37m \u001b[0m\u001b[37m│\u001b[0m\n",
              "\u001b[37m│\u001b[0m\u001b[37m \u001b[0m\u001b[37m - object_id='b5e577ab-4f4c-537b-99eb-afe6d03b79e3' collection='SpaceMedResearch'\u001b[0m\u001b[37m                              \u001b[0m\u001b[37m \u001b[0m\u001b[37m│\u001b[0m\n",
              "\u001b[37m│\u001b[0m\u001b[37m \u001b[0m\u001b[37m - object_id='5b8ce84d-663a-55fe-a6e2-eb9d725921f5' collection='SpaceMedResearch'\u001b[0m\u001b[37m                              \u001b[0m\u001b[37m \u001b[0m\u001b[37m│\u001b[0m\n",
              "\u001b[37m│\u001b[0m\u001b[37m \u001b[0m\u001b[37m - object_id='e59d1d3c-9bfe-57a9-81ab-914f35d9c302' collection='SpaceMedResearch'\u001b[0m\u001b[37m                              \u001b[0m\u001b[37m \u001b[0m\u001b[37m│\u001b[0m\n",
              "\u001b[37m│\u001b[0m\u001b[37m \u001b[0m\u001b[37m - object_id='b6e41a5d-2538-5b49-a0c7-075c6c4e69b2' collection='SpaceMedResearch'\u001b[0m\u001b[37m                              \u001b[0m\u001b[37m \u001b[0m\u001b[37m│\u001b[0m\n",
              "\u001b[37m│\u001b[0m\u001b[37m                                                                                                                 \u001b[0m\u001b[37m│\u001b[0m\n",
              "\u001b[37m╰─────────────────────────────────────────────────────────────────────────────────────────────────────────────────╯\u001b[0m\n"
            ],
            "text/html": [
              "<pre style=\"white-space:pre;overflow-x:auto;line-height:normal;font-family:Menlo,'DejaVu Sans Mono',consolas,'Courier New',monospace\"><span style=\"color: #c0c0c0; text-decoration-color: #c0c0c0\">╭──────────────────────────────────────────────────</span> 📚 Sources <span style=\"color: #c0c0c0; text-decoration-color: #c0c0c0\">───────────────────────────────────────────────────╮</span>\n",
              "<span style=\"color: #c0c0c0; text-decoration-color: #c0c0c0\">│                                                                                                                 │</span>\n",
              "<span style=\"color: #c0c0c0; text-decoration-color: #c0c0c0\">│  - object_id='8e224630-fbeb-57fc-93de-74155cf4275a' collection='SpaceMedResearch'                               │</span>\n",
              "<span style=\"color: #c0c0c0; text-decoration-color: #c0c0c0\">│  - object_id='b5e577ab-4f4c-537b-99eb-afe6d03b79e3' collection='SpaceMedResearch'                               │</span>\n",
              "<span style=\"color: #c0c0c0; text-decoration-color: #c0c0c0\">│  - object_id='5b8ce84d-663a-55fe-a6e2-eb9d725921f5' collection='SpaceMedResearch'                               │</span>\n",
              "<span style=\"color: #c0c0c0; text-decoration-color: #c0c0c0\">│  - object_id='e59d1d3c-9bfe-57a9-81ab-914f35d9c302' collection='SpaceMedResearch'                               │</span>\n",
              "<span style=\"color: #c0c0c0; text-decoration-color: #c0c0c0\">│  - object_id='b6e41a5d-2538-5b49-a0c7-075c6c4e69b2' collection='SpaceMedResearch'                               │</span>\n",
              "<span style=\"color: #c0c0c0; text-decoration-color: #c0c0c0\">│                                                                                                                 │</span>\n",
              "<span style=\"color: #c0c0c0; text-decoration-color: #c0c0c0\">╰─────────────────────────────────────────────────────────────────────────────────────────────────────────────────╯</span>\n",
              "</pre>\n"
            ]
          },
          "metadata": {}
        },
        {
          "output_type": "stream",
          "name": "stdout",
          "text": [
            "\n",
            "\n"
          ]
        },
        {
          "output_type": "display_data",
          "data": {
            "text/plain": [
              "\u001b[3m   📊 Usage Statistics   \u001b[0m\n",
              "┌────────────────┬──────┐\n",
              "│ LLM Requests:  │ 4    │\n",
              "│ Input Tokens:  │ 5816 │\n",
              "│ Output Tokens: │ 480  │\n",
              "│ Total Tokens:  │ 6296 │\n",
              "└────────────────┴──────┘\n"
            ],
            "text/html": [
              "<pre style=\"white-space:pre;overflow-x:auto;line-height:normal;font-family:Menlo,'DejaVu Sans Mono',consolas,'Courier New',monospace\"><span style=\"font-style: italic\">   📊 Usage Statistics   </span>\n",
              "┌────────────────┬──────┐\n",
              "│ LLM Requests:  │ 4    │\n",
              "│ Input Tokens:  │ 5816 │\n",
              "│ Output Tokens: │ 480  │\n",
              "│ Total Tokens:  │ 6296 │\n",
              "└────────────────┴──────┘\n",
              "</pre>\n"
            ]
          },
          "metadata": {}
        },
        {
          "output_type": "display_data",
          "data": {
            "text/plain": [
              "\n",
              "\u001b[1;36mTotal Time Taken:\u001b[0m\u001b[36m \u001b[0m\u001b[1;36m8.\u001b[0m\u001b[36m45s\u001b[0m\n"
            ],
            "text/html": [
              "<pre style=\"white-space:pre;overflow-x:auto;line-height:normal;font-family:Menlo,'DejaVu Sans Mono',consolas,'Courier New',monospace\">\n",
              "<span style=\"color: #008080; text-decoration-color: #008080; font-weight: bold\">Total Time Taken:</span><span style=\"color: #008080; text-decoration-color: #008080\"> </span><span style=\"color: #008080; text-decoration-color: #008080; font-weight: bold\">8.</span><span style=\"color: #008080; text-decoration-color: #008080\">45s</span>\n",
              "</pre>\n"
            ]
          },
          "metadata": {}
        }
      ]
    },
    {
      "cell_type": "code",
      "source": [
        "# Perform a query\n",
        "response = qa.run(\n",
        "    \"What is tyeh best cookie recipe in the world?\"\n",
        ")\n",
        "# Print the response\n",
        "response.display()"
      ],
      "metadata": {
        "id": "dODJmr63KwAC",
        "outputId": "99cccf24-7a25-45d2-9d23-7fcf6192e7e6",
        "colab": {
          "base_uri": "https://localhost:8080/",
          "height": 722
        }
      },
      "execution_count": 56,
      "outputs": [
        {
          "output_type": "display_data",
          "data": {
            "text/plain": [
              "╭─────────────────────────────────────────────── 🔍 Original Query ───────────────────────────────────────────────╮\n",
              "│                                                                                                                 │\n",
              "│ What is tyeh best cookie recipe in the world?                                                                   │\n",
              "│                                                                                                                 │\n",
              "╰─────────────────────────────────────────────────────────────────────────────────────────────────────────────────╯\n"
            ],
            "text/html": [
              "<pre style=\"white-space:pre;overflow-x:auto;line-height:normal;font-family:Menlo,'DejaVu Sans Mono',consolas,'Courier New',monospace\">╭─────────────────────────────────────────────── 🔍 Original Query ───────────────────────────────────────────────╮\n",
              "│                                                                                                                 │\n",
              "│ What is tyeh best cookie recipe in the world?                                                                   │\n",
              "│                                                                                                                 │\n",
              "╰─────────────────────────────────────────────────────────────────────────────────────────────────────────────────╯\n",
              "</pre>\n"
            ]
          },
          "metadata": {}
        },
        {
          "output_type": "display_data",
          "data": {
            "text/plain": [
              "\u001b[36m╭─\u001b[0m\u001b[36m───────────────────────────────────────────────\u001b[0m 📝 Final Answer \u001b[36m───────────────────────────────────────────────\u001b[0m\u001b[36m─╮\u001b[0m\n",
              "\u001b[36m│\u001b[0m\u001b[36m                                                                                                                 \u001b[0m\u001b[36m│\u001b[0m\n",
              "\u001b[36m│\u001b[0m\u001b[36m \u001b[0m\u001b[36mThere are no relevant search or aggregation results detailing any cookie recipes, let alone the best cookie \u001b[0m\u001b[36m   \u001b[0m\u001b[36m \u001b[0m\u001b[36m│\u001b[0m\n",
              "\u001b[36m│\u001b[0m\u001b[36m \u001b[0m\u001b[36mrecipe in the world. Therefore, based on the provided information, it is not possible to determine or recommend\u001b[0m\u001b[36m \u001b[0m\u001b[36m│\u001b[0m\n",
              "\u001b[36m│\u001b[0m\u001b[36m \u001b[0m\u001b[36mthe best cookie recipe.\u001b[0m\u001b[36m                                                                                        \u001b[0m\u001b[36m \u001b[0m\u001b[36m│\u001b[0m\n",
              "\u001b[36m│\u001b[0m\u001b[36m                                                                                                                 \u001b[0m\u001b[36m│\u001b[0m\n",
              "\u001b[36m╰─────────────────────────────────────────────────────────────────────────────────────────────────────────────────╯\u001b[0m\n"
            ],
            "text/html": [
              "<pre style=\"white-space:pre;overflow-x:auto;line-height:normal;font-family:Menlo,'DejaVu Sans Mono',consolas,'Courier New',monospace\"><span style=\"color: #008080; text-decoration-color: #008080\">╭────────────────────────────────────────────────</span> 📝 Final Answer <span style=\"color: #008080; text-decoration-color: #008080\">────────────────────────────────────────────────╮</span>\n",
              "<span style=\"color: #008080; text-decoration-color: #008080\">│                                                                                                                 │</span>\n",
              "<span style=\"color: #008080; text-decoration-color: #008080\">│ There are no relevant search or aggregation results detailing any cookie recipes, let alone the best cookie     │</span>\n",
              "<span style=\"color: #008080; text-decoration-color: #008080\">│ recipe in the world. Therefore, based on the provided information, it is not possible to determine or recommend │</span>\n",
              "<span style=\"color: #008080; text-decoration-color: #008080\">│ the best cookie recipe.                                                                                         │</span>\n",
              "<span style=\"color: #008080; text-decoration-color: #008080\">│                                                                                                                 │</span>\n",
              "<span style=\"color: #008080; text-decoration-color: #008080\">╰─────────────────────────────────────────────────────────────────────────────────────────────────────────────────╯</span>\n",
              "</pre>\n"
            ]
          },
          "metadata": {}
        },
        {
          "output_type": "display_data",
          "data": {
            "text/plain": [
              "\u001b[37m╭─\u001b[0m\u001b[37m──────────────────────────────────────────\u001b[0m 🔭 Searches Executed 1/1 \u001b[37m───────────────────────────────────────────\u001b[0m\u001b[37m─╮\u001b[0m\n",
              "\u001b[37m│\u001b[0m\u001b[37m                                                                                                                 \u001b[0m\u001b[37m│\u001b[0m\n",
              "\u001b[37m│\u001b[0m\u001b[37m \u001b[0m\u001b[1;35mQueryResultWithCollection\u001b[0m\u001b[1;37m(\u001b[0m\u001b[37m                                                                                     \u001b[0m\u001b[37m \u001b[0m\u001b[37m│\u001b[0m\n",
              "\u001b[37m│\u001b[0m\u001b[37m \u001b[0m\u001b[37m    \u001b[0m\u001b[33mqueries\u001b[0m\u001b[37m=\u001b[0m\u001b[1;37m[\u001b[0m\u001b[32m'best cookie recipe'\u001b[0m\u001b[1;37m]\u001b[0m\u001b[37m,\u001b[0m\u001b[37m                                                                            \u001b[0m\u001b[37m \u001b[0m\u001b[37m│\u001b[0m\n",
              "\u001b[37m│\u001b[0m\u001b[37m \u001b[0m\u001b[37m    \u001b[0m\u001b[33mfilters\u001b[0m\u001b[37m=\u001b[0m\u001b[1;37m[\u001b[0m\u001b[1;37m[\u001b[0m\u001b[1;37m]\u001b[0m\u001b[1;37m]\u001b[0m\u001b[37m,\u001b[0m\u001b[37m                                                                                              \u001b[0m\u001b[37m \u001b[0m\u001b[37m│\u001b[0m\n",
              "\u001b[37m│\u001b[0m\u001b[37m \u001b[0m\u001b[37m    \u001b[0m\u001b[33mfilter_operators\u001b[0m\u001b[37m=\u001b[0m\u001b[32m'AND'\u001b[0m\u001b[37m,\u001b[0m\u001b[37m                                                                                    \u001b[0m\u001b[37m \u001b[0m\u001b[37m│\u001b[0m\n",
              "\u001b[37m│\u001b[0m\u001b[37m \u001b[0m\u001b[37m    \u001b[0m\u001b[33mcollection\u001b[0m\u001b[37m=\u001b[0m\u001b[32m'SpaceMedResearch'\u001b[0m\u001b[37m                                                                              \u001b[0m\u001b[37m \u001b[0m\u001b[37m│\u001b[0m\n",
              "\u001b[37m│\u001b[0m\u001b[37m \u001b[0m\u001b[1;37m)\u001b[0m\u001b[37m                                                                                                              \u001b[0m\u001b[37m \u001b[0m\u001b[37m│\u001b[0m\n",
              "\u001b[37m│\u001b[0m\u001b[37m                                                                                                                 \u001b[0m\u001b[37m│\u001b[0m\n",
              "\u001b[37m╰─────────────────────────────────────────────────────────────────────────────────────────────────────────────────╯\u001b[0m\n"
            ],
            "text/html": [
              "<pre style=\"white-space:pre;overflow-x:auto;line-height:normal;font-family:Menlo,'DejaVu Sans Mono',consolas,'Courier New',monospace\"><span style=\"color: #c0c0c0; text-decoration-color: #c0c0c0\">╭───────────────────────────────────────────</span> 🔭 Searches Executed 1/1 <span style=\"color: #c0c0c0; text-decoration-color: #c0c0c0\">────────────────────────────────────────────╮</span>\n",
              "<span style=\"color: #c0c0c0; text-decoration-color: #c0c0c0\">│                                                                                                                 │</span>\n",
              "<span style=\"color: #c0c0c0; text-decoration-color: #c0c0c0\">│ </span><span style=\"color: #800080; text-decoration-color: #800080; font-weight: bold\">QueryResultWithCollection</span><span style=\"color: #c0c0c0; text-decoration-color: #c0c0c0; font-weight: bold\">(</span><span style=\"color: #c0c0c0; text-decoration-color: #c0c0c0\">                                                                                      │</span>\n",
              "<span style=\"color: #c0c0c0; text-decoration-color: #c0c0c0\">│     </span><span style=\"color: #808000; text-decoration-color: #808000\">queries</span><span style=\"color: #c0c0c0; text-decoration-color: #c0c0c0\">=</span><span style=\"color: #c0c0c0; text-decoration-color: #c0c0c0; font-weight: bold\">[</span><span style=\"color: #008000; text-decoration-color: #008000\">'best cookie recipe'</span><span style=\"color: #c0c0c0; text-decoration-color: #c0c0c0; font-weight: bold\">]</span><span style=\"color: #c0c0c0; text-decoration-color: #c0c0c0\">,                                                                             │</span>\n",
              "<span style=\"color: #c0c0c0; text-decoration-color: #c0c0c0\">│     </span><span style=\"color: #808000; text-decoration-color: #808000\">filters</span><span style=\"color: #c0c0c0; text-decoration-color: #c0c0c0\">=</span><span style=\"color: #c0c0c0; text-decoration-color: #c0c0c0; font-weight: bold\">[[]]</span><span style=\"color: #c0c0c0; text-decoration-color: #c0c0c0\">,                                                                                               │</span>\n",
              "<span style=\"color: #c0c0c0; text-decoration-color: #c0c0c0\">│     </span><span style=\"color: #808000; text-decoration-color: #808000\">filter_operators</span><span style=\"color: #c0c0c0; text-decoration-color: #c0c0c0\">=</span><span style=\"color: #008000; text-decoration-color: #008000\">'AND'</span><span style=\"color: #c0c0c0; text-decoration-color: #c0c0c0\">,                                                                                     │</span>\n",
              "<span style=\"color: #c0c0c0; text-decoration-color: #c0c0c0\">│     </span><span style=\"color: #808000; text-decoration-color: #808000\">collection</span><span style=\"color: #c0c0c0; text-decoration-color: #c0c0c0\">=</span><span style=\"color: #008000; text-decoration-color: #008000\">'SpaceMedResearch'</span><span style=\"color: #c0c0c0; text-decoration-color: #c0c0c0\">                                                                               │</span>\n",
              "<span style=\"color: #c0c0c0; text-decoration-color: #c0c0c0\">│ </span><span style=\"color: #c0c0c0; text-decoration-color: #c0c0c0; font-weight: bold\">)</span><span style=\"color: #c0c0c0; text-decoration-color: #c0c0c0\">                                                                                                               │</span>\n",
              "<span style=\"color: #c0c0c0; text-decoration-color: #c0c0c0\">│                                                                                                                 │</span>\n",
              "<span style=\"color: #c0c0c0; text-decoration-color: #c0c0c0\">╰─────────────────────────────────────────────────────────────────────────────────────────────────────────────────╯</span>\n",
              "</pre>\n"
            ]
          },
          "metadata": {}
        },
        {
          "output_type": "display_data",
          "data": {
            "text/plain": [
              "\u001b[38;5;167m╭─────────────────────────────────────────────────────────────────────────────────────────────────────────────────╮\u001b[0m\n",
              "\u001b[38;5;167m│\u001b[0m\u001b[38;5;167m                                                                                                                 \u001b[0m\u001b[38;5;167m│\u001b[0m\n",
              "\u001b[38;5;167m│\u001b[0m\u001b[38;5;167m \u001b[0m\u001b[38;5;167m📊 No Aggregations Run\u001b[0m\u001b[38;5;167m                                                                                         \u001b[0m\u001b[38;5;167m \u001b[0m\u001b[38;5;167m│\u001b[0m\n",
              "\u001b[38;5;167m│\u001b[0m\u001b[38;5;167m                                                                                                                 \u001b[0m\u001b[38;5;167m│\u001b[0m\n",
              "\u001b[38;5;167m╰─────────────────────────────────────────────────────────────────────────────────────────────────────────────────╯\u001b[0m\n"
            ],
            "text/html": [
              "<pre style=\"white-space:pre;overflow-x:auto;line-height:normal;font-family:Menlo,'DejaVu Sans Mono',consolas,'Courier New',monospace\"><span style=\"color: #d75f5f; text-decoration-color: #d75f5f\">╭─────────────────────────────────────────────────────────────────────────────────────────────────────────────────╮</span>\n",
              "<span style=\"color: #d75f5f; text-decoration-color: #d75f5f\">│                                                                                                                 │</span>\n",
              "<span style=\"color: #d75f5f; text-decoration-color: #d75f5f\">│ 📊 No Aggregations Run                                                                                          │</span>\n",
              "<span style=\"color: #d75f5f; text-decoration-color: #d75f5f\">│                                                                                                                 │</span>\n",
              "<span style=\"color: #d75f5f; text-decoration-color: #d75f5f\">╰─────────────────────────────────────────────────────────────────────────────────────────────────────────────────╯</span>\n",
              "</pre>\n"
            ]
          },
          "metadata": {}
        },
        {
          "output_type": "display_data",
          "data": {
            "text/plain": [
              "\u001b[33m╭─\u001b[0m\u001b[33m───────────────────────────────────────────\u001b[0m ⚠️ Missing Information: \u001b[33m────────────────────────────────────────────\u001b[0m\u001b[33m─╮\u001b[0m\n",
              "\u001b[33m│\u001b[0m\u001b[33m                                                                                                                 \u001b[0m\u001b[33m│\u001b[0m\n",
              "\u001b[33m│\u001b[0m\u001b[33m \u001b[0m\u001b[33m- Any cookie recipe details\u001b[0m\u001b[33m                                                                                    \u001b[0m\u001b[33m \u001b[0m\u001b[33m│\u001b[0m\n",
              "\u001b[33m│\u001b[0m\u001b[33m \u001b[0m\u001b[33m- Recommendations or rankings of cookie recipes\u001b[0m\u001b[33m                                                                \u001b[0m\u001b[33m \u001b[0m\u001b[33m│\u001b[0m\n",
              "\u001b[33m│\u001b[0m\u001b[33m                                                                                                                 \u001b[0m\u001b[33m│\u001b[0m\n",
              "\u001b[33m╰─────────────────────────────────────────────────────────────────────────────────────────────────────────────────╯\u001b[0m\n"
            ],
            "text/html": [
              "<pre style=\"white-space:pre;overflow-x:auto;line-height:normal;font-family:Menlo,'DejaVu Sans Mono',consolas,'Courier New',monospace\"><span style=\"color: #808000; text-decoration-color: #808000\">╭────────────────────────────────────────────</span> ⚠️ Missing Information: <span style=\"color: #808000; text-decoration-color: #808000\">─────────────────────────────────────────────╮</span>\n",
              "<span style=\"color: #808000; text-decoration-color: #808000\">│                                                                                                                 │</span>\n",
              "<span style=\"color: #808000; text-decoration-color: #808000\">│ - Any cookie recipe details                                                                                     │</span>\n",
              "<span style=\"color: #808000; text-decoration-color: #808000\">│ - Recommendations or rankings of cookie recipes                                                                 │</span>\n",
              "<span style=\"color: #808000; text-decoration-color: #808000\">│                                                                                                                 │</span>\n",
              "<span style=\"color: #808000; text-decoration-color: #808000\">╰─────────────────────────────────────────────────────────────────────────────────────────────────────────────────╯</span>\n",
              "</pre>\n"
            ]
          },
          "metadata": {}
        },
        {
          "output_type": "stream",
          "name": "stdout",
          "text": [
            "\n",
            "\n"
          ]
        },
        {
          "output_type": "display_data",
          "data": {
            "text/plain": [
              "\u001b[3m   📊 Usage Statistics   \u001b[0m\n",
              "┌────────────────┬──────┐\n",
              "│ LLM Requests:  │ 3    │\n",
              "│ Input Tokens:  │ 3086 │\n",
              "│ Output Tokens: │ 168  │\n",
              "│ Total Tokens:  │ 3254 │\n",
              "└────────────────┴──────┘\n"
            ],
            "text/html": [
              "<pre style=\"white-space:pre;overflow-x:auto;line-height:normal;font-family:Menlo,'DejaVu Sans Mono',consolas,'Courier New',monospace\"><span style=\"font-style: italic\">   📊 Usage Statistics   </span>\n",
              "┌────────────────┬──────┐\n",
              "│ LLM Requests:  │ 3    │\n",
              "│ Input Tokens:  │ 3086 │\n",
              "│ Output Tokens: │ 168  │\n",
              "│ Total Tokens:  │ 3254 │\n",
              "└────────────────┴──────┘\n",
              "</pre>\n"
            ]
          },
          "metadata": {}
        },
        {
          "output_type": "display_data",
          "data": {
            "text/plain": [
              "\n",
              "\u001b[1;36mTotal Time Taken:\u001b[0m\u001b[36m \u001b[0m\u001b[1;36m4.\u001b[0m\u001b[36m48s\u001b[0m\n"
            ],
            "text/html": [
              "<pre style=\"white-space:pre;overflow-x:auto;line-height:normal;font-family:Menlo,'DejaVu Sans Mono',consolas,'Courier New',monospace\">\n",
              "<span style=\"color: #008080; text-decoration-color: #008080; font-weight: bold\">Total Time Taken:</span><span style=\"color: #008080; text-decoration-color: #008080\"> </span><span style=\"color: #008080; text-decoration-color: #008080; font-weight: bold\">4.</span><span style=\"color: #008080; text-decoration-color: #008080\">48s</span>\n",
              "</pre>\n"
            ]
          },
          "metadata": {}
        }
      ]
    },
    {
      "cell_type": "code",
      "source": [
        "# Perform a query\n",
        "response = qa.run(\n",
        "    \"What stress is common in pilots?\"\n",
        ")\n",
        "# Print the response\n",
        "response.display()"
      ],
      "metadata": {
        "id": "aiYSVvljKwyO",
        "outputId": "312f2a3f-6c32-4e05-9eec-78456aee5c54",
        "colab": {
          "base_uri": "https://localhost:8080/",
          "height": 802
        }
      },
      "execution_count": 57,
      "outputs": [
        {
          "output_type": "display_data",
          "data": {
            "text/plain": [
              "╭─────────────────────────────────────────────── 🔍 Original Query ───────────────────────────────────────────────╮\n",
              "│                                                                                                                 │\n",
              "│ What stress is common in pilots?                                                                                │\n",
              "│                                                                                                                 │\n",
              "╰─────────────────────────────────────────────────────────────────────────────────────────────────────────────────╯\n"
            ],
            "text/html": [
              "<pre style=\"white-space:pre;overflow-x:auto;line-height:normal;font-family:Menlo,'DejaVu Sans Mono',consolas,'Courier New',monospace\">╭─────────────────────────────────────────────── 🔍 Original Query ───────────────────────────────────────────────╮\n",
              "│                                                                                                                 │\n",
              "│ What stress is common in pilots?                                                                                │\n",
              "│                                                                                                                 │\n",
              "╰─────────────────────────────────────────────────────────────────────────────────────────────────────────────────╯\n",
              "</pre>\n"
            ]
          },
          "metadata": {}
        },
        {
          "output_type": "display_data",
          "data": {
            "text/plain": [
              "\u001b[36m╭─\u001b[0m\u001b[36m───────────────────────────────────────────────\u001b[0m 📝 Final Answer \u001b[36m───────────────────────────────────────────────\u001b[0m\u001b[36m─╮\u001b[0m\n",
              "\u001b[36m│\u001b[0m\u001b[36m                                                                                                                 \u001b[0m\u001b[36m│\u001b[0m\n",
              "\u001b[36m│\u001b[0m\u001b[36m \u001b[0m\u001b[36mCommon stress factors among pilots include work-related pressures that can lead to mental health symptoms and \u001b[0m\u001b[36m \u001b[0m\u001b[36m \u001b[0m\u001b[36m│\u001b[0m\n",
              "\u001b[36m│\u001b[0m\u001b[36m \u001b[0m\u001b[36mpotentially psychiatric illness. Specific stressors for pilots encompass repeated proficiency simulator checks,\u001b[0m\u001b[36m \u001b[0m\u001b[36m│\u001b[0m\n",
              "\u001b[36m│\u001b[0m\u001b[36m \u001b[0m\u001b[36mintermittent medical exams, total flight hours obligations, employer pressure, and the significant \u001b[0m\u001b[36m            \u001b[0m\u001b[36m \u001b[0m\u001b[36m│\u001b[0m\n",
              "\u001b[36m│\u001b[0m\u001b[36m \u001b[0m\u001b[36mresponsibility associated with flying. Additional challenges faced by aircrew include environmental factors \u001b[0m\u001b[36m   \u001b[0m\u001b[36m \u001b[0m\u001b[36m│\u001b[0m\n",
              "\u001b[36m│\u001b[0m\u001b[36m \u001b[0m\u001b[36msuch as hypobaria (low atmospheric pressure), pressurization issues, sedentary conditions, jet lag, and dietary\u001b[0m\u001b[36m \u001b[0m\u001b[36m│\u001b[0m\n",
              "\u001b[36m│\u001b[0m\u001b[36m \u001b[0m\u001b[36mconcerns related to high-caloric foods. These combined elements contribute to the broad spectrum of stress \u001b[0m\u001b[36m    \u001b[0m\u001b[36m \u001b[0m\u001b[36m│\u001b[0m\n",
              "\u001b[36m│\u001b[0m\u001b[36m \u001b[0m\u001b[36mexperienced by pilots in their professional duties.\u001b[0m\u001b[36m                                                            \u001b[0m\u001b[36m \u001b[0m\u001b[36m│\u001b[0m\n",
              "\u001b[36m│\u001b[0m\u001b[36m                                                                                                                 \u001b[0m\u001b[36m│\u001b[0m\n",
              "\u001b[36m╰─────────────────────────────────────────────────────────────────────────────────────────────────────────────────╯\u001b[0m\n"
            ],
            "text/html": [
              "<pre style=\"white-space:pre;overflow-x:auto;line-height:normal;font-family:Menlo,'DejaVu Sans Mono',consolas,'Courier New',monospace\"><span style=\"color: #008080; text-decoration-color: #008080\">╭────────────────────────────────────────────────</span> 📝 Final Answer <span style=\"color: #008080; text-decoration-color: #008080\">────────────────────────────────────────────────╮</span>\n",
              "<span style=\"color: #008080; text-decoration-color: #008080\">│                                                                                                                 │</span>\n",
              "<span style=\"color: #008080; text-decoration-color: #008080\">│ Common stress factors among pilots include work-related pressures that can lead to mental health symptoms and   │</span>\n",
              "<span style=\"color: #008080; text-decoration-color: #008080\">│ potentially psychiatric illness. Specific stressors for pilots encompass repeated proficiency simulator checks, │</span>\n",
              "<span style=\"color: #008080; text-decoration-color: #008080\">│ intermittent medical exams, total flight hours obligations, employer pressure, and the significant              │</span>\n",
              "<span style=\"color: #008080; text-decoration-color: #008080\">│ responsibility associated with flying. Additional challenges faced by aircrew include environmental factors     │</span>\n",
              "<span style=\"color: #008080; text-decoration-color: #008080\">│ such as hypobaria (low atmospheric pressure), pressurization issues, sedentary conditions, jet lag, and dietary │</span>\n",
              "<span style=\"color: #008080; text-decoration-color: #008080\">│ concerns related to high-caloric foods. These combined elements contribute to the broad spectrum of stress      │</span>\n",
              "<span style=\"color: #008080; text-decoration-color: #008080\">│ experienced by pilots in their professional duties.                                                             │</span>\n",
              "<span style=\"color: #008080; text-decoration-color: #008080\">│                                                                                                                 │</span>\n",
              "<span style=\"color: #008080; text-decoration-color: #008080\">╰─────────────────────────────────────────────────────────────────────────────────────────────────────────────────╯</span>\n",
              "</pre>\n"
            ]
          },
          "metadata": {}
        },
        {
          "output_type": "display_data",
          "data": {
            "text/plain": [
              "\u001b[37m╭─\u001b[0m\u001b[37m──────────────────────────────────────────\u001b[0m 🔭 Searches Executed 1/1 \u001b[37m───────────────────────────────────────────\u001b[0m\u001b[37m─╮\u001b[0m\n",
              "\u001b[37m│\u001b[0m\u001b[37m                                                                                                                 \u001b[0m\u001b[37m│\u001b[0m\n",
              "\u001b[37m│\u001b[0m\u001b[37m \u001b[0m\u001b[1;35mQueryResultWithCollection\u001b[0m\u001b[1;37m(\u001b[0m\u001b[37m                                                                                     \u001b[0m\u001b[37m \u001b[0m\u001b[37m│\u001b[0m\n",
              "\u001b[37m│\u001b[0m\u001b[37m \u001b[0m\u001b[37m    \u001b[0m\u001b[33mqueries\u001b[0m\u001b[37m=\u001b[0m\u001b[1;37m[\u001b[0m\u001b[32m'common stress factors in pilots'\u001b[0m\u001b[1;37m]\u001b[0m\u001b[37m,\u001b[0m\u001b[37m                                                               \u001b[0m\u001b[37m \u001b[0m\u001b[37m│\u001b[0m\n",
              "\u001b[37m│\u001b[0m\u001b[37m \u001b[0m\u001b[37m    \u001b[0m\u001b[33mfilters\u001b[0m\u001b[37m=\u001b[0m\u001b[1;37m[\u001b[0m\u001b[1;37m[\u001b[0m\u001b[1;37m]\u001b[0m\u001b[1;37m]\u001b[0m\u001b[37m,\u001b[0m\u001b[37m                                                                                              \u001b[0m\u001b[37m \u001b[0m\u001b[37m│\u001b[0m\n",
              "\u001b[37m│\u001b[0m\u001b[37m \u001b[0m\u001b[37m    \u001b[0m\u001b[33mfilter_operators\u001b[0m\u001b[37m=\u001b[0m\u001b[32m'AND'\u001b[0m\u001b[37m,\u001b[0m\u001b[37m                                                                                    \u001b[0m\u001b[37m \u001b[0m\u001b[37m│\u001b[0m\n",
              "\u001b[37m│\u001b[0m\u001b[37m \u001b[0m\u001b[37m    \u001b[0m\u001b[33mcollection\u001b[0m\u001b[37m=\u001b[0m\u001b[32m'SpaceMedResearch'\u001b[0m\u001b[37m                                                                              \u001b[0m\u001b[37m \u001b[0m\u001b[37m│\u001b[0m\n",
              "\u001b[37m│\u001b[0m\u001b[37m \u001b[0m\u001b[1;37m)\u001b[0m\u001b[37m                                                                                                              \u001b[0m\u001b[37m \u001b[0m\u001b[37m│\u001b[0m\n",
              "\u001b[37m│\u001b[0m\u001b[37m                                                                                                                 \u001b[0m\u001b[37m│\u001b[0m\n",
              "\u001b[37m╰─────────────────────────────────────────────────────────────────────────────────────────────────────────────────╯\u001b[0m\n"
            ],
            "text/html": [
              "<pre style=\"white-space:pre;overflow-x:auto;line-height:normal;font-family:Menlo,'DejaVu Sans Mono',consolas,'Courier New',monospace\"><span style=\"color: #c0c0c0; text-decoration-color: #c0c0c0\">╭───────────────────────────────────────────</span> 🔭 Searches Executed 1/1 <span style=\"color: #c0c0c0; text-decoration-color: #c0c0c0\">────────────────────────────────────────────╮</span>\n",
              "<span style=\"color: #c0c0c0; text-decoration-color: #c0c0c0\">│                                                                                                                 │</span>\n",
              "<span style=\"color: #c0c0c0; text-decoration-color: #c0c0c0\">│ </span><span style=\"color: #800080; text-decoration-color: #800080; font-weight: bold\">QueryResultWithCollection</span><span style=\"color: #c0c0c0; text-decoration-color: #c0c0c0; font-weight: bold\">(</span><span style=\"color: #c0c0c0; text-decoration-color: #c0c0c0\">                                                                                      │</span>\n",
              "<span style=\"color: #c0c0c0; text-decoration-color: #c0c0c0\">│     </span><span style=\"color: #808000; text-decoration-color: #808000\">queries</span><span style=\"color: #c0c0c0; text-decoration-color: #c0c0c0\">=</span><span style=\"color: #c0c0c0; text-decoration-color: #c0c0c0; font-weight: bold\">[</span><span style=\"color: #008000; text-decoration-color: #008000\">'common stress factors in pilots'</span><span style=\"color: #c0c0c0; text-decoration-color: #c0c0c0; font-weight: bold\">]</span><span style=\"color: #c0c0c0; text-decoration-color: #c0c0c0\">,                                                                │</span>\n",
              "<span style=\"color: #c0c0c0; text-decoration-color: #c0c0c0\">│     </span><span style=\"color: #808000; text-decoration-color: #808000\">filters</span><span style=\"color: #c0c0c0; text-decoration-color: #c0c0c0\">=</span><span style=\"color: #c0c0c0; text-decoration-color: #c0c0c0; font-weight: bold\">[[]]</span><span style=\"color: #c0c0c0; text-decoration-color: #c0c0c0\">,                                                                                               │</span>\n",
              "<span style=\"color: #c0c0c0; text-decoration-color: #c0c0c0\">│     </span><span style=\"color: #808000; text-decoration-color: #808000\">filter_operators</span><span style=\"color: #c0c0c0; text-decoration-color: #c0c0c0\">=</span><span style=\"color: #008000; text-decoration-color: #008000\">'AND'</span><span style=\"color: #c0c0c0; text-decoration-color: #c0c0c0\">,                                                                                     │</span>\n",
              "<span style=\"color: #c0c0c0; text-decoration-color: #c0c0c0\">│     </span><span style=\"color: #808000; text-decoration-color: #808000\">collection</span><span style=\"color: #c0c0c0; text-decoration-color: #c0c0c0\">=</span><span style=\"color: #008000; text-decoration-color: #008000\">'SpaceMedResearch'</span><span style=\"color: #c0c0c0; text-decoration-color: #c0c0c0\">                                                                               │</span>\n",
              "<span style=\"color: #c0c0c0; text-decoration-color: #c0c0c0\">│ </span><span style=\"color: #c0c0c0; text-decoration-color: #c0c0c0; font-weight: bold\">)</span><span style=\"color: #c0c0c0; text-decoration-color: #c0c0c0\">                                                                                                               │</span>\n",
              "<span style=\"color: #c0c0c0; text-decoration-color: #c0c0c0\">│                                                                                                                 │</span>\n",
              "<span style=\"color: #c0c0c0; text-decoration-color: #c0c0c0\">╰─────────────────────────────────────────────────────────────────────────────────────────────────────────────────╯</span>\n",
              "</pre>\n"
            ]
          },
          "metadata": {}
        },
        {
          "output_type": "display_data",
          "data": {
            "text/plain": [
              "\u001b[38;5;167m╭─────────────────────────────────────────────────────────────────────────────────────────────────────────────────╮\u001b[0m\n",
              "\u001b[38;5;167m│\u001b[0m\u001b[38;5;167m                                                                                                                 \u001b[0m\u001b[38;5;167m│\u001b[0m\n",
              "\u001b[38;5;167m│\u001b[0m\u001b[38;5;167m \u001b[0m\u001b[38;5;167m📊 No Aggregations Run\u001b[0m\u001b[38;5;167m                                                                                         \u001b[0m\u001b[38;5;167m \u001b[0m\u001b[38;5;167m│\u001b[0m\n",
              "\u001b[38;5;167m│\u001b[0m\u001b[38;5;167m                                                                                                                 \u001b[0m\u001b[38;5;167m│\u001b[0m\n",
              "\u001b[38;5;167m╰─────────────────────────────────────────────────────────────────────────────────────────────────────────────────╯\u001b[0m\n"
            ],
            "text/html": [
              "<pre style=\"white-space:pre;overflow-x:auto;line-height:normal;font-family:Menlo,'DejaVu Sans Mono',consolas,'Courier New',monospace\"><span style=\"color: #d75f5f; text-decoration-color: #d75f5f\">╭─────────────────────────────────────────────────────────────────────────────────────────────────────────────────╮</span>\n",
              "<span style=\"color: #d75f5f; text-decoration-color: #d75f5f\">│                                                                                                                 │</span>\n",
              "<span style=\"color: #d75f5f; text-decoration-color: #d75f5f\">│ 📊 No Aggregations Run                                                                                          │</span>\n",
              "<span style=\"color: #d75f5f; text-decoration-color: #d75f5f\">│                                                                                                                 │</span>\n",
              "<span style=\"color: #d75f5f; text-decoration-color: #d75f5f\">╰─────────────────────────────────────────────────────────────────────────────────────────────────────────────────╯</span>\n",
              "</pre>\n"
            ]
          },
          "metadata": {}
        },
        {
          "output_type": "display_data",
          "data": {
            "text/plain": [
              "\u001b[37m╭─\u001b[0m\u001b[37m─────────────────────────────────────────────────\u001b[0m 📚 Sources \u001b[37m──────────────────────────────────────────────────\u001b[0m\u001b[37m─╮\u001b[0m\n",
              "\u001b[37m│\u001b[0m\u001b[37m                                                                                                                 \u001b[0m\u001b[37m│\u001b[0m\n",
              "\u001b[37m│\u001b[0m\u001b[37m \u001b[0m\u001b[37m - object_id='5eebc114-c7e8-5abc-ac2f-7c3912711e18' collection='SpaceMedResearch'\u001b[0m\u001b[37m                              \u001b[0m\u001b[37m \u001b[0m\u001b[37m│\u001b[0m\n",
              "\u001b[37m│\u001b[0m\u001b[37m \u001b[0m\u001b[37m - object_id='487fb746-fef3-50ac-8adf-286d7af1d302' collection='SpaceMedResearch'\u001b[0m\u001b[37m                              \u001b[0m\u001b[37m \u001b[0m\u001b[37m│\u001b[0m\n",
              "\u001b[37m│\u001b[0m\u001b[37m \u001b[0m\u001b[37m - object_id='3ccb8170-c56f-583f-bc74-07915c6fa558' collection='SpaceMedResearch'\u001b[0m\u001b[37m                              \u001b[0m\u001b[37m \u001b[0m\u001b[37m│\u001b[0m\n",
              "\u001b[37m│\u001b[0m\u001b[37m                                                                                                                 \u001b[0m\u001b[37m│\u001b[0m\n",
              "\u001b[37m╰─────────────────────────────────────────────────────────────────────────────────────────────────────────────────╯\u001b[0m\n"
            ],
            "text/html": [
              "<pre style=\"white-space:pre;overflow-x:auto;line-height:normal;font-family:Menlo,'DejaVu Sans Mono',consolas,'Courier New',monospace\"><span style=\"color: #c0c0c0; text-decoration-color: #c0c0c0\">╭──────────────────────────────────────────────────</span> 📚 Sources <span style=\"color: #c0c0c0; text-decoration-color: #c0c0c0\">───────────────────────────────────────────────────╮</span>\n",
              "<span style=\"color: #c0c0c0; text-decoration-color: #c0c0c0\">│                                                                                                                 │</span>\n",
              "<span style=\"color: #c0c0c0; text-decoration-color: #c0c0c0\">│  - object_id='5eebc114-c7e8-5abc-ac2f-7c3912711e18' collection='SpaceMedResearch'                               │</span>\n",
              "<span style=\"color: #c0c0c0; text-decoration-color: #c0c0c0\">│  - object_id='487fb746-fef3-50ac-8adf-286d7af1d302' collection='SpaceMedResearch'                               │</span>\n",
              "<span style=\"color: #c0c0c0; text-decoration-color: #c0c0c0\">│  - object_id='3ccb8170-c56f-583f-bc74-07915c6fa558' collection='SpaceMedResearch'                               │</span>\n",
              "<span style=\"color: #c0c0c0; text-decoration-color: #c0c0c0\">│                                                                                                                 │</span>\n",
              "<span style=\"color: #c0c0c0; text-decoration-color: #c0c0c0\">╰─────────────────────────────────────────────────────────────────────────────────────────────────────────────────╯</span>\n",
              "</pre>\n"
            ]
          },
          "metadata": {}
        },
        {
          "output_type": "stream",
          "name": "stdout",
          "text": [
            "\n",
            "\n"
          ]
        },
        {
          "output_type": "display_data",
          "data": {
            "text/plain": [
              "\u001b[3m   📊 Usage Statistics   \u001b[0m\n",
              "┌────────────────┬──────┐\n",
              "│ LLM Requests:  │ 3    │\n",
              "│ Input Tokens:  │ 3058 │\n",
              "│ Output Tokens: │ 231  │\n",
              "│ Total Tokens:  │ 3289 │\n",
              "└────────────────┴──────┘\n"
            ],
            "text/html": [
              "<pre style=\"white-space:pre;overflow-x:auto;line-height:normal;font-family:Menlo,'DejaVu Sans Mono',consolas,'Courier New',monospace\"><span style=\"font-style: italic\">   📊 Usage Statistics   </span>\n",
              "┌────────────────┬──────┐\n",
              "│ LLM Requests:  │ 3    │\n",
              "│ Input Tokens:  │ 3058 │\n",
              "│ Output Tokens: │ 231  │\n",
              "│ Total Tokens:  │ 3289 │\n",
              "└────────────────┴──────┘\n",
              "</pre>\n"
            ]
          },
          "metadata": {}
        },
        {
          "output_type": "display_data",
          "data": {
            "text/plain": [
              "\n",
              "\u001b[1;36mTotal Time Taken:\u001b[0m\u001b[36m \u001b[0m\u001b[1;36m4.\u001b[0m\u001b[36m75s\u001b[0m\n"
            ],
            "text/html": [
              "<pre style=\"white-space:pre;overflow-x:auto;line-height:normal;font-family:Menlo,'DejaVu Sans Mono',consolas,'Courier New',monospace\">\n",
              "<span style=\"color: #008080; text-decoration-color: #008080; font-weight: bold\">Total Time Taken:</span><span style=\"color: #008080; text-decoration-color: #008080\"> </span><span style=\"color: #008080; text-decoration-color: #008080; font-weight: bold\">4.</span><span style=\"color: #008080; text-decoration-color: #008080\">75s</span>\n",
              "</pre>\n"
            ]
          },
          "metadata": {}
        }
      ]
    },
    {
      "cell_type": "code",
      "source": [
        "# Perform a query for articles with contradictory information\n",
        "response = qa.run(\n",
        "    \"Do all astronauts who engage in long-duration spaceflight develop structural changes in the eyes (Spaceflight-Associated Neuro-ocular Syndrome, or SANS)?\"\n",
        ")\n",
        "# Print the response\n",
        "response.display()"
      ],
      "metadata": {
        "id": "dgcTFNm-SyvU",
        "outputId": "6c5fce48-5771-4fb6-af12-079eed1580d2",
        "colab": {
          "base_uri": "https://localhost:8080/",
          "height": 1000
        }
      },
      "execution_count": 58,
      "outputs": [
        {
          "output_type": "display_data",
          "data": {
            "text/plain": [
              "╭─────────────────────────────────────────────── 🔍 Original Query ───────────────────────────────────────────────╮\n",
              "│                                                                                                                 │\n",
              "│ Do all astronauts who engage in long-duration spaceflight develop structural changes in the eyes                │\n",
              "│ (Spaceflight-Associated Neuro-ocular Syndrome, or SANS)?                                                        │\n",
              "│                                                                                                                 │\n",
              "╰─────────────────────────────────────────────────────────────────────────────────────────────────────────────────╯\n"
            ],
            "text/html": [
              "<pre style=\"white-space:pre;overflow-x:auto;line-height:normal;font-family:Menlo,'DejaVu Sans Mono',consolas,'Courier New',monospace\">╭─────────────────────────────────────────────── 🔍 Original Query ───────────────────────────────────────────────╮\n",
              "│                                                                                                                 │\n",
              "│ Do all astronauts who engage in long-duration spaceflight develop structural changes in the eyes                │\n",
              "│ (Spaceflight-Associated Neuro-ocular Syndrome, or SANS)?                                                        │\n",
              "│                                                                                                                 │\n",
              "╰─────────────────────────────────────────────────────────────────────────────────────────────────────────────────╯\n",
              "</pre>\n"
            ]
          },
          "metadata": {}
        },
        {
          "output_type": "display_data",
          "data": {
            "text/plain": [
              "\u001b[36m╭─\u001b[0m\u001b[36m───────────────────────────────────────────────\u001b[0m 📝 Final Answer \u001b[36m───────────────────────────────────────────────\u001b[0m\u001b[36m─╮\u001b[0m\n",
              "\u001b[36m│\u001b[0m\u001b[36m                                                                                                                 \u001b[0m\u001b[36m│\u001b[0m\n",
              "\u001b[36m│\u001b[0m\u001b[36m \u001b[0m\u001b[36mNot all astronauts who engage in long-duration spaceflight develop structural changes in the eyes associated \u001b[0m\u001b[36m  \u001b[0m\u001b[36m \u001b[0m\u001b[36m│\u001b[0m\n",
              "\u001b[36m│\u001b[0m\u001b[36m \u001b[0m\u001b[36mwith Spaceflight-Associated Neuro-ocular Syndrome (SANS). Evidence indicates that about 40% of astronauts have \u001b[0m\u001b[36m \u001b[0m\u001b[36m│\u001b[0m\n",
              "\u001b[36m│\u001b[0m\u001b[36m \u001b[0m\u001b[36mexperienced one or more ocular changes after long-duration missions on the International Space Station (ISS). \u001b[0m\u001b[36m \u001b[0m\u001b[36m \u001b[0m\u001b[36m│\u001b[0m\n",
              "\u001b[36m│\u001b[0m\u001b[36m \u001b[0m\u001b[36mThese structural changes include optic disc edema, choroidal folds, globe flattening, hyperopic shifts, \u001b[0m\u001b[36m       \u001b[0m\u001b[36m \u001b[0m\u001b[36m│\u001b[0m\n",
              "\u001b[36m│\u001b[0m\u001b[36m \u001b[0m\u001b[36mcotton-wool spots, and a slight decrease in axial eye length. The severity and incidence of these changes vary \u001b[0m\u001b[36m \u001b[0m\u001b[36m│\u001b[0m\n",
              "\u001b[36m│\u001b[0m\u001b[36m \u001b[0m\u001b[36mamong individuals. The exact cause and mechanisms behind SANS remain unclear, which has hindered the \u001b[0m\u001b[36m          \u001b[0m\u001b[36m \u001b[0m\u001b[36m│\u001b[0m\n",
              "\u001b[36m│\u001b[0m\u001b[36m \u001b[0m\u001b[36mdevelopment of effective countermeasures. Therefore, while SANS is a significant health risk for some \u001b[0m\u001b[36m         \u001b[0m\u001b[36m \u001b[0m\u001b[36m│\u001b[0m\n",
              "\u001b[36m│\u001b[0m\u001b[36m \u001b[0m\u001b[36mastronauts, it does not affect all individuals undertaking long-duration spaceflight.\u001b[0m\u001b[36m                          \u001b[0m\u001b[36m \u001b[0m\u001b[36m│\u001b[0m\n",
              "\u001b[36m│\u001b[0m\u001b[36m                                                                                                                 \u001b[0m\u001b[36m│\u001b[0m\n",
              "\u001b[36m╰─────────────────────────────────────────────────────────────────────────────────────────────────────────────────╯\u001b[0m\n"
            ],
            "text/html": [
              "<pre style=\"white-space:pre;overflow-x:auto;line-height:normal;font-family:Menlo,'DejaVu Sans Mono',consolas,'Courier New',monospace\"><span style=\"color: #008080; text-decoration-color: #008080\">╭────────────────────────────────────────────────</span> 📝 Final Answer <span style=\"color: #008080; text-decoration-color: #008080\">────────────────────────────────────────────────╮</span>\n",
              "<span style=\"color: #008080; text-decoration-color: #008080\">│                                                                                                                 │</span>\n",
              "<span style=\"color: #008080; text-decoration-color: #008080\">│ Not all astronauts who engage in long-duration spaceflight develop structural changes in the eyes associated    │</span>\n",
              "<span style=\"color: #008080; text-decoration-color: #008080\">│ with Spaceflight-Associated Neuro-ocular Syndrome (SANS). Evidence indicates that about 40% of astronauts have  │</span>\n",
              "<span style=\"color: #008080; text-decoration-color: #008080\">│ experienced one or more ocular changes after long-duration missions on the International Space Station (ISS).   │</span>\n",
              "<span style=\"color: #008080; text-decoration-color: #008080\">│ These structural changes include optic disc edema, choroidal folds, globe flattening, hyperopic shifts,         │</span>\n",
              "<span style=\"color: #008080; text-decoration-color: #008080\">│ cotton-wool spots, and a slight decrease in axial eye length. The severity and incidence of these changes vary  │</span>\n",
              "<span style=\"color: #008080; text-decoration-color: #008080\">│ among individuals. The exact cause and mechanisms behind SANS remain unclear, which has hindered the            │</span>\n",
              "<span style=\"color: #008080; text-decoration-color: #008080\">│ development of effective countermeasures. Therefore, while SANS is a significant health risk for some           │</span>\n",
              "<span style=\"color: #008080; text-decoration-color: #008080\">│ astronauts, it does not affect all individuals undertaking long-duration spaceflight.                           │</span>\n",
              "<span style=\"color: #008080; text-decoration-color: #008080\">│                                                                                                                 │</span>\n",
              "<span style=\"color: #008080; text-decoration-color: #008080\">╰─────────────────────────────────────────────────────────────────────────────────────────────────────────────────╯</span>\n",
              "</pre>\n"
            ]
          },
          "metadata": {}
        },
        {
          "output_type": "display_data",
          "data": {
            "text/plain": [
              "\u001b[37m╭─\u001b[0m\u001b[37m──────────────────────────────────────────\u001b[0m 🔭 Searches Executed 1/2 \u001b[37m───────────────────────────────────────────\u001b[0m\u001b[37m─╮\u001b[0m\n",
              "\u001b[37m│\u001b[0m\u001b[37m                                                                                                                 \u001b[0m\u001b[37m│\u001b[0m\n",
              "\u001b[37m│\u001b[0m\u001b[37m \u001b[0m\u001b[1;35mQueryResultWithCollection\u001b[0m\u001b[1;37m(\u001b[0m\u001b[37m                                                                                     \u001b[0m\u001b[37m \u001b[0m\u001b[37m│\u001b[0m\n",
              "\u001b[37m│\u001b[0m\u001b[37m \u001b[0m\u001b[37m    \u001b[0m\u001b[33mqueries\u001b[0m\u001b[37m=\u001b[0m\u001b[1;37m[\u001b[0m\u001b[32m'astronauts long-duration spaceflight Spaceflight-Associated Neuro-ocular Syndrome development'\u001b[0m\u001b[1;37m]\u001b[0m\u001b[37m,\u001b[0m\u001b[37m \u001b[0m\u001b[37m \u001b[0m\u001b[37m│\u001b[0m\n",
              "\u001b[37m│\u001b[0m\u001b[37m \u001b[0m\u001b[37m    \u001b[0m\u001b[33mfilters\u001b[0m\u001b[37m=\u001b[0m\u001b[1;37m[\u001b[0m\u001b[1;37m[\u001b[0m\u001b[1;37m]\u001b[0m\u001b[1;37m]\u001b[0m\u001b[37m,\u001b[0m\u001b[37m                                                                                              \u001b[0m\u001b[37m \u001b[0m\u001b[37m│\u001b[0m\n",
              "\u001b[37m│\u001b[0m\u001b[37m \u001b[0m\u001b[37m    \u001b[0m\u001b[33mfilter_operators\u001b[0m\u001b[37m=\u001b[0m\u001b[32m'AND'\u001b[0m\u001b[37m,\u001b[0m\u001b[37m                                                                                    \u001b[0m\u001b[37m \u001b[0m\u001b[37m│\u001b[0m\n",
              "\u001b[37m│\u001b[0m\u001b[37m \u001b[0m\u001b[37m    \u001b[0m\u001b[33mcollection\u001b[0m\u001b[37m=\u001b[0m\u001b[32m'SpaceMedResearch'\u001b[0m\u001b[37m                                                                              \u001b[0m\u001b[37m \u001b[0m\u001b[37m│\u001b[0m\n",
              "\u001b[37m│\u001b[0m\u001b[37m \u001b[0m\u001b[1;37m)\u001b[0m\u001b[37m                                                                                                              \u001b[0m\u001b[37m \u001b[0m\u001b[37m│\u001b[0m\n",
              "\u001b[37m│\u001b[0m\u001b[37m                                                                                                                 \u001b[0m\u001b[37m│\u001b[0m\n",
              "\u001b[37m╰─────────────────────────────────────────────────────────────────────────────────────────────────────────────────╯\u001b[0m\n"
            ],
            "text/html": [
              "<pre style=\"white-space:pre;overflow-x:auto;line-height:normal;font-family:Menlo,'DejaVu Sans Mono',consolas,'Courier New',monospace\"><span style=\"color: #c0c0c0; text-decoration-color: #c0c0c0\">╭───────────────────────────────────────────</span> 🔭 Searches Executed 1/2 <span style=\"color: #c0c0c0; text-decoration-color: #c0c0c0\">────────────────────────────────────────────╮</span>\n",
              "<span style=\"color: #c0c0c0; text-decoration-color: #c0c0c0\">│                                                                                                                 │</span>\n",
              "<span style=\"color: #c0c0c0; text-decoration-color: #c0c0c0\">│ </span><span style=\"color: #800080; text-decoration-color: #800080; font-weight: bold\">QueryResultWithCollection</span><span style=\"color: #c0c0c0; text-decoration-color: #c0c0c0; font-weight: bold\">(</span><span style=\"color: #c0c0c0; text-decoration-color: #c0c0c0\">                                                                                      │</span>\n",
              "<span style=\"color: #c0c0c0; text-decoration-color: #c0c0c0\">│     </span><span style=\"color: #808000; text-decoration-color: #808000\">queries</span><span style=\"color: #c0c0c0; text-decoration-color: #c0c0c0\">=</span><span style=\"color: #c0c0c0; text-decoration-color: #c0c0c0; font-weight: bold\">[</span><span style=\"color: #008000; text-decoration-color: #008000\">'astronauts long-duration spaceflight Spaceflight-Associated Neuro-ocular Syndrome development'</span><span style=\"color: #c0c0c0; text-decoration-color: #c0c0c0; font-weight: bold\">]</span><span style=\"color: #c0c0c0; text-decoration-color: #c0c0c0\">,  │</span>\n",
              "<span style=\"color: #c0c0c0; text-decoration-color: #c0c0c0\">│     </span><span style=\"color: #808000; text-decoration-color: #808000\">filters</span><span style=\"color: #c0c0c0; text-decoration-color: #c0c0c0\">=</span><span style=\"color: #c0c0c0; text-decoration-color: #c0c0c0; font-weight: bold\">[[]]</span><span style=\"color: #c0c0c0; text-decoration-color: #c0c0c0\">,                                                                                               │</span>\n",
              "<span style=\"color: #c0c0c0; text-decoration-color: #c0c0c0\">│     </span><span style=\"color: #808000; text-decoration-color: #808000\">filter_operators</span><span style=\"color: #c0c0c0; text-decoration-color: #c0c0c0\">=</span><span style=\"color: #008000; text-decoration-color: #008000\">'AND'</span><span style=\"color: #c0c0c0; text-decoration-color: #c0c0c0\">,                                                                                     │</span>\n",
              "<span style=\"color: #c0c0c0; text-decoration-color: #c0c0c0\">│     </span><span style=\"color: #808000; text-decoration-color: #808000\">collection</span><span style=\"color: #c0c0c0; text-decoration-color: #c0c0c0\">=</span><span style=\"color: #008000; text-decoration-color: #008000\">'SpaceMedResearch'</span><span style=\"color: #c0c0c0; text-decoration-color: #c0c0c0\">                                                                               │</span>\n",
              "<span style=\"color: #c0c0c0; text-decoration-color: #c0c0c0\">│ </span><span style=\"color: #c0c0c0; text-decoration-color: #c0c0c0; font-weight: bold\">)</span><span style=\"color: #c0c0c0; text-decoration-color: #c0c0c0\">                                                                                                               │</span>\n",
              "<span style=\"color: #c0c0c0; text-decoration-color: #c0c0c0\">│                                                                                                                 │</span>\n",
              "<span style=\"color: #c0c0c0; text-decoration-color: #c0c0c0\">╰─────────────────────────────────────────────────────────────────────────────────────────────────────────────────╯</span>\n",
              "</pre>\n"
            ]
          },
          "metadata": {}
        },
        {
          "output_type": "display_data",
          "data": {
            "text/plain": [
              "\u001b[37m╭─\u001b[0m\u001b[37m──────────────────────────────────────────\u001b[0m 🔭 Searches Executed 2/2 \u001b[37m───────────────────────────────────────────\u001b[0m\u001b[37m─╮\u001b[0m\n",
              "\u001b[37m│\u001b[0m\u001b[37m                                                                                                                 \u001b[0m\u001b[37m│\u001b[0m\n",
              "\u001b[37m│\u001b[0m\u001b[37m \u001b[0m\u001b[1;35mQueryResultWithCollection\u001b[0m\u001b[1;37m(\u001b[0m\u001b[37m                                                                                     \u001b[0m\u001b[37m \u001b[0m\u001b[37m│\u001b[0m\n",
              "\u001b[37m│\u001b[0m\u001b[37m \u001b[0m\u001b[37m    \u001b[0m\u001b[33mqueries\u001b[0m\u001b[37m=\u001b[0m\u001b[1;37m[\u001b[0m\u001b[37m                                                                                                  \u001b[0m\u001b[37m \u001b[0m\u001b[37m│\u001b[0m\n",
              "\u001b[37m│\u001b[0m\u001b[37m \u001b[0m\u001b[37m        \u001b[0m\u001b[32m'structural changes in the eyes associated with Spaceflight-Associated Neuro-ocular Syndrome'\u001b[0m\u001b[37m,\u001b[0m\u001b[37m         \u001b[0m\u001b[37m \u001b[0m\u001b[37m│\u001b[0m\n",
              "\u001b[37m│\u001b[0m\u001b[37m \u001b[0m\u001b[37m        \u001b[0m\u001b[32m'eye changes seen in Spaceflight-Associated Neuro-ocular Syndrome'\u001b[0m\u001b[37m,\u001b[0m\u001b[37m                                    \u001b[0m\u001b[37m \u001b[0m\u001b[37m│\u001b[0m\n",
              "\u001b[37m│\u001b[0m\u001b[37m \u001b[0m\u001b[37m        \u001b[0m\u001b[32m'ocular morphology alterations in Spaceflight-Associated Neuro-ocular Syndrome'\u001b[0m\u001b[37m                        \u001b[0m\u001b[37m \u001b[0m\u001b[37m│\u001b[0m\n",
              "\u001b[37m│\u001b[0m\u001b[37m \u001b[0m\u001b[37m    \u001b[0m\u001b[1;37m]\u001b[0m\u001b[37m,\u001b[0m\u001b[37m                                                                                                         \u001b[0m\u001b[37m \u001b[0m\u001b[37m│\u001b[0m\n",
              "\u001b[37m│\u001b[0m\u001b[37m \u001b[0m\u001b[37m    \u001b[0m\u001b[33mfilters\u001b[0m\u001b[37m=\u001b[0m\u001b[1;37m[\u001b[0m\u001b[1;37m[\u001b[0m\u001b[1;37m]\u001b[0m\u001b[37m, \u001b[0m\u001b[1;37m[\u001b[0m\u001b[1;37m]\u001b[0m\u001b[37m, \u001b[0m\u001b[1;37m[\u001b[0m\u001b[1;37m]\u001b[0m\u001b[1;37m]\u001b[0m\u001b[37m,\u001b[0m\u001b[37m                                                                                      \u001b[0m\u001b[37m \u001b[0m\u001b[37m│\u001b[0m\n",
              "\u001b[37m│\u001b[0m\u001b[37m \u001b[0m\u001b[37m    \u001b[0m\u001b[33mfilter_operators\u001b[0m\u001b[37m=\u001b[0m\u001b[32m'OR'\u001b[0m\u001b[37m,\u001b[0m\u001b[37m                                                                                     \u001b[0m\u001b[37m \u001b[0m\u001b[37m│\u001b[0m\n",
              "\u001b[37m│\u001b[0m\u001b[37m \u001b[0m\u001b[37m    \u001b[0m\u001b[33mcollection\u001b[0m\u001b[37m=\u001b[0m\u001b[32m'SpaceMedResearch'\u001b[0m\u001b[37m                                                                              \u001b[0m\u001b[37m \u001b[0m\u001b[37m│\u001b[0m\n",
              "\u001b[37m│\u001b[0m\u001b[37m \u001b[0m\u001b[1;37m)\u001b[0m\u001b[37m                                                                                                              \u001b[0m\u001b[37m \u001b[0m\u001b[37m│\u001b[0m\n",
              "\u001b[37m│\u001b[0m\u001b[37m                                                                                                                 \u001b[0m\u001b[37m│\u001b[0m\n",
              "\u001b[37m╰─────────────────────────────────────────────────────────────────────────────────────────────────────────────────╯\u001b[0m\n"
            ],
            "text/html": [
              "<pre style=\"white-space:pre;overflow-x:auto;line-height:normal;font-family:Menlo,'DejaVu Sans Mono',consolas,'Courier New',monospace\"><span style=\"color: #c0c0c0; text-decoration-color: #c0c0c0\">╭───────────────────────────────────────────</span> 🔭 Searches Executed 2/2 <span style=\"color: #c0c0c0; text-decoration-color: #c0c0c0\">────────────────────────────────────────────╮</span>\n",
              "<span style=\"color: #c0c0c0; text-decoration-color: #c0c0c0\">│                                                                                                                 │</span>\n",
              "<span style=\"color: #c0c0c0; text-decoration-color: #c0c0c0\">│ </span><span style=\"color: #800080; text-decoration-color: #800080; font-weight: bold\">QueryResultWithCollection</span><span style=\"color: #c0c0c0; text-decoration-color: #c0c0c0; font-weight: bold\">(</span><span style=\"color: #c0c0c0; text-decoration-color: #c0c0c0\">                                                                                      │</span>\n",
              "<span style=\"color: #c0c0c0; text-decoration-color: #c0c0c0\">│     </span><span style=\"color: #808000; text-decoration-color: #808000\">queries</span><span style=\"color: #c0c0c0; text-decoration-color: #c0c0c0\">=</span><span style=\"color: #c0c0c0; text-decoration-color: #c0c0c0; font-weight: bold\">[</span><span style=\"color: #c0c0c0; text-decoration-color: #c0c0c0\">                                                                                                   │</span>\n",
              "<span style=\"color: #c0c0c0; text-decoration-color: #c0c0c0\">│         </span><span style=\"color: #008000; text-decoration-color: #008000\">'structural changes in the eyes associated with Spaceflight-Associated Neuro-ocular Syndrome'</span><span style=\"color: #c0c0c0; text-decoration-color: #c0c0c0\">,          │</span>\n",
              "<span style=\"color: #c0c0c0; text-decoration-color: #c0c0c0\">│         </span><span style=\"color: #008000; text-decoration-color: #008000\">'eye changes seen in Spaceflight-Associated Neuro-ocular Syndrome'</span><span style=\"color: #c0c0c0; text-decoration-color: #c0c0c0\">,                                     │</span>\n",
              "<span style=\"color: #c0c0c0; text-decoration-color: #c0c0c0\">│         </span><span style=\"color: #008000; text-decoration-color: #008000\">'ocular morphology alterations in Spaceflight-Associated Neuro-ocular Syndrome'</span><span style=\"color: #c0c0c0; text-decoration-color: #c0c0c0\">                         │</span>\n",
              "<span style=\"color: #c0c0c0; text-decoration-color: #c0c0c0\">│     </span><span style=\"color: #c0c0c0; text-decoration-color: #c0c0c0; font-weight: bold\">]</span><span style=\"color: #c0c0c0; text-decoration-color: #c0c0c0\">,                                                                                                          │</span>\n",
              "<span style=\"color: #c0c0c0; text-decoration-color: #c0c0c0\">│     </span><span style=\"color: #808000; text-decoration-color: #808000\">filters</span><span style=\"color: #c0c0c0; text-decoration-color: #c0c0c0\">=</span><span style=\"color: #c0c0c0; text-decoration-color: #c0c0c0; font-weight: bold\">[[]</span><span style=\"color: #c0c0c0; text-decoration-color: #c0c0c0\">, </span><span style=\"color: #c0c0c0; text-decoration-color: #c0c0c0; font-weight: bold\">[]</span><span style=\"color: #c0c0c0; text-decoration-color: #c0c0c0\">, </span><span style=\"color: #c0c0c0; text-decoration-color: #c0c0c0; font-weight: bold\">[]]</span><span style=\"color: #c0c0c0; text-decoration-color: #c0c0c0\">,                                                                                       │</span>\n",
              "<span style=\"color: #c0c0c0; text-decoration-color: #c0c0c0\">│     </span><span style=\"color: #808000; text-decoration-color: #808000\">filter_operators</span><span style=\"color: #c0c0c0; text-decoration-color: #c0c0c0\">=</span><span style=\"color: #008000; text-decoration-color: #008000\">'OR'</span><span style=\"color: #c0c0c0; text-decoration-color: #c0c0c0\">,                                                                                      │</span>\n",
              "<span style=\"color: #c0c0c0; text-decoration-color: #c0c0c0\">│     </span><span style=\"color: #808000; text-decoration-color: #808000\">collection</span><span style=\"color: #c0c0c0; text-decoration-color: #c0c0c0\">=</span><span style=\"color: #008000; text-decoration-color: #008000\">'SpaceMedResearch'</span><span style=\"color: #c0c0c0; text-decoration-color: #c0c0c0\">                                                                               │</span>\n",
              "<span style=\"color: #c0c0c0; text-decoration-color: #c0c0c0\">│ </span><span style=\"color: #c0c0c0; text-decoration-color: #c0c0c0; font-weight: bold\">)</span><span style=\"color: #c0c0c0; text-decoration-color: #c0c0c0\">                                                                                                               │</span>\n",
              "<span style=\"color: #c0c0c0; text-decoration-color: #c0c0c0\">│                                                                                                                 │</span>\n",
              "<span style=\"color: #c0c0c0; text-decoration-color: #c0c0c0\">╰─────────────────────────────────────────────────────────────────────────────────────────────────────────────────╯</span>\n",
              "</pre>\n"
            ]
          },
          "metadata": {}
        },
        {
          "output_type": "display_data",
          "data": {
            "text/plain": [
              "\u001b[37m╭─\u001b[0m\u001b[37m───────────────────────────────────────────\u001b[0m 📊 Aggregations Run 1/2 \u001b[37m───────────────────────────────────────────\u001b[0m\u001b[37m─╮\u001b[0m\n",
              "\u001b[37m│\u001b[0m\u001b[37m                                                                                                                 \u001b[0m\u001b[37m│\u001b[0m\n",
              "\u001b[37m│\u001b[0m\u001b[37m \u001b[0m\u001b[1;35mAggregationResultWithCollection\u001b[0m\u001b[1;37m(\u001b[0m\u001b[37m                                                                               \u001b[0m\u001b[37m \u001b[0m\u001b[37m│\u001b[0m\n",
              "\u001b[37m│\u001b[0m\u001b[37m \u001b[0m\u001b[37m    \u001b[0m\u001b[33msearch_query\u001b[0m\u001b[37m=\u001b[0m\u001b[32m'Spaceflight-Associated Neuro-ocular Syndrome \u001b[0m\u001b[32m(\u001b[0m\u001b[32mSANS\u001b[0m\u001b[32m)\u001b[0m\u001b[32m long-duration spaceflight'\u001b[0m\u001b[37m,\u001b[0m\u001b[37m              \u001b[0m\u001b[37m \u001b[0m\u001b[37m│\u001b[0m\n",
              "\u001b[37m│\u001b[0m\u001b[37m \u001b[0m\u001b[37m    \u001b[0m\u001b[33mgroupby_property\u001b[0m\u001b[37m=\u001b[0m\u001b[3;35mNone\u001b[0m\u001b[37m,\u001b[0m\u001b[37m                                                                                     \u001b[0m\u001b[37m \u001b[0m\u001b[37m│\u001b[0m\n",
              "\u001b[37m│\u001b[0m\u001b[37m \u001b[0m\u001b[37m    \u001b[0m\u001b[33maggregations\u001b[0m\u001b[37m=\u001b[0m\u001b[1;37m[\u001b[0m\u001b[37m                                                                                             \u001b[0m\u001b[37m \u001b[0m\u001b[37m│\u001b[0m\n",
              "\u001b[37m│\u001b[0m\u001b[37m \u001b[0m\u001b[37m        \u001b[0m\u001b[1;35mTextPropertyAggregation\u001b[0m\u001b[1;37m(\u001b[0m\u001b[37m                                                                               \u001b[0m\u001b[37m \u001b[0m\u001b[37m│\u001b[0m\n",
              "\u001b[37m│\u001b[0m\u001b[37m \u001b[0m\u001b[37m            \u001b[0m\u001b[33mproperty_name\u001b[0m\u001b[37m=\u001b[0m\u001b[32m'content'\u001b[0m\u001b[37m,\u001b[0m\u001b[37m                                                                           \u001b[0m\u001b[37m \u001b[0m\u001b[37m│\u001b[0m\n",
              "\u001b[37m│\u001b[0m\u001b[37m \u001b[0m\u001b[37m            \u001b[0m\u001b[33mmetrics\u001b[0m\u001b[37m=\u001b[0m\u001b[1;37m<\u001b[0m\u001b[1;95mTextMetrics.COUNT:\u001b[0m\u001b[39m \u001b[0m\u001b[32m'COUNT'\u001b[0m\u001b[39m>,\u001b[0m\u001b[37m                                                              \u001b[0m\u001b[37m \u001b[0m\u001b[37m│\u001b[0m\n",
              "\u001b[37m│\u001b[0m\u001b[37m \u001b[0m\u001b[39m            \u001b[0m\u001b[33mtop_occurrences_limit\u001b[0m\u001b[39m=\u001b[0m\u001b[3;35mNone\u001b[0m\u001b[37m                                                                         \u001b[0m\u001b[37m \u001b[0m\u001b[37m│\u001b[0m\n",
              "\u001b[37m│\u001b[0m\u001b[37m \u001b[0m\u001b[39m        \u001b[0m\u001b[1;39m)\u001b[0m\u001b[37m                                                                                                      \u001b[0m\u001b[37m \u001b[0m\u001b[37m│\u001b[0m\n",
              "\u001b[37m│\u001b[0m\u001b[37m \u001b[0m\u001b[39m    \u001b[0m\u001b[1;39m]\u001b[0m\u001b[39m,\u001b[0m\u001b[37m                                                                                                         \u001b[0m\u001b[37m \u001b[0m\u001b[37m│\u001b[0m\n",
              "\u001b[37m│\u001b[0m\u001b[37m \u001b[0m\u001b[39m    \u001b[0m\u001b[33mfilters\u001b[0m\u001b[39m=\u001b[0m\u001b[1;39m[\u001b[0m\u001b[37m                                                                                                  \u001b[0m\u001b[37m \u001b[0m\u001b[37m│\u001b[0m\n",
              "\u001b[37m│\u001b[0m\u001b[37m \u001b[0m\u001b[39m        \u001b[0m\u001b[1;35mTextPropertyFilter\u001b[0m\u001b[1;39m(\u001b[0m\u001b[37m                                                                                    \u001b[0m\u001b[37m \u001b[0m\u001b[37m│\u001b[0m\n",
              "\u001b[37m│\u001b[0m\u001b[37m \u001b[0m\u001b[39m            \u001b[0m\u001b[33mproperty_name\u001b[0m\u001b[39m=\u001b[0m\u001b[32m'content'\u001b[0m\u001b[39m,\u001b[0m\u001b[37m                                                                           \u001b[0m\u001b[37m \u001b[0m\u001b[37m│\u001b[0m\n",
              "\u001b[37m│\u001b[0m\u001b[37m \u001b[0m\u001b[39m            \u001b[0m\u001b[33moperator\u001b[0m\u001b[39m=<ComparisonOperator.LIKE: \u001b[0m\u001b[32m'LIKE'\u001b[0m\u001b[1;37m>\u001b[0m\u001b[37m,\u001b[0m\u001b[37m                                                        \u001b[0m\u001b[37m \u001b[0m\u001b[37m│\u001b[0m\n",
              "\u001b[37m│\u001b[0m\u001b[37m \u001b[0m\u001b[37m            \u001b[0m\u001b[33mvalue\u001b[0m\u001b[37m=\u001b[0m\u001b[32m'*Spaceflight-Associated Neuro-ocular Syndrome*'\u001b[0m\u001b[37m                                             \u001b[0m\u001b[37m \u001b[0m\u001b[37m│\u001b[0m\n",
              "\u001b[37m│\u001b[0m\u001b[37m \u001b[0m\u001b[37m        \u001b[0m\u001b[1;37m)\u001b[0m\u001b[37m                                                                                                      \u001b[0m\u001b[37m \u001b[0m\u001b[37m│\u001b[0m\n",
              "\u001b[37m│\u001b[0m\u001b[37m \u001b[0m\u001b[37m    \u001b[0m\u001b[1;37m]\u001b[0m\u001b[37m,\u001b[0m\u001b[37m                                                                                                         \u001b[0m\u001b[37m \u001b[0m\u001b[37m│\u001b[0m\n",
              "\u001b[37m│\u001b[0m\u001b[37m \u001b[0m\u001b[37m    \u001b[0m\u001b[33mcollection\u001b[0m\u001b[37m=\u001b[0m\u001b[32m'SpaceMedResearch'\u001b[0m\u001b[37m                                                                              \u001b[0m\u001b[37m \u001b[0m\u001b[37m│\u001b[0m\n",
              "\u001b[37m│\u001b[0m\u001b[37m \u001b[0m\u001b[1;37m)\u001b[0m\u001b[37m                                                                                                              \u001b[0m\u001b[37m \u001b[0m\u001b[37m│\u001b[0m\n",
              "\u001b[37m│\u001b[0m\u001b[37m                                                                                                                 \u001b[0m\u001b[37m│\u001b[0m\n",
              "\u001b[37m╰─────────────────────────────────────────────────────────────────────────────────────────────────────────────────╯\u001b[0m\n"
            ],
            "text/html": [
              "<pre style=\"white-space:pre;overflow-x:auto;line-height:normal;font-family:Menlo,'DejaVu Sans Mono',consolas,'Courier New',monospace\"><span style=\"color: #c0c0c0; text-decoration-color: #c0c0c0\">╭────────────────────────────────────────────</span> 📊 Aggregations Run 1/2 <span style=\"color: #c0c0c0; text-decoration-color: #c0c0c0\">────────────────────────────────────────────╮</span>\n",
              "<span style=\"color: #c0c0c0; text-decoration-color: #c0c0c0\">│                                                                                                                 │</span>\n",
              "<span style=\"color: #c0c0c0; text-decoration-color: #c0c0c0\">│ </span><span style=\"color: #800080; text-decoration-color: #800080; font-weight: bold\">AggregationResultWithCollection</span><span style=\"color: #c0c0c0; text-decoration-color: #c0c0c0; font-weight: bold\">(</span><span style=\"color: #c0c0c0; text-decoration-color: #c0c0c0\">                                                                                │</span>\n",
              "<span style=\"color: #c0c0c0; text-decoration-color: #c0c0c0\">│     </span><span style=\"color: #808000; text-decoration-color: #808000\">search_query</span><span style=\"color: #c0c0c0; text-decoration-color: #c0c0c0\">=</span><span style=\"color: #008000; text-decoration-color: #008000\">'Spaceflight-Associated Neuro-ocular Syndrome (SANS) long-duration spaceflight'</span><span style=\"color: #c0c0c0; text-decoration-color: #c0c0c0\">,               │</span>\n",
              "<span style=\"color: #c0c0c0; text-decoration-color: #c0c0c0\">│     </span><span style=\"color: #808000; text-decoration-color: #808000\">groupby_property</span><span style=\"color: #c0c0c0; text-decoration-color: #c0c0c0\">=</span><span style=\"color: #800080; text-decoration-color: #800080; font-style: italic\">None</span><span style=\"color: #c0c0c0; text-decoration-color: #c0c0c0\">,                                                                                      │</span>\n",
              "<span style=\"color: #c0c0c0; text-decoration-color: #c0c0c0\">│     </span><span style=\"color: #808000; text-decoration-color: #808000\">aggregations</span><span style=\"color: #c0c0c0; text-decoration-color: #c0c0c0\">=</span><span style=\"color: #c0c0c0; text-decoration-color: #c0c0c0; font-weight: bold\">[</span><span style=\"color: #c0c0c0; text-decoration-color: #c0c0c0\">                                                                                              │</span>\n",
              "<span style=\"color: #c0c0c0; text-decoration-color: #c0c0c0\">│         </span><span style=\"color: #800080; text-decoration-color: #800080; font-weight: bold\">TextPropertyAggregation</span><span style=\"color: #c0c0c0; text-decoration-color: #c0c0c0; font-weight: bold\">(</span><span style=\"color: #c0c0c0; text-decoration-color: #c0c0c0\">                                                                                │</span>\n",
              "<span style=\"color: #c0c0c0; text-decoration-color: #c0c0c0\">│             </span><span style=\"color: #808000; text-decoration-color: #808000\">property_name</span><span style=\"color: #c0c0c0; text-decoration-color: #c0c0c0\">=</span><span style=\"color: #008000; text-decoration-color: #008000\">'content'</span><span style=\"color: #c0c0c0; text-decoration-color: #c0c0c0\">,                                                                            │</span>\n",
              "<span style=\"color: #c0c0c0; text-decoration-color: #c0c0c0\">│             </span><span style=\"color: #808000; text-decoration-color: #808000\">metrics</span><span style=\"color: #c0c0c0; text-decoration-color: #c0c0c0\">=</span><span style=\"color: #c0c0c0; text-decoration-color: #c0c0c0; font-weight: bold\">&lt;</span><span style=\"color: #ff00ff; text-decoration-color: #ff00ff; font-weight: bold\">TextMetrics.COUNT:</span><span style=\"color: #000000; text-decoration-color: #000000\"> </span><span style=\"color: #008000; text-decoration-color: #008000\">'COUNT'</span><span style=\"color: #000000; text-decoration-color: #000000\">&gt;,</span><span style=\"color: #c0c0c0; text-decoration-color: #c0c0c0\">                                                               │</span>\n",
              "<span style=\"color: #c0c0c0; text-decoration-color: #c0c0c0\">│ </span><span style=\"color: #000000; text-decoration-color: #000000\">            </span><span style=\"color: #808000; text-decoration-color: #808000\">top_occurrences_limit</span><span style=\"color: #000000; text-decoration-color: #000000\">=</span><span style=\"color: #800080; text-decoration-color: #800080; font-style: italic\">None</span><span style=\"color: #c0c0c0; text-decoration-color: #c0c0c0\">                                                                          │</span>\n",
              "<span style=\"color: #c0c0c0; text-decoration-color: #c0c0c0\">│ </span><span style=\"color: #000000; text-decoration-color: #000000\">        </span><span style=\"color: #000000; text-decoration-color: #000000; font-weight: bold\">)</span><span style=\"color: #c0c0c0; text-decoration-color: #c0c0c0\">                                                                                                       │</span>\n",
              "<span style=\"color: #c0c0c0; text-decoration-color: #c0c0c0\">│ </span><span style=\"color: #000000; text-decoration-color: #000000\">    </span><span style=\"color: #000000; text-decoration-color: #000000; font-weight: bold\">]</span><span style=\"color: #000000; text-decoration-color: #000000\">,</span><span style=\"color: #c0c0c0; text-decoration-color: #c0c0c0\">                                                                                                          │</span>\n",
              "<span style=\"color: #c0c0c0; text-decoration-color: #c0c0c0\">│ </span><span style=\"color: #000000; text-decoration-color: #000000\">    </span><span style=\"color: #808000; text-decoration-color: #808000\">filters</span><span style=\"color: #000000; text-decoration-color: #000000\">=</span><span style=\"color: #000000; text-decoration-color: #000000; font-weight: bold\">[</span><span style=\"color: #c0c0c0; text-decoration-color: #c0c0c0\">                                                                                                   │</span>\n",
              "<span style=\"color: #c0c0c0; text-decoration-color: #c0c0c0\">│ </span><span style=\"color: #000000; text-decoration-color: #000000\">        </span><span style=\"color: #800080; text-decoration-color: #800080; font-weight: bold\">TextPropertyFilter</span><span style=\"color: #000000; text-decoration-color: #000000; font-weight: bold\">(</span><span style=\"color: #c0c0c0; text-decoration-color: #c0c0c0\">                                                                                     │</span>\n",
              "<span style=\"color: #c0c0c0; text-decoration-color: #c0c0c0\">│ </span><span style=\"color: #000000; text-decoration-color: #000000\">            </span><span style=\"color: #808000; text-decoration-color: #808000\">property_name</span><span style=\"color: #000000; text-decoration-color: #000000\">=</span><span style=\"color: #008000; text-decoration-color: #008000\">'content'</span><span style=\"color: #000000; text-decoration-color: #000000\">,</span><span style=\"color: #c0c0c0; text-decoration-color: #c0c0c0\">                                                                            │</span>\n",
              "<span style=\"color: #c0c0c0; text-decoration-color: #c0c0c0\">│ </span><span style=\"color: #000000; text-decoration-color: #000000\">            </span><span style=\"color: #808000; text-decoration-color: #808000\">operator</span><span style=\"color: #000000; text-decoration-color: #000000\">=&lt;ComparisonOperator.LIKE: </span><span style=\"color: #008000; text-decoration-color: #008000\">'LIKE'</span><span style=\"color: #c0c0c0; text-decoration-color: #c0c0c0; font-weight: bold\">&gt;</span><span style=\"color: #c0c0c0; text-decoration-color: #c0c0c0\">,                                                         │</span>\n",
              "<span style=\"color: #c0c0c0; text-decoration-color: #c0c0c0\">│             </span><span style=\"color: #808000; text-decoration-color: #808000\">value</span><span style=\"color: #c0c0c0; text-decoration-color: #c0c0c0\">=</span><span style=\"color: #008000; text-decoration-color: #008000\">'*Spaceflight-Associated Neuro-ocular Syndrome*'</span><span style=\"color: #c0c0c0; text-decoration-color: #c0c0c0\">                                              │</span>\n",
              "<span style=\"color: #c0c0c0; text-decoration-color: #c0c0c0\">│         </span><span style=\"color: #c0c0c0; text-decoration-color: #c0c0c0; font-weight: bold\">)</span><span style=\"color: #c0c0c0; text-decoration-color: #c0c0c0\">                                                                                                       │</span>\n",
              "<span style=\"color: #c0c0c0; text-decoration-color: #c0c0c0\">│     </span><span style=\"color: #c0c0c0; text-decoration-color: #c0c0c0; font-weight: bold\">]</span><span style=\"color: #c0c0c0; text-decoration-color: #c0c0c0\">,                                                                                                          │</span>\n",
              "<span style=\"color: #c0c0c0; text-decoration-color: #c0c0c0\">│     </span><span style=\"color: #808000; text-decoration-color: #808000\">collection</span><span style=\"color: #c0c0c0; text-decoration-color: #c0c0c0\">=</span><span style=\"color: #008000; text-decoration-color: #008000\">'SpaceMedResearch'</span><span style=\"color: #c0c0c0; text-decoration-color: #c0c0c0\">                                                                               │</span>\n",
              "<span style=\"color: #c0c0c0; text-decoration-color: #c0c0c0\">│ </span><span style=\"color: #c0c0c0; text-decoration-color: #c0c0c0; font-weight: bold\">)</span><span style=\"color: #c0c0c0; text-decoration-color: #c0c0c0\">                                                                                                               │</span>\n",
              "<span style=\"color: #c0c0c0; text-decoration-color: #c0c0c0\">│                                                                                                                 │</span>\n",
              "<span style=\"color: #c0c0c0; text-decoration-color: #c0c0c0\">╰─────────────────────────────────────────────────────────────────────────────────────────────────────────────────╯</span>\n",
              "</pre>\n"
            ]
          },
          "metadata": {}
        },
        {
          "output_type": "display_data",
          "data": {
            "text/plain": [
              "\u001b[37m╭─\u001b[0m\u001b[37m───────────────────────────────────────────\u001b[0m 📊 Aggregations Run 2/2 \u001b[37m───────────────────────────────────────────\u001b[0m\u001b[37m─╮\u001b[0m\n",
              "\u001b[37m│\u001b[0m\u001b[37m                                                                                                                 \u001b[0m\u001b[37m│\u001b[0m\n",
              "\u001b[37m│\u001b[0m\u001b[37m \u001b[0m\u001b[1;35mAggregationResultWithCollection\u001b[0m\u001b[1;37m(\u001b[0m\u001b[37m                                                                               \u001b[0m\u001b[37m \u001b[0m\u001b[37m│\u001b[0m\n",
              "\u001b[37m│\u001b[0m\u001b[37m \u001b[0m\u001b[37m    \u001b[0m\u001b[33msearch_query\u001b[0m\u001b[37m=\u001b[0m\u001b[32m'structural eye changes after long-duration spaceflight'\u001b[0m\u001b[37m,\u001b[0m\u001b[37m                                     \u001b[0m\u001b[37m \u001b[0m\u001b[37m│\u001b[0m\n",
              "\u001b[37m│\u001b[0m\u001b[37m \u001b[0m\u001b[37m    \u001b[0m\u001b[33mgroupby_property\u001b[0m\u001b[37m=\u001b[0m\u001b[3;35mNone\u001b[0m\u001b[37m,\u001b[0m\u001b[37m                                                                                     \u001b[0m\u001b[37m \u001b[0m\u001b[37m│\u001b[0m\n",
              "\u001b[37m│\u001b[0m\u001b[37m \u001b[0m\u001b[37m    \u001b[0m\u001b[33maggregations\u001b[0m\u001b[37m=\u001b[0m\u001b[1;37m[\u001b[0m\u001b[37m                                                                                             \u001b[0m\u001b[37m \u001b[0m\u001b[37m│\u001b[0m\n",
              "\u001b[37m│\u001b[0m\u001b[37m \u001b[0m\u001b[37m        \u001b[0m\u001b[1;35mTextPropertyAggregation\u001b[0m\u001b[1;37m(\u001b[0m\u001b[37m                                                                               \u001b[0m\u001b[37m \u001b[0m\u001b[37m│\u001b[0m\n",
              "\u001b[37m│\u001b[0m\u001b[37m \u001b[0m\u001b[37m            \u001b[0m\u001b[33mproperty_name\u001b[0m\u001b[37m=\u001b[0m\u001b[32m'content'\u001b[0m\u001b[37m,\u001b[0m\u001b[37m                                                                           \u001b[0m\u001b[37m \u001b[0m\u001b[37m│\u001b[0m\n",
              "\u001b[37m│\u001b[0m\u001b[37m \u001b[0m\u001b[37m            \u001b[0m\u001b[33mmetrics\u001b[0m\u001b[37m=\u001b[0m\u001b[1;37m<\u001b[0m\u001b[1;95mTextMetrics.COUNT:\u001b[0m\u001b[39m \u001b[0m\u001b[32m'COUNT'\u001b[0m\u001b[39m>,\u001b[0m\u001b[37m                                                              \u001b[0m\u001b[37m \u001b[0m\u001b[37m│\u001b[0m\n",
              "\u001b[37m│\u001b[0m\u001b[37m \u001b[0m\u001b[39m            \u001b[0m\u001b[33mtop_occurrences_limit\u001b[0m\u001b[39m=\u001b[0m\u001b[3;35mNone\u001b[0m\u001b[37m                                                                         \u001b[0m\u001b[37m \u001b[0m\u001b[37m│\u001b[0m\n",
              "\u001b[37m│\u001b[0m\u001b[37m \u001b[0m\u001b[39m        \u001b[0m\u001b[1;39m)\u001b[0m\u001b[39m,\u001b[0m\u001b[37m                                                                                                     \u001b[0m\u001b[37m \u001b[0m\u001b[37m│\u001b[0m\n",
              "\u001b[37m│\u001b[0m\u001b[37m \u001b[0m\u001b[39m        \u001b[0m\u001b[1;35mTextPropertyAggregation\u001b[0m\u001b[1;39m(\u001b[0m\u001b[37m                                                                               \u001b[0m\u001b[37m \u001b[0m\u001b[37m│\u001b[0m\n",
              "\u001b[37m│\u001b[0m\u001b[37m \u001b[0m\u001b[39m            \u001b[0m\u001b[33mproperty_name\u001b[0m\u001b[39m=\u001b[0m\u001b[32m'content'\u001b[0m\u001b[39m,\u001b[0m\u001b[37m                                                                           \u001b[0m\u001b[37m \u001b[0m\u001b[37m│\u001b[0m\n",
              "\u001b[37m│\u001b[0m\u001b[37m \u001b[0m\u001b[39m            \u001b[0m\u001b[33mmetrics\u001b[0m\u001b[39m=<TextMetrics.TOP_OCCURRENCES: \u001b[0m\u001b[32m'TOP_OCCURRENCES'\u001b[0m\u001b[39m>,\u001b[0m\u001b[37m                                          \u001b[0m\u001b[37m \u001b[0m\u001b[37m│\u001b[0m\n",
              "\u001b[37m│\u001b[0m\u001b[37m \u001b[0m\u001b[39m            \u001b[0m\u001b[33mtop_occurrences_limit\u001b[0m\u001b[39m=\u001b[0m\u001b[1;36m5\u001b[0m\u001b[37m                                                                            \u001b[0m\u001b[37m \u001b[0m\u001b[37m│\u001b[0m\n",
              "\u001b[37m│\u001b[0m\u001b[37m \u001b[0m\u001b[39m        \u001b[0m\u001b[1;39m)\u001b[0m\u001b[37m                                                                                                      \u001b[0m\u001b[37m \u001b[0m\u001b[37m│\u001b[0m\n",
              "\u001b[37m│\u001b[0m\u001b[37m \u001b[0m\u001b[39m    \u001b[0m\u001b[1;39m]\u001b[0m\u001b[39m,\u001b[0m\u001b[37m                                                                                                         \u001b[0m\u001b[37m \u001b[0m\u001b[37m│\u001b[0m\n",
              "\u001b[37m│\u001b[0m\u001b[37m \u001b[0m\u001b[39m    \u001b[0m\u001b[33mfilters\u001b[0m\u001b[39m=\u001b[0m\u001b[1;39m[\u001b[0m\u001b[37m                                                                                                  \u001b[0m\u001b[37m \u001b[0m\u001b[37m│\u001b[0m\n",
              "\u001b[37m│\u001b[0m\u001b[37m \u001b[0m\u001b[39m        \u001b[0m\u001b[1;35mTextPropertyFilter\u001b[0m\u001b[1;39m(\u001b[0m\u001b[37m                                                                                    \u001b[0m\u001b[37m \u001b[0m\u001b[37m│\u001b[0m\n",
              "\u001b[37m│\u001b[0m\u001b[37m \u001b[0m\u001b[39m            \u001b[0m\u001b[33mproperty_name\u001b[0m\u001b[39m=\u001b[0m\u001b[32m'content'\u001b[0m\u001b[39m,\u001b[0m\u001b[37m                                                                           \u001b[0m\u001b[37m \u001b[0m\u001b[37m│\u001b[0m\n",
              "\u001b[37m│\u001b[0m\u001b[37m \u001b[0m\u001b[39m            \u001b[0m\u001b[33moperator\u001b[0m\u001b[39m=<ComparisonOperator.LIKE: \u001b[0m\u001b[32m'LIKE'\u001b[0m\u001b[39m>,\u001b[0m\u001b[37m                                                        \u001b[0m\u001b[37m \u001b[0m\u001b[37m│\u001b[0m\n",
              "\u001b[37m│\u001b[0m\u001b[37m \u001b[0m\u001b[39m            \u001b[0m\u001b[33mvalue\u001b[0m\u001b[39m=\u001b[0m\u001b[32m'*structural eye change*'\u001b[0m\u001b[37m                                                                    \u001b[0m\u001b[37m \u001b[0m\u001b[37m│\u001b[0m\n",
              "\u001b[37m│\u001b[0m\u001b[37m \u001b[0m\u001b[39m        \u001b[0m\u001b[1;39m)\u001b[0m\u001b[39m,\u001b[0m\u001b[37m                                                                                                     \u001b[0m\u001b[37m \u001b[0m\u001b[37m│\u001b[0m\n",
              "\u001b[37m│\u001b[0m\u001b[37m \u001b[0m\u001b[39m        \u001b[0m\u001b[1;35mTextPropertyFilter\u001b[0m\u001b[1;39m(\u001b[0m\u001b[37m                                                                                    \u001b[0m\u001b[37m \u001b[0m\u001b[37m│\u001b[0m\n",
              "\u001b[37m│\u001b[0m\u001b[37m \u001b[0m\u001b[39m            \u001b[0m\u001b[33mproperty_name\u001b[0m\u001b[39m=\u001b[0m\u001b[32m'content'\u001b[0m\u001b[39m,\u001b[0m\u001b[37m                                                                           \u001b[0m\u001b[37m \u001b[0m\u001b[37m│\u001b[0m\n",
              "\u001b[37m│\u001b[0m\u001b[37m \u001b[0m\u001b[39m            \u001b[0m\u001b[33moperator\u001b[0m\u001b[39m=<ComparisonOperator.LIKE: \u001b[0m\u001b[32m'LIKE'\u001b[0m\u001b[1;37m>\u001b[0m\u001b[37m,\u001b[0m\u001b[37m                                                        \u001b[0m\u001b[37m \u001b[0m\u001b[37m│\u001b[0m\n",
              "\u001b[37m│\u001b[0m\u001b[37m \u001b[0m\u001b[37m            \u001b[0m\u001b[33mvalue\u001b[0m\u001b[37m=\u001b[0m\u001b[32m'*long-duration spaceflight*'\u001b[0m\u001b[37m                                                                \u001b[0m\u001b[37m \u001b[0m\u001b[37m│\u001b[0m\n",
              "\u001b[37m│\u001b[0m\u001b[37m \u001b[0m\u001b[37m        \u001b[0m\u001b[1;37m)\u001b[0m\u001b[37m                                                                                                      \u001b[0m\u001b[37m \u001b[0m\u001b[37m│\u001b[0m\n",
              "\u001b[37m│\u001b[0m\u001b[37m \u001b[0m\u001b[37m    \u001b[0m\u001b[1;37m]\u001b[0m\u001b[37m,\u001b[0m\u001b[37m                                                                                                         \u001b[0m\u001b[37m \u001b[0m\u001b[37m│\u001b[0m\n",
              "\u001b[37m│\u001b[0m\u001b[37m \u001b[0m\u001b[37m    \u001b[0m\u001b[33mcollection\u001b[0m\u001b[37m=\u001b[0m\u001b[32m'SpaceMedResearch'\u001b[0m\u001b[37m                                                                              \u001b[0m\u001b[37m \u001b[0m\u001b[37m│\u001b[0m\n",
              "\u001b[37m│\u001b[0m\u001b[37m \u001b[0m\u001b[1;37m)\u001b[0m\u001b[37m                                                                                                              \u001b[0m\u001b[37m \u001b[0m\u001b[37m│\u001b[0m\n",
              "\u001b[37m│\u001b[0m\u001b[37m                                                                                                                 \u001b[0m\u001b[37m│\u001b[0m\n",
              "\u001b[37m╰─────────────────────────────────────────────────────────────────────────────────────────────────────────────────╯\u001b[0m\n"
            ],
            "text/html": [
              "<pre style=\"white-space:pre;overflow-x:auto;line-height:normal;font-family:Menlo,'DejaVu Sans Mono',consolas,'Courier New',monospace\"><span style=\"color: #c0c0c0; text-decoration-color: #c0c0c0\">╭────────────────────────────────────────────</span> 📊 Aggregations Run 2/2 <span style=\"color: #c0c0c0; text-decoration-color: #c0c0c0\">────────────────────────────────────────────╮</span>\n",
              "<span style=\"color: #c0c0c0; text-decoration-color: #c0c0c0\">│                                                                                                                 │</span>\n",
              "<span style=\"color: #c0c0c0; text-decoration-color: #c0c0c0\">│ </span><span style=\"color: #800080; text-decoration-color: #800080; font-weight: bold\">AggregationResultWithCollection</span><span style=\"color: #c0c0c0; text-decoration-color: #c0c0c0; font-weight: bold\">(</span><span style=\"color: #c0c0c0; text-decoration-color: #c0c0c0\">                                                                                │</span>\n",
              "<span style=\"color: #c0c0c0; text-decoration-color: #c0c0c0\">│     </span><span style=\"color: #808000; text-decoration-color: #808000\">search_query</span><span style=\"color: #c0c0c0; text-decoration-color: #c0c0c0\">=</span><span style=\"color: #008000; text-decoration-color: #008000\">'structural eye changes after long-duration spaceflight'</span><span style=\"color: #c0c0c0; text-decoration-color: #c0c0c0\">,                                      │</span>\n",
              "<span style=\"color: #c0c0c0; text-decoration-color: #c0c0c0\">│     </span><span style=\"color: #808000; text-decoration-color: #808000\">groupby_property</span><span style=\"color: #c0c0c0; text-decoration-color: #c0c0c0\">=</span><span style=\"color: #800080; text-decoration-color: #800080; font-style: italic\">None</span><span style=\"color: #c0c0c0; text-decoration-color: #c0c0c0\">,                                                                                      │</span>\n",
              "<span style=\"color: #c0c0c0; text-decoration-color: #c0c0c0\">│     </span><span style=\"color: #808000; text-decoration-color: #808000\">aggregations</span><span style=\"color: #c0c0c0; text-decoration-color: #c0c0c0\">=</span><span style=\"color: #c0c0c0; text-decoration-color: #c0c0c0; font-weight: bold\">[</span><span style=\"color: #c0c0c0; text-decoration-color: #c0c0c0\">                                                                                              │</span>\n",
              "<span style=\"color: #c0c0c0; text-decoration-color: #c0c0c0\">│         </span><span style=\"color: #800080; text-decoration-color: #800080; font-weight: bold\">TextPropertyAggregation</span><span style=\"color: #c0c0c0; text-decoration-color: #c0c0c0; font-weight: bold\">(</span><span style=\"color: #c0c0c0; text-decoration-color: #c0c0c0\">                                                                                │</span>\n",
              "<span style=\"color: #c0c0c0; text-decoration-color: #c0c0c0\">│             </span><span style=\"color: #808000; text-decoration-color: #808000\">property_name</span><span style=\"color: #c0c0c0; text-decoration-color: #c0c0c0\">=</span><span style=\"color: #008000; text-decoration-color: #008000\">'content'</span><span style=\"color: #c0c0c0; text-decoration-color: #c0c0c0\">,                                                                            │</span>\n",
              "<span style=\"color: #c0c0c0; text-decoration-color: #c0c0c0\">│             </span><span style=\"color: #808000; text-decoration-color: #808000\">metrics</span><span style=\"color: #c0c0c0; text-decoration-color: #c0c0c0\">=</span><span style=\"color: #c0c0c0; text-decoration-color: #c0c0c0; font-weight: bold\">&lt;</span><span style=\"color: #ff00ff; text-decoration-color: #ff00ff; font-weight: bold\">TextMetrics.COUNT:</span><span style=\"color: #000000; text-decoration-color: #000000\"> </span><span style=\"color: #008000; text-decoration-color: #008000\">'COUNT'</span><span style=\"color: #000000; text-decoration-color: #000000\">&gt;,</span><span style=\"color: #c0c0c0; text-decoration-color: #c0c0c0\">                                                               │</span>\n",
              "<span style=\"color: #c0c0c0; text-decoration-color: #c0c0c0\">│ </span><span style=\"color: #000000; text-decoration-color: #000000\">            </span><span style=\"color: #808000; text-decoration-color: #808000\">top_occurrences_limit</span><span style=\"color: #000000; text-decoration-color: #000000\">=</span><span style=\"color: #800080; text-decoration-color: #800080; font-style: italic\">None</span><span style=\"color: #c0c0c0; text-decoration-color: #c0c0c0\">                                                                          │</span>\n",
              "<span style=\"color: #c0c0c0; text-decoration-color: #c0c0c0\">│ </span><span style=\"color: #000000; text-decoration-color: #000000\">        </span><span style=\"color: #000000; text-decoration-color: #000000; font-weight: bold\">)</span><span style=\"color: #000000; text-decoration-color: #000000\">,</span><span style=\"color: #c0c0c0; text-decoration-color: #c0c0c0\">                                                                                                      │</span>\n",
              "<span style=\"color: #c0c0c0; text-decoration-color: #c0c0c0\">│ </span><span style=\"color: #000000; text-decoration-color: #000000\">        </span><span style=\"color: #800080; text-decoration-color: #800080; font-weight: bold\">TextPropertyAggregation</span><span style=\"color: #000000; text-decoration-color: #000000; font-weight: bold\">(</span><span style=\"color: #c0c0c0; text-decoration-color: #c0c0c0\">                                                                                │</span>\n",
              "<span style=\"color: #c0c0c0; text-decoration-color: #c0c0c0\">│ </span><span style=\"color: #000000; text-decoration-color: #000000\">            </span><span style=\"color: #808000; text-decoration-color: #808000\">property_name</span><span style=\"color: #000000; text-decoration-color: #000000\">=</span><span style=\"color: #008000; text-decoration-color: #008000\">'content'</span><span style=\"color: #000000; text-decoration-color: #000000\">,</span><span style=\"color: #c0c0c0; text-decoration-color: #c0c0c0\">                                                                            │</span>\n",
              "<span style=\"color: #c0c0c0; text-decoration-color: #c0c0c0\">│ </span><span style=\"color: #000000; text-decoration-color: #000000\">            </span><span style=\"color: #808000; text-decoration-color: #808000\">metrics</span><span style=\"color: #000000; text-decoration-color: #000000\">=&lt;TextMetrics.TOP_OCCURRENCES: </span><span style=\"color: #008000; text-decoration-color: #008000\">'TOP_OCCURRENCES'</span><span style=\"color: #000000; text-decoration-color: #000000\">&gt;,</span><span style=\"color: #c0c0c0; text-decoration-color: #c0c0c0\">                                           │</span>\n",
              "<span style=\"color: #c0c0c0; text-decoration-color: #c0c0c0\">│ </span><span style=\"color: #000000; text-decoration-color: #000000\">            </span><span style=\"color: #808000; text-decoration-color: #808000\">top_occurrences_limit</span><span style=\"color: #000000; text-decoration-color: #000000\">=</span><span style=\"color: #008080; text-decoration-color: #008080; font-weight: bold\">5</span><span style=\"color: #c0c0c0; text-decoration-color: #c0c0c0\">                                                                             │</span>\n",
              "<span style=\"color: #c0c0c0; text-decoration-color: #c0c0c0\">│ </span><span style=\"color: #000000; text-decoration-color: #000000\">        </span><span style=\"color: #000000; text-decoration-color: #000000; font-weight: bold\">)</span><span style=\"color: #c0c0c0; text-decoration-color: #c0c0c0\">                                                                                                       │</span>\n",
              "<span style=\"color: #c0c0c0; text-decoration-color: #c0c0c0\">│ </span><span style=\"color: #000000; text-decoration-color: #000000\">    </span><span style=\"color: #000000; text-decoration-color: #000000; font-weight: bold\">]</span><span style=\"color: #000000; text-decoration-color: #000000\">,</span><span style=\"color: #c0c0c0; text-decoration-color: #c0c0c0\">                                                                                                          │</span>\n",
              "<span style=\"color: #c0c0c0; text-decoration-color: #c0c0c0\">│ </span><span style=\"color: #000000; text-decoration-color: #000000\">    </span><span style=\"color: #808000; text-decoration-color: #808000\">filters</span><span style=\"color: #000000; text-decoration-color: #000000\">=</span><span style=\"color: #000000; text-decoration-color: #000000; font-weight: bold\">[</span><span style=\"color: #c0c0c0; text-decoration-color: #c0c0c0\">                                                                                                   │</span>\n",
              "<span style=\"color: #c0c0c0; text-decoration-color: #c0c0c0\">│ </span><span style=\"color: #000000; text-decoration-color: #000000\">        </span><span style=\"color: #800080; text-decoration-color: #800080; font-weight: bold\">TextPropertyFilter</span><span style=\"color: #000000; text-decoration-color: #000000; font-weight: bold\">(</span><span style=\"color: #c0c0c0; text-decoration-color: #c0c0c0\">                                                                                     │</span>\n",
              "<span style=\"color: #c0c0c0; text-decoration-color: #c0c0c0\">│ </span><span style=\"color: #000000; text-decoration-color: #000000\">            </span><span style=\"color: #808000; text-decoration-color: #808000\">property_name</span><span style=\"color: #000000; text-decoration-color: #000000\">=</span><span style=\"color: #008000; text-decoration-color: #008000\">'content'</span><span style=\"color: #000000; text-decoration-color: #000000\">,</span><span style=\"color: #c0c0c0; text-decoration-color: #c0c0c0\">                                                                            │</span>\n",
              "<span style=\"color: #c0c0c0; text-decoration-color: #c0c0c0\">│ </span><span style=\"color: #000000; text-decoration-color: #000000\">            </span><span style=\"color: #808000; text-decoration-color: #808000\">operator</span><span style=\"color: #000000; text-decoration-color: #000000\">=&lt;ComparisonOperator.LIKE: </span><span style=\"color: #008000; text-decoration-color: #008000\">'LIKE'</span><span style=\"color: #000000; text-decoration-color: #000000\">&gt;,</span><span style=\"color: #c0c0c0; text-decoration-color: #c0c0c0\">                                                         │</span>\n",
              "<span style=\"color: #c0c0c0; text-decoration-color: #c0c0c0\">│ </span><span style=\"color: #000000; text-decoration-color: #000000\">            </span><span style=\"color: #808000; text-decoration-color: #808000\">value</span><span style=\"color: #000000; text-decoration-color: #000000\">=</span><span style=\"color: #008000; text-decoration-color: #008000\">'*structural eye change*'</span><span style=\"color: #c0c0c0; text-decoration-color: #c0c0c0\">                                                                     │</span>\n",
              "<span style=\"color: #c0c0c0; text-decoration-color: #c0c0c0\">│ </span><span style=\"color: #000000; text-decoration-color: #000000\">        </span><span style=\"color: #000000; text-decoration-color: #000000; font-weight: bold\">)</span><span style=\"color: #000000; text-decoration-color: #000000\">,</span><span style=\"color: #c0c0c0; text-decoration-color: #c0c0c0\">                                                                                                      │</span>\n",
              "<span style=\"color: #c0c0c0; text-decoration-color: #c0c0c0\">│ </span><span style=\"color: #000000; text-decoration-color: #000000\">        </span><span style=\"color: #800080; text-decoration-color: #800080; font-weight: bold\">TextPropertyFilter</span><span style=\"color: #000000; text-decoration-color: #000000; font-weight: bold\">(</span><span style=\"color: #c0c0c0; text-decoration-color: #c0c0c0\">                                                                                     │</span>\n",
              "<span style=\"color: #c0c0c0; text-decoration-color: #c0c0c0\">│ </span><span style=\"color: #000000; text-decoration-color: #000000\">            </span><span style=\"color: #808000; text-decoration-color: #808000\">property_name</span><span style=\"color: #000000; text-decoration-color: #000000\">=</span><span style=\"color: #008000; text-decoration-color: #008000\">'content'</span><span style=\"color: #000000; text-decoration-color: #000000\">,</span><span style=\"color: #c0c0c0; text-decoration-color: #c0c0c0\">                                                                            │</span>\n",
              "<span style=\"color: #c0c0c0; text-decoration-color: #c0c0c0\">│ </span><span style=\"color: #000000; text-decoration-color: #000000\">            </span><span style=\"color: #808000; text-decoration-color: #808000\">operator</span><span style=\"color: #000000; text-decoration-color: #000000\">=&lt;ComparisonOperator.LIKE: </span><span style=\"color: #008000; text-decoration-color: #008000\">'LIKE'</span><span style=\"color: #c0c0c0; text-decoration-color: #c0c0c0; font-weight: bold\">&gt;</span><span style=\"color: #c0c0c0; text-decoration-color: #c0c0c0\">,                                                         │</span>\n",
              "<span style=\"color: #c0c0c0; text-decoration-color: #c0c0c0\">│             </span><span style=\"color: #808000; text-decoration-color: #808000\">value</span><span style=\"color: #c0c0c0; text-decoration-color: #c0c0c0\">=</span><span style=\"color: #008000; text-decoration-color: #008000\">'*long-duration spaceflight*'</span><span style=\"color: #c0c0c0; text-decoration-color: #c0c0c0\">                                                                 │</span>\n",
              "<span style=\"color: #c0c0c0; text-decoration-color: #c0c0c0\">│         </span><span style=\"color: #c0c0c0; text-decoration-color: #c0c0c0; font-weight: bold\">)</span><span style=\"color: #c0c0c0; text-decoration-color: #c0c0c0\">                                                                                                       │</span>\n",
              "<span style=\"color: #c0c0c0; text-decoration-color: #c0c0c0\">│     </span><span style=\"color: #c0c0c0; text-decoration-color: #c0c0c0; font-weight: bold\">]</span><span style=\"color: #c0c0c0; text-decoration-color: #c0c0c0\">,                                                                                                          │</span>\n",
              "<span style=\"color: #c0c0c0; text-decoration-color: #c0c0c0\">│     </span><span style=\"color: #808000; text-decoration-color: #808000\">collection</span><span style=\"color: #c0c0c0; text-decoration-color: #c0c0c0\">=</span><span style=\"color: #008000; text-decoration-color: #008000\">'SpaceMedResearch'</span><span style=\"color: #c0c0c0; text-decoration-color: #c0c0c0\">                                                                               │</span>\n",
              "<span style=\"color: #c0c0c0; text-decoration-color: #c0c0c0\">│ </span><span style=\"color: #c0c0c0; text-decoration-color: #c0c0c0; font-weight: bold\">)</span><span style=\"color: #c0c0c0; text-decoration-color: #c0c0c0\">                                                                                                               │</span>\n",
              "<span style=\"color: #c0c0c0; text-decoration-color: #c0c0c0\">│                                                                                                                 │</span>\n",
              "<span style=\"color: #c0c0c0; text-decoration-color: #c0c0c0\">╰─────────────────────────────────────────────────────────────────────────────────────────────────────────────────╯</span>\n",
              "</pre>\n"
            ]
          },
          "metadata": {}
        },
        {
          "output_type": "display_data",
          "data": {
            "text/plain": [
              "\u001b[33m╭─\u001b[0m\u001b[33m───────────────────────────────────────────\u001b[0m ⚠️ Missing Information: \u001b[33m────────────────────────────────────────────\u001b[0m\u001b[33m─╮\u001b[0m\n",
              "\u001b[33m│\u001b[0m\u001b[33m                                                                                                                 \u001b[0m\u001b[33m│\u001b[0m\n",
              "\u001b[33m│\u001b[0m\u001b[33m \u001b[0m\u001b[33m- Exact prevalence data beyond the reported ~40% of astronauts affected\u001b[0m\u001b[33m                                        \u001b[0m\u001b[33m \u001b[0m\u001b[33m│\u001b[0m\n",
              "\u001b[33m│\u001b[0m\u001b[33m \u001b[0m\u001b[33m- Detailed mechanisms causing SANS\u001b[0m\u001b[33m                                                                             \u001b[0m\u001b[33m \u001b[0m\u001b[33m│\u001b[0m\n",
              "\u001b[33m│\u001b[0m\u001b[33m \u001b[0m\u001b[33m- Long-term outcomes of SANS in astronauts\u001b[0m\u001b[33m                                                                     \u001b[0m\u001b[33m \u001b[0m\u001b[33m│\u001b[0m\n",
              "\u001b[33m│\u001b[0m\u001b[33m                                                                                                                 \u001b[0m\u001b[33m│\u001b[0m\n",
              "\u001b[33m╰─────────────────────────────────────────────────────────────────────────────────────────────────────────────────╯\u001b[0m\n"
            ],
            "text/html": [
              "<pre style=\"white-space:pre;overflow-x:auto;line-height:normal;font-family:Menlo,'DejaVu Sans Mono',consolas,'Courier New',monospace\"><span style=\"color: #808000; text-decoration-color: #808000\">╭────────────────────────────────────────────</span> ⚠️ Missing Information: <span style=\"color: #808000; text-decoration-color: #808000\">─────────────────────────────────────────────╮</span>\n",
              "<span style=\"color: #808000; text-decoration-color: #808000\">│                                                                                                                 │</span>\n",
              "<span style=\"color: #808000; text-decoration-color: #808000\">│ - Exact prevalence data beyond the reported ~40% of astronauts affected                                         │</span>\n",
              "<span style=\"color: #808000; text-decoration-color: #808000\">│ - Detailed mechanisms causing SANS                                                                              │</span>\n",
              "<span style=\"color: #808000; text-decoration-color: #808000\">│ - Long-term outcomes of SANS in astronauts                                                                      │</span>\n",
              "<span style=\"color: #808000; text-decoration-color: #808000\">│                                                                                                                 │</span>\n",
              "<span style=\"color: #808000; text-decoration-color: #808000\">╰─────────────────────────────────────────────────────────────────────────────────────────────────────────────────╯</span>\n",
              "</pre>\n"
            ]
          },
          "metadata": {}
        },
        {
          "output_type": "display_data",
          "data": {
            "text/plain": [
              "\u001b[37m╭─\u001b[0m\u001b[37m─────────────────────────────────────────────────\u001b[0m 📚 Sources \u001b[37m──────────────────────────────────────────────────\u001b[0m\u001b[37m─╮\u001b[0m\n",
              "\u001b[37m│\u001b[0m\u001b[37m                                                                                                                 \u001b[0m\u001b[37m│\u001b[0m\n",
              "\u001b[37m│\u001b[0m\u001b[37m \u001b[0m\u001b[37m - object_id='92b1e99f-2e10-50f5-a7cf-96e01e18882d' collection='SpaceMedResearch'\u001b[0m\u001b[37m                              \u001b[0m\u001b[37m \u001b[0m\u001b[37m│\u001b[0m\n",
              "\u001b[37m│\u001b[0m\u001b[37m \u001b[0m\u001b[37m - object_id='7fa959eb-5f6a-5b6b-90cc-990c0b13c235' collection='SpaceMedResearch'\u001b[0m\u001b[37m                              \u001b[0m\u001b[37m \u001b[0m\u001b[37m│\u001b[0m\n",
              "\u001b[37m│\u001b[0m\u001b[37m \u001b[0m\u001b[37m - object_id='ed315c46-2ed6-5a88-b60e-bf3cb553e123' collection='SpaceMedResearch'\u001b[0m\u001b[37m                              \u001b[0m\u001b[37m \u001b[0m\u001b[37m│\u001b[0m\n",
              "\u001b[37m│\u001b[0m\u001b[37m \u001b[0m\u001b[37m - object_id='7a58ed26-c684-5489-ada9-5d67f4c8aafc' collection='SpaceMedResearch'\u001b[0m\u001b[37m                              \u001b[0m\u001b[37m \u001b[0m\u001b[37m│\u001b[0m\n",
              "\u001b[37m│\u001b[0m\u001b[37m \u001b[0m\u001b[37m - object_id='2d103556-0fb5-5eaf-882c-528610fdf3d2' collection='SpaceMedResearch'\u001b[0m\u001b[37m                              \u001b[0m\u001b[37m \u001b[0m\u001b[37m│\u001b[0m\n",
              "\u001b[37m│\u001b[0m\u001b[37m                                                                                                                 \u001b[0m\u001b[37m│\u001b[0m\n",
              "\u001b[37m╰─────────────────────────────────────────────────────────────────────────────────────────────────────────────────╯\u001b[0m\n"
            ],
            "text/html": [
              "<pre style=\"white-space:pre;overflow-x:auto;line-height:normal;font-family:Menlo,'DejaVu Sans Mono',consolas,'Courier New',monospace\"><span style=\"color: #c0c0c0; text-decoration-color: #c0c0c0\">╭──────────────────────────────────────────────────</span> 📚 Sources <span style=\"color: #c0c0c0; text-decoration-color: #c0c0c0\">───────────────────────────────────────────────────╮</span>\n",
              "<span style=\"color: #c0c0c0; text-decoration-color: #c0c0c0\">│                                                                                                                 │</span>\n",
              "<span style=\"color: #c0c0c0; text-decoration-color: #c0c0c0\">│  - object_id='92b1e99f-2e10-50f5-a7cf-96e01e18882d' collection='SpaceMedResearch'                               │</span>\n",
              "<span style=\"color: #c0c0c0; text-decoration-color: #c0c0c0\">│  - object_id='7fa959eb-5f6a-5b6b-90cc-990c0b13c235' collection='SpaceMedResearch'                               │</span>\n",
              "<span style=\"color: #c0c0c0; text-decoration-color: #c0c0c0\">│  - object_id='ed315c46-2ed6-5a88-b60e-bf3cb553e123' collection='SpaceMedResearch'                               │</span>\n",
              "<span style=\"color: #c0c0c0; text-decoration-color: #c0c0c0\">│  - object_id='7a58ed26-c684-5489-ada9-5d67f4c8aafc' collection='SpaceMedResearch'                               │</span>\n",
              "<span style=\"color: #c0c0c0; text-decoration-color: #c0c0c0\">│  - object_id='2d103556-0fb5-5eaf-882c-528610fdf3d2' collection='SpaceMedResearch'                               │</span>\n",
              "<span style=\"color: #c0c0c0; text-decoration-color: #c0c0c0\">│                                                                                                                 │</span>\n",
              "<span style=\"color: #c0c0c0; text-decoration-color: #c0c0c0\">╰─────────────────────────────────────────────────────────────────────────────────────────────────────────────────╯</span>\n",
              "</pre>\n"
            ]
          },
          "metadata": {}
        },
        {
          "output_type": "stream",
          "name": "stdout",
          "text": [
            "\n",
            "\n"
          ]
        },
        {
          "output_type": "display_data",
          "data": {
            "text/plain": [
              "\u001b[3m   📊 Usage Statistics    \u001b[0m\n",
              "┌────────────────┬───────┐\n",
              "│ LLM Requests:  │ 6     │\n",
              "│ Input Tokens:  │ 14663 │\n",
              "│ Output Tokens: │ 695   │\n",
              "│ Total Tokens:  │ 15358 │\n",
              "└────────────────┴───────┘\n"
            ],
            "text/html": [
              "<pre style=\"white-space:pre;overflow-x:auto;line-height:normal;font-family:Menlo,'DejaVu Sans Mono',consolas,'Courier New',monospace\"><span style=\"font-style: italic\">   📊 Usage Statistics    </span>\n",
              "┌────────────────┬───────┐\n",
              "│ LLM Requests:  │ 6     │\n",
              "│ Input Tokens:  │ 14663 │\n",
              "│ Output Tokens: │ 695   │\n",
              "│ Total Tokens:  │ 15358 │\n",
              "└────────────────┴───────┘\n",
              "</pre>\n"
            ]
          },
          "metadata": {}
        },
        {
          "output_type": "display_data",
          "data": {
            "text/plain": [
              "\n",
              "\u001b[1;36mTotal Time Taken:\u001b[0m\u001b[36m \u001b[0m\u001b[1;36m10.\u001b[0m\u001b[36m27s\u001b[0m\n"
            ],
            "text/html": [
              "<pre style=\"white-space:pre;overflow-x:auto;line-height:normal;font-family:Menlo,'DejaVu Sans Mono',consolas,'Courier New',monospace\">\n",
              "<span style=\"color: #008080; text-decoration-color: #008080; font-weight: bold\">Total Time Taken:</span><span style=\"color: #008080; text-decoration-color: #008080\"> </span><span style=\"color: #008080; text-decoration-color: #008080; font-weight: bold\">10.</span><span style=\"color: #008080; text-decoration-color: #008080\">27s</span>\n",
              "</pre>\n"
            ]
          },
          "metadata": {}
        }
      ]
    },
    {
      "cell_type": "code",
      "source": [
        "# Perform a query for articles with contradictory information\n",
        "response = qa.run(\n",
        "    \"What are the proposed mechanisms behind SANS, and do researchers agree on whether fluid shifts and intracranial pressure are the primary causes?\"\n",
        ")\n",
        "# Print the response\n",
        "response.display()"
      ],
      "metadata": {
        "id": "dG9Ld2ejyQ78",
        "outputId": "712094e0-2355-409c-817f-c7ff770d2362",
        "colab": {
          "base_uri": "https://localhost:8080/",
          "height": 1000
        }
      },
      "execution_count": 59,
      "outputs": [
        {
          "output_type": "display_data",
          "data": {
            "text/plain": [
              "╭─────────────────────────────────────────────── 🔍 Original Query ───────────────────────────────────────────────╮\n",
              "│                                                                                                                 │\n",
              "│ What are the proposed mechanisms behind SANS, and do researchers agree on whether fluid shifts and intracranial │\n",
              "│ pressure are the primary causes?                                                                                │\n",
              "│                                                                                                                 │\n",
              "╰─────────────────────────────────────────────────────────────────────────────────────────────────────────────────╯\n"
            ],
            "text/html": [
              "<pre style=\"white-space:pre;overflow-x:auto;line-height:normal;font-family:Menlo,'DejaVu Sans Mono',consolas,'Courier New',monospace\">╭─────────────────────────────────────────────── 🔍 Original Query ───────────────────────────────────────────────╮\n",
              "│                                                                                                                 │\n",
              "│ What are the proposed mechanisms behind SANS, and do researchers agree on whether fluid shifts and intracranial │\n",
              "│ pressure are the primary causes?                                                                                │\n",
              "│                                                                                                                 │\n",
              "╰─────────────────────────────────────────────────────────────────────────────────────────────────────────────────╯\n",
              "</pre>\n"
            ]
          },
          "metadata": {}
        },
        {
          "output_type": "display_data",
          "data": {
            "text/plain": [
              "\u001b[36m╭─\u001b[0m\u001b[36m───────────────────────────────────────────────\u001b[0m 📝 Final Answer \u001b[36m───────────────────────────────────────────────\u001b[0m\u001b[36m─╮\u001b[0m\n",
              "\u001b[36m│\u001b[0m\u001b[36m                                                                                                                 \u001b[0m\u001b[36m│\u001b[0m\n",
              "\u001b[36m│\u001b[0m\u001b[36m \u001b[0m\u001b[36mSpaceflight Associated Neuro-ocular Syndrome (SANS) is a condition experienced by astronauts characterized by \u001b[0m\u001b[36m \u001b[0m\u001b[36m \u001b[0m\u001b[36m│\u001b[0m\n",
              "\u001b[36m│\u001b[0m\u001b[36m \u001b[0m\u001b[36mocular and neuro-ocular changes such as optic disc edema, globe flattening, choroidal folds, and vision \u001b[0m\u001b[36m       \u001b[0m\u001b[36m \u001b[0m\u001b[36m│\u001b[0m\n",
              "\u001b[36m│\u001b[0m\u001b[36m \u001b[0m\u001b[36mchanges. The proposed mechanisms behind SANS primarily involve cephalad fluid shifts caused by microgravity, \u001b[0m\u001b[36m  \u001b[0m\u001b[36m \u001b[0m\u001b[36m│\u001b[0m\n",
              "\u001b[36m│\u001b[0m\u001b[36m \u001b[0m\u001b[36mwhich may lead to alterations in intracranial pressure (ICP). These fluid shifts are thought to cause \u001b[0m\u001b[36m         \u001b[0m\u001b[36m \u001b[0m\u001b[36m│\u001b[0m\n",
              "\u001b[36m│\u001b[0m\u001b[36m \u001b[0m\u001b[36mstructural and functional changes in neuro-ocular tissues and possibly brain functional organization. However, \u001b[0m\u001b[36m \u001b[0m\u001b[36m│\u001b[0m\n",
              "\u001b[36m│\u001b[0m\u001b[36m \u001b[0m\u001b[36mdespite these hypotheses, the exact origin and underlying cause of SANS remain unclear.\u001b[0m\u001b[36m                        \u001b[0m\u001b[36m \u001b[0m\u001b[36m│\u001b[0m\n",
              "\u001b[36m│\u001b[0m\u001b[36m \u001b[0m\u001b[36m                                                                                                               \u001b[0m\u001b[36m \u001b[0m\u001b[36m│\u001b[0m\n",
              "\u001b[36m│\u001b[0m\u001b[36m \u001b[0m\u001b[36mResearch indicates that SANS not only affects ocular structures but also impacts brain functional connectivity,\u001b[0m\u001b[36m \u001b[0m\u001b[36m│\u001b[0m\n",
              "\u001b[36m│\u001b[0m\u001b[36m \u001b[0m\u001b[36mparticularly in visual and multisensory integration networks, suggesting a broader neurophysiological \u001b[0m\u001b[36m         \u001b[0m\u001b[36m \u001b[0m\u001b[36m│\u001b[0m\n",
              "\u001b[36m│\u001b[0m\u001b[36m \u001b[0m\u001b[36malteration. Some studies have explored resting-state brain activity and functional connectivity differences in \u001b[0m\u001b[36m \u001b[0m\u001b[36m│\u001b[0m\n",
              "\u001b[36m│\u001b[0m\u001b[36m \u001b[0m\u001b[36mindividuals who develop SANS, pointing to possible predisposing factors beyond fluid shifts and ICP.\u001b[0m\u001b[36m           \u001b[0m\u001b[36m \u001b[0m\u001b[36m│\u001b[0m\n",
              "\u001b[36m│\u001b[0m\u001b[36m \u001b[0m\u001b[36m                                                                                                               \u001b[0m\u001b[36m \u001b[0m\u001b[36m│\u001b[0m\n",
              "\u001b[36m│\u001b[0m\u001b[36m \u001b[0m\u001b[36mRegarding consensus, there is no full agreement among researchers that fluid shifts and increased intracranial \u001b[0m\u001b[36m \u001b[0m\u001b[36m│\u001b[0m\n",
              "\u001b[36m│\u001b[0m\u001b[36m \u001b[0m\u001b[36mpressure are the sole or primary causes of SANS. While these factors are central hypotheses, the exact \u001b[0m\u001b[36m        \u001b[0m\u001b[36m \u001b[0m\u001b[36m│\u001b[0m\n",
              "\u001b[36m│\u001b[0m\u001b[36m \u001b[0m\u001b[36mmechanisms are not fully understood, and the condition’s pathophysiology involves complex interactions that are\u001b[0m\u001b[36m \u001b[0m\u001b[36m│\u001b[0m\n",
              "\u001b[36m│\u001b[0m\u001b[36m \u001b[0m\u001b[36mstill under investigation. Further research is needed to clarify these mechanisms, including the role of \u001b[0m\u001b[36m      \u001b[0m\u001b[36m \u001b[0m\u001b[36m│\u001b[0m\n",
              "\u001b[36m│\u001b[0m\u001b[36m \u001b[0m\u001b[36mgenetic, biochemical, and cerebral functional factors.\u001b[0m\u001b[36m                                                         \u001b[0m\u001b[36m \u001b[0m\u001b[36m│\u001b[0m\n",
              "\u001b[36m│\u001b[0m\u001b[36m \u001b[0m\u001b[36m                                                                                                               \u001b[0m\u001b[36m \u001b[0m\u001b[36m│\u001b[0m\n",
              "\u001b[36m│\u001b[0m\u001b[36m \u001b[0m\u001b[36mIn summary, fluid shifts and intracranial pressure changes are proposed and influential mechanisms behind SANS,\u001b[0m\u001b[36m \u001b[0m\u001b[36m│\u001b[0m\n",
              "\u001b[36m│\u001b[0m\u001b[36m \u001b[0m\u001b[36mbut researchers have not reached consensus that these are the definitive primary causes due to the complexity \u001b[0m\u001b[36m \u001b[0m\u001b[36m \u001b[0m\u001b[36m│\u001b[0m\n",
              "\u001b[36m│\u001b[0m\u001b[36m \u001b[0m\u001b[36mand incomplete understanding of the syndrome.\u001b[0m\u001b[36m                                                                  \u001b[0m\u001b[36m \u001b[0m\u001b[36m│\u001b[0m\n",
              "\u001b[36m│\u001b[0m\u001b[36m                                                                                                                 \u001b[0m\u001b[36m│\u001b[0m\n",
              "\u001b[36m╰─────────────────────────────────────────────────────────────────────────────────────────────────────────────────╯\u001b[0m\n"
            ],
            "text/html": [
              "<pre style=\"white-space:pre;overflow-x:auto;line-height:normal;font-family:Menlo,'DejaVu Sans Mono',consolas,'Courier New',monospace\"><span style=\"color: #008080; text-decoration-color: #008080\">╭────────────────────────────────────────────────</span> 📝 Final Answer <span style=\"color: #008080; text-decoration-color: #008080\">────────────────────────────────────────────────╮</span>\n",
              "<span style=\"color: #008080; text-decoration-color: #008080\">│                                                                                                                 │</span>\n",
              "<span style=\"color: #008080; text-decoration-color: #008080\">│ Spaceflight Associated Neuro-ocular Syndrome (SANS) is a condition experienced by astronauts characterized by   │</span>\n",
              "<span style=\"color: #008080; text-decoration-color: #008080\">│ ocular and neuro-ocular changes such as optic disc edema, globe flattening, choroidal folds, and vision         │</span>\n",
              "<span style=\"color: #008080; text-decoration-color: #008080\">│ changes. The proposed mechanisms behind SANS primarily involve cephalad fluid shifts caused by microgravity,    │</span>\n",
              "<span style=\"color: #008080; text-decoration-color: #008080\">│ which may lead to alterations in intracranial pressure (ICP). These fluid shifts are thought to cause           │</span>\n",
              "<span style=\"color: #008080; text-decoration-color: #008080\">│ structural and functional changes in neuro-ocular tissues and possibly brain functional organization. However,  │</span>\n",
              "<span style=\"color: #008080; text-decoration-color: #008080\">│ despite these hypotheses, the exact origin and underlying cause of SANS remain unclear.                         │</span>\n",
              "<span style=\"color: #008080; text-decoration-color: #008080\">│                                                                                                                 │</span>\n",
              "<span style=\"color: #008080; text-decoration-color: #008080\">│ Research indicates that SANS not only affects ocular structures but also impacts brain functional connectivity, │</span>\n",
              "<span style=\"color: #008080; text-decoration-color: #008080\">│ particularly in visual and multisensory integration networks, suggesting a broader neurophysiological           │</span>\n",
              "<span style=\"color: #008080; text-decoration-color: #008080\">│ alteration. Some studies have explored resting-state brain activity and functional connectivity differences in  │</span>\n",
              "<span style=\"color: #008080; text-decoration-color: #008080\">│ individuals who develop SANS, pointing to possible predisposing factors beyond fluid shifts and ICP.            │</span>\n",
              "<span style=\"color: #008080; text-decoration-color: #008080\">│                                                                                                                 │</span>\n",
              "<span style=\"color: #008080; text-decoration-color: #008080\">│ Regarding consensus, there is no full agreement among researchers that fluid shifts and increased intracranial  │</span>\n",
              "<span style=\"color: #008080; text-decoration-color: #008080\">│ pressure are the sole or primary causes of SANS. While these factors are central hypotheses, the exact          │</span>\n",
              "<span style=\"color: #008080; text-decoration-color: #008080\">│ mechanisms are not fully understood, and the condition’s pathophysiology involves complex interactions that are │</span>\n",
              "<span style=\"color: #008080; text-decoration-color: #008080\">│ still under investigation. Further research is needed to clarify these mechanisms, including the role of        │</span>\n",
              "<span style=\"color: #008080; text-decoration-color: #008080\">│ genetic, biochemical, and cerebral functional factors.                                                          │</span>\n",
              "<span style=\"color: #008080; text-decoration-color: #008080\">│                                                                                                                 │</span>\n",
              "<span style=\"color: #008080; text-decoration-color: #008080\">│ In summary, fluid shifts and intracranial pressure changes are proposed and influential mechanisms behind SANS, │</span>\n",
              "<span style=\"color: #008080; text-decoration-color: #008080\">│ but researchers have not reached consensus that these are the definitive primary causes due to the complexity   │</span>\n",
              "<span style=\"color: #008080; text-decoration-color: #008080\">│ and incomplete understanding of the syndrome.                                                                   │</span>\n",
              "<span style=\"color: #008080; text-decoration-color: #008080\">│                                                                                                                 │</span>\n",
              "<span style=\"color: #008080; text-decoration-color: #008080\">╰─────────────────────────────────────────────────────────────────────────────────────────────────────────────────╯</span>\n",
              "</pre>\n"
            ]
          },
          "metadata": {}
        },
        {
          "output_type": "display_data",
          "data": {
            "text/plain": [
              "\u001b[37m╭─\u001b[0m\u001b[37m──────────────────────────────────────────\u001b[0m 🔭 Searches Executed 1/2 \u001b[37m───────────────────────────────────────────\u001b[0m\u001b[37m─╮\u001b[0m\n",
              "\u001b[37m│\u001b[0m\u001b[37m                                                                                                                 \u001b[0m\u001b[37m│\u001b[0m\n",
              "\u001b[37m│\u001b[0m\u001b[37m \u001b[0m\u001b[1;35mQueryResultWithCollection\u001b[0m\u001b[1;37m(\u001b[0m\u001b[37m                                                                                     \u001b[0m\u001b[37m \u001b[0m\u001b[37m│\u001b[0m\n",
              "\u001b[37m│\u001b[0m\u001b[37m \u001b[0m\u001b[37m    \u001b[0m\u001b[33mqueries\u001b[0m\u001b[37m=\u001b[0m\u001b[1;37m[\u001b[0m\u001b[32m'proposed mechanisms behind SANS'\u001b[0m\u001b[1;37m]\u001b[0m\u001b[37m,\u001b[0m\u001b[37m                                                               \u001b[0m\u001b[37m \u001b[0m\u001b[37m│\u001b[0m\n",
              "\u001b[37m│\u001b[0m\u001b[37m \u001b[0m\u001b[37m    \u001b[0m\u001b[33mfilters\u001b[0m\u001b[37m=\u001b[0m\u001b[1;37m[\u001b[0m\u001b[1;37m[\u001b[0m\u001b[1;37m]\u001b[0m\u001b[1;37m]\u001b[0m\u001b[37m,\u001b[0m\u001b[37m                                                                                              \u001b[0m\u001b[37m \u001b[0m\u001b[37m│\u001b[0m\n",
              "\u001b[37m│\u001b[0m\u001b[37m \u001b[0m\u001b[37m    \u001b[0m\u001b[33mfilter_operators\u001b[0m\u001b[37m=\u001b[0m\u001b[32m'AND'\u001b[0m\u001b[37m,\u001b[0m\u001b[37m                                                                                    \u001b[0m\u001b[37m \u001b[0m\u001b[37m│\u001b[0m\n",
              "\u001b[37m│\u001b[0m\u001b[37m \u001b[0m\u001b[37m    \u001b[0m\u001b[33mcollection\u001b[0m\u001b[37m=\u001b[0m\u001b[32m'SpaceMedResearch'\u001b[0m\u001b[37m                                                                              \u001b[0m\u001b[37m \u001b[0m\u001b[37m│\u001b[0m\n",
              "\u001b[37m│\u001b[0m\u001b[37m \u001b[0m\u001b[1;37m)\u001b[0m\u001b[37m                                                                                                              \u001b[0m\u001b[37m \u001b[0m\u001b[37m│\u001b[0m\n",
              "\u001b[37m│\u001b[0m\u001b[37m                                                                                                                 \u001b[0m\u001b[37m│\u001b[0m\n",
              "\u001b[37m╰─────────────────────────────────────────────────────────────────────────────────────────────────────────────────╯\u001b[0m\n"
            ],
            "text/html": [
              "<pre style=\"white-space:pre;overflow-x:auto;line-height:normal;font-family:Menlo,'DejaVu Sans Mono',consolas,'Courier New',monospace\"><span style=\"color: #c0c0c0; text-decoration-color: #c0c0c0\">╭───────────────────────────────────────────</span> 🔭 Searches Executed 1/2 <span style=\"color: #c0c0c0; text-decoration-color: #c0c0c0\">────────────────────────────────────────────╮</span>\n",
              "<span style=\"color: #c0c0c0; text-decoration-color: #c0c0c0\">│                                                                                                                 │</span>\n",
              "<span style=\"color: #c0c0c0; text-decoration-color: #c0c0c0\">│ </span><span style=\"color: #800080; text-decoration-color: #800080; font-weight: bold\">QueryResultWithCollection</span><span style=\"color: #c0c0c0; text-decoration-color: #c0c0c0; font-weight: bold\">(</span><span style=\"color: #c0c0c0; text-decoration-color: #c0c0c0\">                                                                                      │</span>\n",
              "<span style=\"color: #c0c0c0; text-decoration-color: #c0c0c0\">│     </span><span style=\"color: #808000; text-decoration-color: #808000\">queries</span><span style=\"color: #c0c0c0; text-decoration-color: #c0c0c0\">=</span><span style=\"color: #c0c0c0; text-decoration-color: #c0c0c0; font-weight: bold\">[</span><span style=\"color: #008000; text-decoration-color: #008000\">'proposed mechanisms behind SANS'</span><span style=\"color: #c0c0c0; text-decoration-color: #c0c0c0; font-weight: bold\">]</span><span style=\"color: #c0c0c0; text-decoration-color: #c0c0c0\">,                                                                │</span>\n",
              "<span style=\"color: #c0c0c0; text-decoration-color: #c0c0c0\">│     </span><span style=\"color: #808000; text-decoration-color: #808000\">filters</span><span style=\"color: #c0c0c0; text-decoration-color: #c0c0c0\">=</span><span style=\"color: #c0c0c0; text-decoration-color: #c0c0c0; font-weight: bold\">[[]]</span><span style=\"color: #c0c0c0; text-decoration-color: #c0c0c0\">,                                                                                               │</span>\n",
              "<span style=\"color: #c0c0c0; text-decoration-color: #c0c0c0\">│     </span><span style=\"color: #808000; text-decoration-color: #808000\">filter_operators</span><span style=\"color: #c0c0c0; text-decoration-color: #c0c0c0\">=</span><span style=\"color: #008000; text-decoration-color: #008000\">'AND'</span><span style=\"color: #c0c0c0; text-decoration-color: #c0c0c0\">,                                                                                     │</span>\n",
              "<span style=\"color: #c0c0c0; text-decoration-color: #c0c0c0\">│     </span><span style=\"color: #808000; text-decoration-color: #808000\">collection</span><span style=\"color: #c0c0c0; text-decoration-color: #c0c0c0\">=</span><span style=\"color: #008000; text-decoration-color: #008000\">'SpaceMedResearch'</span><span style=\"color: #c0c0c0; text-decoration-color: #c0c0c0\">                                                                               │</span>\n",
              "<span style=\"color: #c0c0c0; text-decoration-color: #c0c0c0\">│ </span><span style=\"color: #c0c0c0; text-decoration-color: #c0c0c0; font-weight: bold\">)</span><span style=\"color: #c0c0c0; text-decoration-color: #c0c0c0\">                                                                                                               │</span>\n",
              "<span style=\"color: #c0c0c0; text-decoration-color: #c0c0c0\">│                                                                                                                 │</span>\n",
              "<span style=\"color: #c0c0c0; text-decoration-color: #c0c0c0\">╰─────────────────────────────────────────────────────────────────────────────────────────────────────────────────╯</span>\n",
              "</pre>\n"
            ]
          },
          "metadata": {}
        },
        {
          "output_type": "display_data",
          "data": {
            "text/plain": [
              "\u001b[37m╭─\u001b[0m\u001b[37m──────────────────────────────────────────\u001b[0m 🔭 Searches Executed 2/2 \u001b[37m───────────────────────────────────────────\u001b[0m\u001b[37m─╮\u001b[0m\n",
              "\u001b[37m│\u001b[0m\u001b[37m                                                                                                                 \u001b[0m\u001b[37m│\u001b[0m\n",
              "\u001b[37m│\u001b[0m\u001b[37m \u001b[0m\u001b[1;35mQueryResultWithCollection\u001b[0m\u001b[1;37m(\u001b[0m\u001b[37m                                                                                     \u001b[0m\u001b[37m \u001b[0m\u001b[37m│\u001b[0m\n",
              "\u001b[37m│\u001b[0m\u001b[37m \u001b[0m\u001b[37m    \u001b[0m\u001b[33mqueries\u001b[0m\u001b[37m=\u001b[0m\u001b[1;37m[\u001b[0m\u001b[37m                                                                                                  \u001b[0m\u001b[37m \u001b[0m\u001b[37m│\u001b[0m\n",
              "\u001b[37m│\u001b[0m\u001b[37m \u001b[0m\u001b[37m        \u001b[0m\u001b[32m'researchers agreement on fluid shifts as causes of Spaceflight Associated Neuro-ocular Syndrome'\u001b[0m\u001b[37m,\u001b[0m\u001b[37m     \u001b[0m\u001b[37m \u001b[0m\u001b[37m│\u001b[0m\n",
              "\u001b[37m│\u001b[0m\u001b[37m \u001b[0m\u001b[37m        \u001b[0m\u001b[32m'researchers agreement on intracranial pressure as causes of Spaceflight Associated Neuro-ocular \u001b[0m\u001b[37m      \u001b[0m\u001b[37m \u001b[0m\u001b[37m│\u001b[0m\n",
              "\u001b[37m│\u001b[0m\u001b[37m \u001b[0m\u001b[32mSyndrome'\u001b[0m\u001b[37m                                                                                                      \u001b[0m\u001b[37m \u001b[0m\u001b[37m│\u001b[0m\n",
              "\u001b[37m│\u001b[0m\u001b[37m \u001b[0m\u001b[37m    \u001b[0m\u001b[1;37m]\u001b[0m\u001b[37m,\u001b[0m\u001b[37m                                                                                                         \u001b[0m\u001b[37m \u001b[0m\u001b[37m│\u001b[0m\n",
              "\u001b[37m│\u001b[0m\u001b[37m \u001b[0m\u001b[37m    \u001b[0m\u001b[33mfilters\u001b[0m\u001b[37m=\u001b[0m\u001b[1;37m[\u001b[0m\u001b[1;37m[\u001b[0m\u001b[1;37m]\u001b[0m\u001b[37m, \u001b[0m\u001b[1;37m[\u001b[0m\u001b[1;37m]\u001b[0m\u001b[1;37m]\u001b[0m\u001b[37m,\u001b[0m\u001b[37m                                                                                          \u001b[0m\u001b[37m \u001b[0m\u001b[37m│\u001b[0m\n",
              "\u001b[37m│\u001b[0m\u001b[37m \u001b[0m\u001b[37m    \u001b[0m\u001b[33mfilter_operators\u001b[0m\u001b[37m=\u001b[0m\u001b[32m'AND'\u001b[0m\u001b[37m,\u001b[0m\u001b[37m                                                                                    \u001b[0m\u001b[37m \u001b[0m\u001b[37m│\u001b[0m\n",
              "\u001b[37m│\u001b[0m\u001b[37m \u001b[0m\u001b[37m    \u001b[0m\u001b[33mcollection\u001b[0m\u001b[37m=\u001b[0m\u001b[32m'SpaceMedResearch'\u001b[0m\u001b[37m                                                                              \u001b[0m\u001b[37m \u001b[0m\u001b[37m│\u001b[0m\n",
              "\u001b[37m│\u001b[0m\u001b[37m \u001b[0m\u001b[1;37m)\u001b[0m\u001b[37m                                                                                                              \u001b[0m\u001b[37m \u001b[0m\u001b[37m│\u001b[0m\n",
              "\u001b[37m│\u001b[0m\u001b[37m                                                                                                                 \u001b[0m\u001b[37m│\u001b[0m\n",
              "\u001b[37m╰─────────────────────────────────────────────────────────────────────────────────────────────────────────────────╯\u001b[0m\n"
            ],
            "text/html": [
              "<pre style=\"white-space:pre;overflow-x:auto;line-height:normal;font-family:Menlo,'DejaVu Sans Mono',consolas,'Courier New',monospace\"><span style=\"color: #c0c0c0; text-decoration-color: #c0c0c0\">╭───────────────────────────────────────────</span> 🔭 Searches Executed 2/2 <span style=\"color: #c0c0c0; text-decoration-color: #c0c0c0\">────────────────────────────────────────────╮</span>\n",
              "<span style=\"color: #c0c0c0; text-decoration-color: #c0c0c0\">│                                                                                                                 │</span>\n",
              "<span style=\"color: #c0c0c0; text-decoration-color: #c0c0c0\">│ </span><span style=\"color: #800080; text-decoration-color: #800080; font-weight: bold\">QueryResultWithCollection</span><span style=\"color: #c0c0c0; text-decoration-color: #c0c0c0; font-weight: bold\">(</span><span style=\"color: #c0c0c0; text-decoration-color: #c0c0c0\">                                                                                      │</span>\n",
              "<span style=\"color: #c0c0c0; text-decoration-color: #c0c0c0\">│     </span><span style=\"color: #808000; text-decoration-color: #808000\">queries</span><span style=\"color: #c0c0c0; text-decoration-color: #c0c0c0\">=</span><span style=\"color: #c0c0c0; text-decoration-color: #c0c0c0; font-weight: bold\">[</span><span style=\"color: #c0c0c0; text-decoration-color: #c0c0c0\">                                                                                                   │</span>\n",
              "<span style=\"color: #c0c0c0; text-decoration-color: #c0c0c0\">│         </span><span style=\"color: #008000; text-decoration-color: #008000\">'researchers agreement on fluid shifts as causes of Spaceflight Associated Neuro-ocular Syndrome'</span><span style=\"color: #c0c0c0; text-decoration-color: #c0c0c0\">,      │</span>\n",
              "<span style=\"color: #c0c0c0; text-decoration-color: #c0c0c0\">│         </span><span style=\"color: #008000; text-decoration-color: #008000\">'researchers agreement on intracranial pressure as causes of Spaceflight Associated Neuro-ocular </span><span style=\"color: #c0c0c0; text-decoration-color: #c0c0c0\">       │</span>\n",
              "<span style=\"color: #c0c0c0; text-decoration-color: #c0c0c0\">│ </span><span style=\"color: #008000; text-decoration-color: #008000\">Syndrome'</span><span style=\"color: #c0c0c0; text-decoration-color: #c0c0c0\">                                                                                                       │</span>\n",
              "<span style=\"color: #c0c0c0; text-decoration-color: #c0c0c0\">│     </span><span style=\"color: #c0c0c0; text-decoration-color: #c0c0c0; font-weight: bold\">]</span><span style=\"color: #c0c0c0; text-decoration-color: #c0c0c0\">,                                                                                                          │</span>\n",
              "<span style=\"color: #c0c0c0; text-decoration-color: #c0c0c0\">│     </span><span style=\"color: #808000; text-decoration-color: #808000\">filters</span><span style=\"color: #c0c0c0; text-decoration-color: #c0c0c0\">=</span><span style=\"color: #c0c0c0; text-decoration-color: #c0c0c0; font-weight: bold\">[[]</span><span style=\"color: #c0c0c0; text-decoration-color: #c0c0c0\">, </span><span style=\"color: #c0c0c0; text-decoration-color: #c0c0c0; font-weight: bold\">[]]</span><span style=\"color: #c0c0c0; text-decoration-color: #c0c0c0\">,                                                                                           │</span>\n",
              "<span style=\"color: #c0c0c0; text-decoration-color: #c0c0c0\">│     </span><span style=\"color: #808000; text-decoration-color: #808000\">filter_operators</span><span style=\"color: #c0c0c0; text-decoration-color: #c0c0c0\">=</span><span style=\"color: #008000; text-decoration-color: #008000\">'AND'</span><span style=\"color: #c0c0c0; text-decoration-color: #c0c0c0\">,                                                                                     │</span>\n",
              "<span style=\"color: #c0c0c0; text-decoration-color: #c0c0c0\">│     </span><span style=\"color: #808000; text-decoration-color: #808000\">collection</span><span style=\"color: #c0c0c0; text-decoration-color: #c0c0c0\">=</span><span style=\"color: #008000; text-decoration-color: #008000\">'SpaceMedResearch'</span><span style=\"color: #c0c0c0; text-decoration-color: #c0c0c0\">                                                                               │</span>\n",
              "<span style=\"color: #c0c0c0; text-decoration-color: #c0c0c0\">│ </span><span style=\"color: #c0c0c0; text-decoration-color: #c0c0c0; font-weight: bold\">)</span><span style=\"color: #c0c0c0; text-decoration-color: #c0c0c0\">                                                                                                               │</span>\n",
              "<span style=\"color: #c0c0c0; text-decoration-color: #c0c0c0\">│                                                                                                                 │</span>\n",
              "<span style=\"color: #c0c0c0; text-decoration-color: #c0c0c0\">╰─────────────────────────────────────────────────────────────────────────────────────────────────────────────────╯</span>\n",
              "</pre>\n"
            ]
          },
          "metadata": {}
        },
        {
          "output_type": "display_data",
          "data": {
            "text/plain": [
              "\u001b[38;5;167m╭─────────────────────────────────────────────────────────────────────────────────────────────────────────────────╮\u001b[0m\n",
              "\u001b[38;5;167m│\u001b[0m\u001b[38;5;167m                                                                                                                 \u001b[0m\u001b[38;5;167m│\u001b[0m\n",
              "\u001b[38;5;167m│\u001b[0m\u001b[38;5;167m \u001b[0m\u001b[38;5;167m📊 No Aggregations Run\u001b[0m\u001b[38;5;167m                                                                                         \u001b[0m\u001b[38;5;167m \u001b[0m\u001b[38;5;167m│\u001b[0m\n",
              "\u001b[38;5;167m│\u001b[0m\u001b[38;5;167m                                                                                                                 \u001b[0m\u001b[38;5;167m│\u001b[0m\n",
              "\u001b[38;5;167m╰─────────────────────────────────────────────────────────────────────────────────────────────────────────────────╯\u001b[0m\n"
            ],
            "text/html": [
              "<pre style=\"white-space:pre;overflow-x:auto;line-height:normal;font-family:Menlo,'DejaVu Sans Mono',consolas,'Courier New',monospace\"><span style=\"color: #d75f5f; text-decoration-color: #d75f5f\">╭─────────────────────────────────────────────────────────────────────────────────────────────────────────────────╮</span>\n",
              "<span style=\"color: #d75f5f; text-decoration-color: #d75f5f\">│                                                                                                                 │</span>\n",
              "<span style=\"color: #d75f5f; text-decoration-color: #d75f5f\">│ 📊 No Aggregations Run                                                                                          │</span>\n",
              "<span style=\"color: #d75f5f; text-decoration-color: #d75f5f\">│                                                                                                                 │</span>\n",
              "<span style=\"color: #d75f5f; text-decoration-color: #d75f5f\">╰─────────────────────────────────────────────────────────────────────────────────────────────────────────────────╯</span>\n",
              "</pre>\n"
            ]
          },
          "metadata": {}
        },
        {
          "output_type": "display_data",
          "data": {
            "text/plain": [
              "\u001b[33m╭─\u001b[0m\u001b[33m───────────────────────────────────────────\u001b[0m ⚠️ Missing Information: \u001b[33m────────────────────────────────────────────\u001b[0m\u001b[33m─╮\u001b[0m\n",
              "\u001b[33m│\u001b[0m\u001b[33m                                                                                                                 \u001b[0m\u001b[33m│\u001b[0m\n",
              "\u001b[33m│\u001b[0m\u001b[33m \u001b[0m\u001b[33m- Specific detailed mechanisms beyond fluid shifts and ICP\u001b[0m\u001b[33m                                                     \u001b[0m\u001b[33m \u001b[0m\u001b[33m│\u001b[0m\n",
              "\u001b[33m│\u001b[0m\u001b[33m \u001b[0m\u001b[33m- Consensus statements or reviews explicitly addressing researcher agreement\u001b[0m\u001b[33m                                   \u001b[0m\u001b[33m \u001b[0m\u001b[33m│\u001b[0m\n",
              "\u001b[33m│\u001b[0m\u001b[33m                                                                                                                 \u001b[0m\u001b[33m│\u001b[0m\n",
              "\u001b[33m╰─────────────────────────────────────────────────────────────────────────────────────────────────────────────────╯\u001b[0m\n"
            ],
            "text/html": [
              "<pre style=\"white-space:pre;overflow-x:auto;line-height:normal;font-family:Menlo,'DejaVu Sans Mono',consolas,'Courier New',monospace\"><span style=\"color: #808000; text-decoration-color: #808000\">╭────────────────────────────────────────────</span> ⚠️ Missing Information: <span style=\"color: #808000; text-decoration-color: #808000\">─────────────────────────────────────────────╮</span>\n",
              "<span style=\"color: #808000; text-decoration-color: #808000\">│                                                                                                                 │</span>\n",
              "<span style=\"color: #808000; text-decoration-color: #808000\">│ - Specific detailed mechanisms beyond fluid shifts and ICP                                                      │</span>\n",
              "<span style=\"color: #808000; text-decoration-color: #808000\">│ - Consensus statements or reviews explicitly addressing researcher agreement                                    │</span>\n",
              "<span style=\"color: #808000; text-decoration-color: #808000\">│                                                                                                                 │</span>\n",
              "<span style=\"color: #808000; text-decoration-color: #808000\">╰─────────────────────────────────────────────────────────────────────────────────────────────────────────────────╯</span>\n",
              "</pre>\n"
            ]
          },
          "metadata": {}
        },
        {
          "output_type": "display_data",
          "data": {
            "text/plain": [
              "\u001b[37m╭─\u001b[0m\u001b[37m─────────────────────────────────────────────────\u001b[0m 📚 Sources \u001b[37m──────────────────────────────────────────────────\u001b[0m\u001b[37m─╮\u001b[0m\n",
              "\u001b[37m│\u001b[0m\u001b[37m                                                                                                                 \u001b[0m\u001b[37m│\u001b[0m\n",
              "\u001b[37m│\u001b[0m\u001b[37m \u001b[0m\u001b[37m - object_id='90079f47-00d4-5f18-b61e-d25e2f8ffb39' collection='SpaceMedResearch'\u001b[0m\u001b[37m                              \u001b[0m\u001b[37m \u001b[0m\u001b[37m│\u001b[0m\n",
              "\u001b[37m│\u001b[0m\u001b[37m \u001b[0m\u001b[37m - object_id='0a6ffb58-aabf-5332-9dc1-f97729c66bc9' collection='SpaceMedResearch'\u001b[0m\u001b[37m                              \u001b[0m\u001b[37m \u001b[0m\u001b[37m│\u001b[0m\n",
              "\u001b[37m│\u001b[0m\u001b[37m \u001b[0m\u001b[37m - object_id='92b1e99f-2e10-50f5-a7cf-96e01e18882d' collection='SpaceMedResearch'\u001b[0m\u001b[37m                              \u001b[0m\u001b[37m \u001b[0m\u001b[37m│\u001b[0m\n",
              "\u001b[37m│\u001b[0m\u001b[37m \u001b[0m\u001b[37m - object_id='ed315c46-2ed6-5a88-b60e-bf3cb553e123' collection='SpaceMedResearch'\u001b[0m\u001b[37m                              \u001b[0m\u001b[37m \u001b[0m\u001b[37m│\u001b[0m\n",
              "\u001b[37m│\u001b[0m\u001b[37m \u001b[0m\u001b[37m - object_id='fe500fa7-397e-5aed-bbeb-bf64808ba903' collection='SpaceMedResearch'\u001b[0m\u001b[37m                              \u001b[0m\u001b[37m \u001b[0m\u001b[37m│\u001b[0m\n",
              "\u001b[37m│\u001b[0m\u001b[37m \u001b[0m\u001b[37m - object_id='7a58ed26-c684-5489-ada9-5d67f4c8aafc' collection='SpaceMedResearch'\u001b[0m\u001b[37m                              \u001b[0m\u001b[37m \u001b[0m\u001b[37m│\u001b[0m\n",
              "\u001b[37m│\u001b[0m\u001b[37m \u001b[0m\u001b[37m - object_id='baddfb84-e9c8-58da-bf89-88a11df28013' collection='SpaceMedResearch'\u001b[0m\u001b[37m                              \u001b[0m\u001b[37m \u001b[0m\u001b[37m│\u001b[0m\n",
              "\u001b[37m│\u001b[0m\u001b[37m                                                                                                                 \u001b[0m\u001b[37m│\u001b[0m\n",
              "\u001b[37m╰─────────────────────────────────────────────────────────────────────────────────────────────────────────────────╯\u001b[0m\n"
            ],
            "text/html": [
              "<pre style=\"white-space:pre;overflow-x:auto;line-height:normal;font-family:Menlo,'DejaVu Sans Mono',consolas,'Courier New',monospace\"><span style=\"color: #c0c0c0; text-decoration-color: #c0c0c0\">╭──────────────────────────────────────────────────</span> 📚 Sources <span style=\"color: #c0c0c0; text-decoration-color: #c0c0c0\">───────────────────────────────────────────────────╮</span>\n",
              "<span style=\"color: #c0c0c0; text-decoration-color: #c0c0c0\">│                                                                                                                 │</span>\n",
              "<span style=\"color: #c0c0c0; text-decoration-color: #c0c0c0\">│  - object_id='90079f47-00d4-5f18-b61e-d25e2f8ffb39' collection='SpaceMedResearch'                               │</span>\n",
              "<span style=\"color: #c0c0c0; text-decoration-color: #c0c0c0\">│  - object_id='0a6ffb58-aabf-5332-9dc1-f97729c66bc9' collection='SpaceMedResearch'                               │</span>\n",
              "<span style=\"color: #c0c0c0; text-decoration-color: #c0c0c0\">│  - object_id='92b1e99f-2e10-50f5-a7cf-96e01e18882d' collection='SpaceMedResearch'                               │</span>\n",
              "<span style=\"color: #c0c0c0; text-decoration-color: #c0c0c0\">│  - object_id='ed315c46-2ed6-5a88-b60e-bf3cb553e123' collection='SpaceMedResearch'                               │</span>\n",
              "<span style=\"color: #c0c0c0; text-decoration-color: #c0c0c0\">│  - object_id='fe500fa7-397e-5aed-bbeb-bf64808ba903' collection='SpaceMedResearch'                               │</span>\n",
              "<span style=\"color: #c0c0c0; text-decoration-color: #c0c0c0\">│  - object_id='7a58ed26-c684-5489-ada9-5d67f4c8aafc' collection='SpaceMedResearch'                               │</span>\n",
              "<span style=\"color: #c0c0c0; text-decoration-color: #c0c0c0\">│  - object_id='baddfb84-e9c8-58da-bf89-88a11df28013' collection='SpaceMedResearch'                               │</span>\n",
              "<span style=\"color: #c0c0c0; text-decoration-color: #c0c0c0\">│                                                                                                                 │</span>\n",
              "<span style=\"color: #c0c0c0; text-decoration-color: #c0c0c0\">╰─────────────────────────────────────────────────────────────────────────────────────────────────────────────────╯</span>\n",
              "</pre>\n"
            ]
          },
          "metadata": {}
        },
        {
          "output_type": "stream",
          "name": "stdout",
          "text": [
            "\n",
            "\n"
          ]
        },
        {
          "output_type": "display_data",
          "data": {
            "text/plain": [
              "\u001b[3m   📊 Usage Statistics   \u001b[0m\n",
              "┌────────────────┬──────┐\n",
              "│ LLM Requests:  │ 4    │\n",
              "│ Input Tokens:  │ 6587 │\n",
              "│ Output Tokens: │ 553  │\n",
              "│ Total Tokens:  │ 7140 │\n",
              "└────────────────┴──────┘\n"
            ],
            "text/html": [
              "<pre style=\"white-space:pre;overflow-x:auto;line-height:normal;font-family:Menlo,'DejaVu Sans Mono',consolas,'Courier New',monospace\"><span style=\"font-style: italic\">   📊 Usage Statistics   </span>\n",
              "┌────────────────┬──────┐\n",
              "│ LLM Requests:  │ 4    │\n",
              "│ Input Tokens:  │ 6587 │\n",
              "│ Output Tokens: │ 553  │\n",
              "│ Total Tokens:  │ 7140 │\n",
              "└────────────────┴──────┘\n",
              "</pre>\n"
            ]
          },
          "metadata": {}
        },
        {
          "output_type": "display_data",
          "data": {
            "text/plain": [
              "\n",
              "\u001b[1;36mTotal Time Taken:\u001b[0m\u001b[36m \u001b[0m\u001b[1;36m9.\u001b[0m\u001b[36m58s\u001b[0m\n"
            ],
            "text/html": [
              "<pre style=\"white-space:pre;overflow-x:auto;line-height:normal;font-family:Menlo,'DejaVu Sans Mono',consolas,'Courier New',monospace\">\n",
              "<span style=\"color: #008080; text-decoration-color: #008080; font-weight: bold\">Total Time Taken:</span><span style=\"color: #008080; text-decoration-color: #008080\"> </span><span style=\"color: #008080; text-decoration-color: #008080; font-weight: bold\">9.</span><span style=\"color: #008080; text-decoration-color: #008080\">58s</span>\n",
              "</pre>\n"
            ]
          },
          "metadata": {}
        }
      ]
    },
    {
      "cell_type": "code",
      "source": [],
      "metadata": {
        "id": "H2JhCJrfyWO9"
      },
      "execution_count": null,
      "outputs": []
    }
  ]
}